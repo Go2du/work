{
  "nbformat": 4,
  "nbformat_minor": 0,
  "metadata": {
    "colab": {
      "provenance": [],
      "collapsed_sections": [
        "JyOJ8To-1bc_",
        "lDc3EoeX1bdT",
        "JRHC60f_1bds",
        "4OrH6D8J1beQ",
        "P7Z3p9DB1bep",
        "z6I3h61t1bgF",
        "lz7UNvMl1bhw",
        "ePxxh9jO1biG",
        "GuIhXIirxi6L",
        "l1d7EGwU1bid",
        "a2LRscEj1biy",
        "ltLwGawH1bi6",
        "EAf8Fz4G1bjX",
        "rhSrYkTPaMBV",
        "XuogqjNRapJf",
        "rtcYkebBvIOZ",
        "e2m0hPmVvIOf",
        "a0p9Ns8YvIOk",
        "qgxUCEwwa4nk",
        "kxrILtKPuIaW"
      ],
      "toc_visible": true,
      "include_colab_link": true
    },
    "kernelspec": {
      "display_name": "Python 3",
      "language": "python",
      "name": "python3"
    },
    "language_info": {
      "codemirror_mode": {
        "name": "ipython",
        "version": 3
      },
      "file_extension": ".py",
      "mimetype": "text/x-python",
      "name": "python",
      "nbconvert_exporter": "python",
      "pygments_lexer": "ipython3",
      "version": "3.6.5"
    }
  },
  "cells": [
    {
      "cell_type": "markdown",
      "metadata": {
        "id": "view-in-github",
        "colab_type": "text"
      },
      "source": [
        "<a href=\"https://colab.research.google.com/github/Go2du/work/blob/main/Copy_of_Basic_Python_Programming_DBS.ipynb\" target=\"_parent\"><img src=\"https://colab.research.google.com/assets/colab-badge.svg\" alt=\"Open In Colab\"/></a>"
      ]
    },
    {
      "cell_type": "markdown",
      "metadata": {
        "id": "CqLdhW95XQY9"
      },
      "source": [
        "# Identifiers\n",
        "\n",
        "An identifier is a name given to entities like class, functions, variables, etc.\n",
        "You must follow these rules for writing identifiers:\n",
        "It can be a combination of letters in lowercase (a to z) or uppercase (A to Z) or digits (0 to 9) or an underscore _. Valid examples are my_Var, Class_1, it_is_a_variable.\n",
        "It can be of any length.\n",
        "It cannot start with a digit.\n",
        "Keywords cannot be used as identifiers.\n",
        "It cannot have special symbols like @, $, #, %, !, etc."
      ]
    },
    {
      "cell_type": "markdown",
      "metadata": {
        "id": "qK5tWfqCXX0E"
      },
      "source": [
        "# Creating a variable\n",
        "\n",
        "Unlike other programming languages, Python does not need a variable declaration. A variable is created the instant a value is assigned to it.\n",
        "\n",
        "Examples –\n",
        "\n",
        "x = 100\n",
        "\n",
        "my_Name = “Dibyendu”\n"
      ]
    },
    {
      "cell_type": "markdown",
      "metadata": {
        "id": "cGj2WLd91bbb"
      },
      "source": [
        "# Keywords\n",
        "\n",
        "Python has a set of 33 keywords. Keywords are reserved words and hence they cannot be used as names for variables, classes, functions or any other identifiers. Remember, all keywords except True, False and None are written in lowercase characters.\n",
        "\n",
        "The keywords are -\n",
        "\n",
        "and, as, assert, break, class, continue, def, del, elif, else, except, False, finally, for, from, global, if, import, in, is, lambda, None, nonlocal, not, or, pass, raise, return, True, try, while, with, yield."
      ]
    },
    {
      "cell_type": "markdown",
      "metadata": {
        "id": "rGxfM7Wp1bbj"
      },
      "source": [
        "# Operators in Python:\n",
        "\n",
        "Arithmetic Operators   (+, -, *, /, %, **, //)\n",
        "\n",
        "Comparison (Relational) Operators   (==, !=, <>, >, <, >=, <=)\n",
        "\n",
        "Assignment Operators   (=, +=, -=, *=, /=, %=, **=, //=)\n",
        "\n",
        "Logical Operators   (and, or, not)\n",
        "\n",
        "Bitwise Operators   (&, |, ^, ~, << >>)\n",
        "\n",
        "Membership Operators   (in, not in)\n",
        "\n",
        "Identity Operators   (is, is not)"
      ]
    },
    {
      "cell_type": "markdown",
      "metadata": {
        "id": "5-tEOG2p1bbo"
      },
      "source": [
        "# Basic Computations"
      ]
    },
    {
      "cell_type": "code",
      "metadata": {
        "colab": {
          "base_uri": "https://localhost:8080/"
        },
        "id": "aTsaqS6S1bbq",
        "outputId": "240a0f5d-094c-47b8-c439-a340c4d9c29d"
      },
      "source": [
        "a=10\n",
        "b=20\n",
        "c=a+b\n",
        "print(c)"
      ],
      "execution_count": null,
      "outputs": [
        {
          "output_type": "stream",
          "name": "stdout",
          "text": [
            "30\n"
          ]
        }
      ]
    },
    {
      "cell_type": "code",
      "metadata": {
        "id": "4kzNA-1Y1bb9",
        "colab": {
          "base_uri": "https://localhost:8080/"
        },
        "outputId": "423559b0-d155-4e64-d2e5-b33d29aa5e14"
      },
      "source": [
        "a=10\n",
        "a+=1\n",
        "print(a)"
      ],
      "execution_count": null,
      "outputs": [
        {
          "output_type": "stream",
          "name": "stdout",
          "text": [
            "11\n"
          ]
        }
      ]
    },
    {
      "cell_type": "code",
      "metadata": {
        "id": "v864nPNl1bcL",
        "colab": {
          "base_uri": "https://localhost:8080/"
        },
        "outputId": "6d1ff929-1d37-43df-df89-6f98b6d6b5c1"
      },
      "source": [
        "print(3!=2)"
      ],
      "execution_count": null,
      "outputs": [
        {
          "output_type": "stream",
          "name": "stdout",
          "text": [
            "True\n"
          ]
        }
      ]
    },
    {
      "cell_type": "markdown",
      "metadata": {
        "id": "YAfClqCP1bcV"
      },
      "source": [
        "# Receiving Input:"
      ]
    },
    {
      "cell_type": "code",
      "metadata": {
        "id": "F_ua6glW1bcX",
        "colab": {
          "base_uri": "https://localhost:8080/"
        },
        "outputId": "cef9b357-1353-4688-893c-f18361df28de"
      },
      "source": [
        "first_name = input(\"What is your first name? \") #first_name\n",
        "last_name = input(\"What is your last name? \") #last_name\n",
        "print(f\"My name is: {first_name} {last_name}\")  #f-strings"
      ],
      "execution_count": null,
      "outputs": [
        {
          "output_type": "stream",
          "name": "stdout",
          "text": [
            "What is your first name? Dibyendu\n",
            "What is your last name? Seal\n",
            "My name is: Dibyendu Seal\n"
          ]
        }
      ]
    },
    {
      "cell_type": "code",
      "metadata": {
        "id": "HTHl-yd91bcj",
        "colab": {
          "base_uri": "https://localhost:8080/"
        },
        "outputId": "221e2ee6-5445-457b-9a25-a030671d0e08"
      },
      "source": [
        "num=input('Enter a number: ')\n",
        "print(f\"The number is: {num}\")"
      ],
      "execution_count": null,
      "outputs": [
        {
          "output_type": "stream",
          "name": "stdout",
          "text": [
            "Enter a number: 20\n",
            "The number is: 20\n"
          ]
        }
      ]
    },
    {
      "cell_type": "markdown",
      "metadata": {
        "id": "6BO8UNAY1bcu"
      },
      "source": [
        "# Type Conversion:"
      ]
    },
    {
      "cell_type": "code",
      "source": [
        "n = input(\"enter a number: \")\n",
        "#n+=10\n",
        "type(n)"
      ],
      "metadata": {
        "colab": {
          "base_uri": "https://localhost:8080/"
        },
        "id": "hYy2jfjS5yUh",
        "outputId": "55785756-e64a-4a00-e1c6-c59e3c6d214b"
      },
      "execution_count": null,
      "outputs": [
        {
          "name": "stdout",
          "output_type": "stream",
          "text": [
            "enter a number: 10\n"
          ]
        },
        {
          "output_type": "execute_result",
          "data": {
            "text/plain": [
              "str"
            ]
          },
          "metadata": {},
          "execution_count": 9
        }
      ]
    },
    {
      "cell_type": "code",
      "metadata": {
        "colab": {
          "base_uri": "https://localhost:8080/"
        },
        "id": "lZj_lFe_ZMe2",
        "outputId": "88238f00-5710-4728-f3c0-8a6faa46b9d1"
      },
      "source": [
        "num=input('Enter a number: ')\n",
        "#num+=10   #error\n",
        "print(type(num))\n",
        "num=int(num)\n",
        "num+=10\n",
        "print(num)"
      ],
      "execution_count": null,
      "outputs": [
        {
          "output_type": "stream",
          "name": "stdout",
          "text": [
            "Enter a number: 10\n",
            "<class 'str'>\n",
            "20\n"
          ]
        }
      ]
    },
    {
      "cell_type": "code",
      "source": [
        "a=int(input('Enter the first value: '))\n",
        "b=int(input('Ener the second number: '))\n",
        "print('The first number is {0}\\nThe second number is {1}'.format(a,b))"
      ],
      "metadata": {
        "colab": {
          "base_uri": "https://localhost:8080/"
        },
        "id": "NEwNETxE5c_J",
        "outputId": "bacc4c69-566e-4533-ffe3-446d803363ed"
      },
      "execution_count": null,
      "outputs": [
        {
          "output_type": "stream",
          "name": "stdout",
          "text": [
            "Enter the first value: 10\n",
            "Ener the second number: 20\n",
            "The first number is 10\n",
            "The second number is 20\n"
          ]
        }
      ]
    },
    {
      "cell_type": "code",
      "source": [
        "a,b=input('Enter two numbers: ').split(' ')"
      ],
      "metadata": {
        "colab": {
          "base_uri": "https://localhost:8080/"
        },
        "id": "Mzzdkasx7I7_",
        "outputId": "8192f2ea-db37-419b-f1a9-c056415cbb5d"
      },
      "execution_count": null,
      "outputs": [
        {
          "name": "stdout",
          "output_type": "stream",
          "text": [
            "Enter two numbers: 3 4\n"
          ]
        }
      ]
    },
    {
      "cell_type": "code",
      "source": [
        "a,b=input('Enter two numbers: ').split(',')\n",
        "a,b = int(a),int(b)\n",
        "a+=1\n",
        "b+=2\n",
        "print('{0}\\n{1}'.format(a,b))"
      ],
      "metadata": {
        "colab": {
          "base_uri": "https://localhost:8080/"
        },
        "id": "Ltkd5GFs6YSg",
        "outputId": "340ade91-2631-442f-99d7-4f3aea059943"
      },
      "execution_count": null,
      "outputs": [
        {
          "output_type": "stream",
          "name": "stdout",
          "text": [
            "Enter two numbers: 5,6\n",
            "6\n",
            "8\n"
          ]
        }
      ]
    },
    {
      "cell_type": "code",
      "source": [
        "a,b=input('Enter two numbers: ').split(',')\n",
        "a,b = int(a),int(b)\n",
        "a,b = b,a\n",
        "print('a={0}\\nb={1}'.format(a,b))"
      ],
      "metadata": {
        "colab": {
          "base_uri": "https://localhost:8080/"
        },
        "id": "Xd8L-vAA7oFj",
        "outputId": "897d2c94-8523-47ae-90d8-b310e43a3edb"
      },
      "execution_count": null,
      "outputs": [
        {
          "output_type": "stream",
          "name": "stdout",
          "text": [
            "Enter two numbers: 2,3\n",
            "a=3\n",
            "b=2\n"
          ]
        }
      ]
    },
    {
      "cell_type": "code",
      "metadata": {
        "id": "ok_ilIpN1bcv",
        "colab": {
          "base_uri": "https://localhost:8080/"
        },
        "outputId": "5ca0aa02-7b9c-4c2a-f4c9-744aa307dd8d"
      },
      "source": [
        "# Python always takes input as a string. Except string there also available integer, float, boolean types.\n",
        "\n",
        "year=input(\"Enter your birth_year: \")\n",
        "print(type(year)) # type() returns the type of the variable."
      ],
      "execution_count": null,
      "outputs": [
        {
          "output_type": "stream",
          "name": "stdout",
          "text": [
            "Enter your birth_year: 1987\n",
            "<class 'str'>\n"
          ]
        }
      ]
    },
    {
      "cell_type": "code",
      "metadata": {
        "id": "pIXA7u811bc4",
        "colab": {
          "base_uri": "https://localhost:8080/"
        },
        "outputId": "c9bd399d-e844-4c59-d6da-7a46902ed1da"
      },
      "source": [
        "# Calculate your age.\n",
        "from datetime import date\n",
        "\n",
        "year=input(\"Enter your birth_year: \")\n",
        "print(\"Your current age is: {}\".format(date.today().year-int(year)))\n",
        "\n",
        "# Similarly, use float() or bool() to convert into float or bool"
      ],
      "execution_count": null,
      "outputs": [
        {
          "output_type": "stream",
          "text": [
            "Enter your birth_year: 1987\n",
            "Your cuurrent age is: 34\n"
          ],
          "name": "stdout"
        }
      ]
    },
    {
      "cell_type": "markdown",
      "metadata": {
        "id": "JyOJ8To-1bc_"
      },
      "source": [
        "# Simple Arithmetic Programs:"
      ]
    },
    {
      "cell_type": "code",
      "metadata": {
        "id": "3BgrakG_1bdB",
        "colab": {
          "base_uri": "https://localhost:8080/"
        },
        "outputId": "a3ca5fc5-5f99-4b6b-fecf-c47dcba52aab"
      },
      "source": [
        "# ( Operator Precedence )\n",
        "# x=2+(2-2)*2**2/2, calculate the value of x and print it.\n",
        "\n",
        "x=2+(2-2)*2**2/2\n",
        "print(f\"x = {x}\")"
      ],
      "execution_count": null,
      "outputs": [
        {
          "output_type": "stream",
          "name": "stdout",
          "text": [
            "x = 2.0\n"
          ]
        }
      ]
    },
    {
      "cell_type": "markdown",
      "metadata": {
        "id": "-VmZ15ABcg2Z"
      },
      "source": [
        "Inputting multiple numbers simultaneously"
      ]
    },
    {
      "cell_type": "code",
      "metadata": {
        "id": "Te-a8u-kcE0N"
      },
      "source": [
        "x,y = input('Enter two numbers: ').split(',')\n",
        "print(x,y)"
      ],
      "execution_count": null,
      "outputs": []
    },
    {
      "cell_type": "markdown",
      "metadata": {
        "id": "sKCSsXHL1bdS"
      },
      "source": [
        "**Exercises:**\n",
        "\n",
        "    1. Find Out average of three decimal numbers\n",
        "    \n",
        "    2. Find out the area and perimeter of a rectangle\n",
        "\n",
        "    3. Input temperature in Celsius and convert it to Fahrenheit."
      ]
    },
    {
      "cell_type": "code",
      "source": [
        "x,y,z = input('Enter three numbers: ').split(',')\n"
      ],
      "metadata": {
        "id": "we0aquS0Ahjg"
      },
      "execution_count": null,
      "outputs": []
    },
    {
      "cell_type": "code",
      "metadata": {
        "id": "lTnS-uXq1bdJ"
      },
      "source": [
        "# Input two numbers and swap them\n",
        "\n",
        "x,y = input('Enter two numbers: ').split(',')\n",
        "x,y = int(y),int(x)\n",
        "print('x={0} y={1}'.format(x,y))"
      ],
      "execution_count": null,
      "outputs": []
    },
    {
      "cell_type": "code",
      "source": [
        "floatx,y,z = input('enter three numbers:').split(',')\n",
        "x,y,z = float(x),f;oat(y),float(z)\n",
        "print('x={0}\\ny={1}\\nz={2}'.format(x,y,z))"
      ],
      "metadata": {
        "id": "DlJ_OUrk_KoZ",
        "colab": {
          "base_uri": "https://localhost:8080/",
          "height": 193
        },
        "outputId": "457c2b78-105a-408c-e8ec-3142c57682c7"
      },
      "execution_count": null,
      "outputs": [
        {
          "name": "stdout",
          "output_type": "stream",
          "text": [
            "enter three numbers:1 2 3 \n"
          ]
        },
        {
          "output_type": "error",
          "ename": "ValueError",
          "evalue": "not enough values to unpack (expected 3, got 1)",
          "traceback": [
            "\u001b[0;31m---------------------------------------------------------------------------\u001b[0m",
            "\u001b[0;31mValueError\u001b[0m                                Traceback (most recent call last)",
            "\u001b[0;32m<ipython-input-2-c74218bfa24f>\u001b[0m in \u001b[0;36m<cell line: 0>\u001b[0;34m()\u001b[0m\n\u001b[0;32m----> 1\u001b[0;31m \u001b[0mx\u001b[0m\u001b[0;34m,\u001b[0m\u001b[0my\u001b[0m\u001b[0;34m,\u001b[0m\u001b[0mz\u001b[0m \u001b[0;34m=\u001b[0m \u001b[0minput\u001b[0m\u001b[0;34m(\u001b[0m\u001b[0;34m'enter three numbers:'\u001b[0m\u001b[0;34m)\u001b[0m\u001b[0;34m.\u001b[0m\u001b[0msplit\u001b[0m\u001b[0;34m(\u001b[0m\u001b[0;34m','\u001b[0m\u001b[0;34m)\u001b[0m\u001b[0;34m\u001b[0m\u001b[0;34m\u001b[0m\u001b[0m\n\u001b[0m\u001b[1;32m      2\u001b[0m \u001b[0mx\u001b[0m\u001b[0;34m,\u001b[0m\u001b[0my\u001b[0m\u001b[0;34m,\u001b[0m\u001b[0mz\u001b[0m \u001b[0;34m=\u001b[0m \u001b[0mint\u001b[0m\u001b[0;34m(\u001b[0m\u001b[0mx\u001b[0m\u001b[0;34m)\u001b[0m\u001b[0;34m,\u001b[0m\u001b[0mint\u001b[0m\u001b[0;34m(\u001b[0m\u001b[0my\u001b[0m\u001b[0;34m)\u001b[0m\u001b[0;34m,\u001b[0m\u001b[0mint\u001b[0m\u001b[0;34m(\u001b[0m\u001b[0mz\u001b[0m\u001b[0;34m)\u001b[0m\u001b[0;34m\u001b[0m\u001b[0;34m\u001b[0m\u001b[0m\n\u001b[1;32m      3\u001b[0m \u001b[0mprint\u001b[0m\u001b[0;34m(\u001b[0m\u001b[0;34m'x={0}\\ny={1}\\nz={2}'\u001b[0m\u001b[0;34m.\u001b[0m\u001b[0mformat\u001b[0m\u001b[0;34m(\u001b[0m\u001b[0mx\u001b[0m\u001b[0;34m,\u001b[0m\u001b[0my\u001b[0m\u001b[0;34m,\u001b[0m\u001b[0mz\u001b[0m\u001b[0;34m)\u001b[0m\u001b[0;34m)\u001b[0m\u001b[0;34m\u001b[0m\u001b[0;34m\u001b[0m\u001b[0m\n",
            "\u001b[0;31mValueError\u001b[0m: not enough values to unpack (expected 3, got 1)"
          ]
        }
      ]
    },
    {
      "cell_type": "markdown",
      "metadata": {
        "id": "lDc3EoeX1bdT"
      },
      "source": [
        "# If-Else & If-Else-If Ladder:"
      ]
    },
    {
      "cell_type": "code",
      "metadata": {
        "colab": {
          "base_uri": "https://localhost:8080/"
        },
        "id": "DKen1Crm1bdV",
        "outputId": "a3375ef9-c623-40de-a747-86027a5e473f"
      },
      "source": [
        "# Input a number and check whether it is odd or even and display accordingly.\n",
        "\n",
        "a = int(input('Enter a number: '))\n",
        "if a%2 == 0:\n",
        "    print('{} is even'.format(a))\n",
        "else:\n",
        "    print('{} is odd'.format(a))"
      ],
      "execution_count": null,
      "outputs": [
        {
          "output_type": "stream",
          "name": "stdout",
          "text": [
            "Enter a number: 11\n",
            "11 is odd\n"
          ]
        }
      ]
    },
    {
      "cell_type": "code",
      "metadata": {
        "id": "azIui3ke1bde",
        "colab": {
          "base_uri": "https://localhost:8080/"
        },
        "outputId": "bb2798ef-19d4-4250-9939-b4fc8ffa6a36"
      },
      "source": [
        "# Input your marks and give a review.\n",
        "\n",
        "marks=float(input(\"Enter your marks: \"))\n",
        "if marks>0 and marks<50:\n",
        "    print(\"BAD\")\n",
        "elif marks>50 and marks<80:\n",
        "    print(\"Good\")\n",
        "elif marks>80 and marks<100:\n",
        "    print(\"OUTSTANDING\")\n",
        "else:\n",
        "    print(\"Invalid Marks !\")"
      ],
      "execution_count": null,
      "outputs": [
        {
          "output_type": "stream",
          "name": "stdout",
          "text": [
            "Enter your marks: 71\n",
            "Good\n"
          ]
        }
      ]
    },
    {
      "cell_type": "code",
      "metadata": {
        "colab": {
          "base_uri": "https://localhost:8080/"
        },
        "id": "IYWYxsIQi0mX",
        "outputId": "c10c99ec-2336-4ea6-cd7a-384e2fd5cc53"
      },
      "source": [
        "year = int(input('Enter the year: '))\n",
        "if (year%400 == 0) or ((year % 4 == 0) and (year % 100!=0)):\n",
        "    print('leap year')\n",
        "else:\n",
        "    print('not a leap year')"
      ],
      "execution_count": null,
      "outputs": [
        {
          "output_type": "stream",
          "name": "stdout",
          "text": [
            "Enter the year: 1996\n",
            "leap year\n"
          ]
        }
      ]
    },
    {
      "cell_type": "markdown",
      "metadata": {
        "id": "3wge1qR71bdr"
      },
      "source": [
        "**Excercises:**\n",
        "\n",
        "    1. Input a number and find its absolute value.\n",
        "\n",
        "    2. Find the largest and smallest among three numbers supplied by user.\n",
        "\n",
        "    3. Check whether an input year is a leap year or not.\n",
        "    \n",
        "    4. Compute the telephone bill for Mr. X as per the call rates given below:\n",
        "        Base tariff = 250\n",
        "        1st 100 calls   @Rs.  0.2\n",
        "        Next 100 calls  @ Rs. 0.3\n",
        "        Remaining calls @ Rs. 0.5\n",
        "    \n",
        "    5.Solve a given quadratic equation. (Without imaginary root)."
      ]
    },
    {
      "cell_type": "markdown",
      "metadata": {
        "id": "JRHC60f_1bds"
      },
      "source": [
        "# Loop Control Structure:"
      ]
    },
    {
      "cell_type": "code",
      "metadata": {
        "colab": {
          "base_uri": "https://localhost:8080/"
        },
        "id": "_tGNx6g3jxML",
        "outputId": "3c2ec676-210f-45c7-c721-3386be68312b"
      },
      "source": [
        "i=1\n",
        "while i<=10:\n",
        "  print(i)\n",
        "  i+=1\n"
      ],
      "execution_count": null,
      "outputs": [
        {
          "output_type": "stream",
          "name": "stdout",
          "text": [
            "1\n",
            "2\n",
            "3\n",
            "4\n",
            "5\n",
            "6\n",
            "7\n",
            "8\n",
            "9\n",
            "10\n"
          ]
        }
      ]
    },
    {
      "cell_type": "code",
      "metadata": {
        "colab": {
          "base_uri": "https://localhost:8080/"
        },
        "id": "DJx4-7AEaJi6",
        "outputId": "bafd1ec5-2b98-4dbb-8b09-118e4462e2bd"
      },
      "source": [
        "x = input('Enter your name: ')\n",
        "print(x*3)"
      ],
      "execution_count": null,
      "outputs": [
        {
          "output_type": "stream",
          "name": "stdout",
          "text": [
            "Enter your name: Dibyendu\n",
            "DibyenduDibyenduDibyendu\n"
          ]
        }
      ]
    },
    {
      "cell_type": "code",
      "metadata": {
        "id": "Yj3OrzD51bdt",
        "colab": {
          "base_uri": "https://localhost:8080/"
        },
        "outputId": "ff5bcfa8-fbbd-46da-cd52-e91470163a60"
      },
      "source": [
        "'''\n",
        "Print the following pattern upto n rows:\n",
        "*\n",
        "* *\n",
        "* * *\n",
        "* * * *\n",
        "* * * * *\n",
        "'''\n",
        "\n",
        "n=int(input('Enter the number of rows: '))\n",
        "i=1\n",
        "while i<=n:\n",
        "    print('* '*i)\n",
        "    i+=1"
      ],
      "execution_count": null,
      "outputs": [
        {
          "output_type": "stream",
          "name": "stdout",
          "text": [
            "Enter the number of rows: 7\n",
            "* \n",
            "* * \n",
            "* * * \n",
            "* * * * \n",
            "* * * * * \n",
            "* * * * * * \n",
            "* * * * * * * \n"
          ]
        }
      ]
    },
    {
      "cell_type": "code",
      "metadata": {
        "id": "TFOa5Pdp1bd2",
        "colab": {
          "base_uri": "https://localhost:8080/"
        },
        "outputId": "4fd54d76-d087-4357-9df5-dd14e5970dca"
      },
      "source": [
        "# Input a number and find the sum of its digits.\n",
        "\n",
        "n=int(input('Enter a no: '))\n",
        "sum=0\n",
        "while n>0:\n",
        "    rem=n%10\n",
        "    sum=sum+rem\n",
        "    n=n//10\n",
        "print('Sum of digits is: ',sum)"
      ],
      "execution_count": null,
      "outputs": [
        {
          "output_type": "stream",
          "name": "stdout",
          "text": [
            "Enter a no: 153\n",
            "Sum of digits is:  9\n"
          ]
        }
      ]
    },
    {
      "cell_type": "code",
      "metadata": {
        "colab": {
          "base_uri": "https://localhost:8080/"
        },
        "id": "Y_dzFpeOlxPX",
        "outputId": "27a6fa0e-5754-4e2e-ec23-e08937fb2198"
      },
      "source": [
        "for i in range(1,10,2):\n",
        "  print(i)"
      ],
      "execution_count": null,
      "outputs": [
        {
          "output_type": "stream",
          "name": "stdout",
          "text": [
            "1\n",
            "3\n",
            "5\n",
            "7\n",
            "9\n"
          ]
        }
      ]
    },
    {
      "cell_type": "code",
      "metadata": {
        "id": "vhXwiRqT1bd_",
        "colab": {
          "base_uri": "https://localhost:8080/"
        },
        "outputId": "162c95cc-b1c3-459c-f29b-78251cc64716"
      },
      "source": [
        "# Input a number n and print all odd numbers upto n.\n",
        "\n",
        "n=int(input('Enter the range: '))\n",
        "for i in range(1,n+1,2):\n",
        "    print(i,end=' ')"
      ],
      "execution_count": null,
      "outputs": [
        {
          "output_type": "stream",
          "name": "stdout",
          "text": [
            "Enter the range: 10\n",
            "1 3 5 7 9 "
          ]
        }
      ]
    },
    {
      "cell_type": "code",
      "metadata": {
        "id": "JYjDzO4G1beF",
        "colab": {
          "base_uri": "https://localhost:8080/"
        },
        "outputId": "f5d2b47b-e00f-42f5-94b7-7b042ea47213"
      },
      "source": [
        "'''\n",
        "Print the following pattern upto n rows:\n",
        "        1\n",
        "      1 2\n",
        "    1 2 3\n",
        "  1 2 3 4\n",
        "1 2 3 4 5\n",
        "'''\n",
        "\n",
        "n=int(input('Enter value of n: '))\n",
        "for i in range (1,n+1):\n",
        "    for j in range (i,n): # nested loop\n",
        "        print(' ',end=' ')\n",
        "    for k in range(1,i+1):\n",
        "        print('{} '.format(k),end='')\n",
        "    print()"
      ],
      "execution_count": null,
      "outputs": [
        {
          "output_type": "stream",
          "name": "stdout",
          "text": [
            "Enter value of n: 10\n",
            "                  1 \n",
            "                1 2 \n",
            "              1 2 3 \n",
            "            1 2 3 4 \n",
            "          1 2 3 4 5 \n",
            "        1 2 3 4 5 6 \n",
            "      1 2 3 4 5 6 7 \n",
            "    1 2 3 4 5 6 7 8 \n",
            "  1 2 3 4 5 6 7 8 9 \n",
            "1 2 3 4 5 6 7 8 9 10 \n"
          ]
        }
      ]
    },
    {
      "cell_type": "code",
      "metadata": {
        "colab": {
          "base_uri": "https://localhost:8080/"
        },
        "id": "zQdu2fynoHB3",
        "outputId": "acf4eedc-2a85-4160-a3fd-49d2dd54aeda"
      },
      "source": [
        "a,b = input('Enter two numbers: ').split(',')\n",
        "a,b = int(a), int(b)\n",
        "prod = a*b\n",
        "while a!=b:\n",
        "    if a>b:\n",
        "        a=a-b\n",
        "    else:\n",
        "        b=b-a\n",
        "print('hcf = ',a)\n",
        "print('lcm ',int(prod/a))"
      ],
      "execution_count": null,
      "outputs": [
        {
          "output_type": "stream",
          "name": "stdout",
          "text": [
            "Enter two numbers: 5,15\n",
            "hcf =  5\n",
            "lcm  15\n"
          ]
        }
      ]
    },
    {
      "cell_type": "code",
      "metadata": {
        "colab": {
          "base_uri": "https://localhost:8080/"
        },
        "id": "HgHeL5SUp3TN",
        "outputId": "66cc45c1-83f3-400c-a860-ead584d50503"
      },
      "source": [
        "a=1\n",
        "b=0\n",
        "c=0\n",
        "n= int(input('Enter the limit: '))\n",
        "while c<= n:\n",
        "  print(c)\n",
        "  c=a+b\n",
        "  a=b\n",
        "  b=c"
      ],
      "execution_count": null,
      "outputs": [
        {
          "output_type": "stream",
          "name": "stdout",
          "text": [
            "Enter the limit: 10\n",
            "0\n",
            "1\n",
            "1\n",
            "2\n",
            "3\n",
            "5\n",
            "8\n"
          ]
        }
      ]
    },
    {
      "cell_type": "markdown",
      "metadata": {
        "id": "I9RnSoCW1beO"
      },
      "source": [
        "**Excercises:**\n",
        "\n",
        "    1.\n",
        "                *     \n",
        "              * * *\n",
        "            * * * * *\n",
        "          * * * * * * *\n",
        "            * * * * *\n",
        "              * * *\n",
        "                *\n",
        "\n",
        "    2.  \n",
        "            * * * * * * *\n",
        "              * * * * *\n",
        "                * * *\n",
        "                  *\n",
        "                * * *\n",
        "              * * * * *\n",
        "            * * * * * * *\n",
        "\n",
        "    3. Input two numbers and find their hcf and lcm\n",
        "\n",
        "    4. Input a number n and find:\n",
        "       (a)\tFibonacci series up to n\n",
        "       (b)\tthe nth Fibonacci number\n",
        "\n",
        "    5. Input a number and reverse it using while/do-while loop.\n",
        "\n",
        "    6. Input a number and check if it is a prime number or not.\n",
        "\n",
        "    7. According to the Goldbach conjecture, every even number greater than two is the sum of two prime numbers.\n",
        "    \n",
        "    8. Input an even number and decompose it into two primes.\n",
        "\n",
        "    9. Input a number and check whether it is an automorphic number or not using while/do-while loop.\n",
        "    \n",
        "    10. Input a number and check whether it is an Armstrong number or not using while/do-while loop."
      ]
    },
    {
      "cell_type": "markdown",
      "metadata": {
        "id": "4OrH6D8J1beQ"
      },
      "source": [
        "# Function & Recursion"
      ]
    },
    {
      "cell_type": "code",
      "metadata": {
        "id": "N6wudA5h1beQ",
        "colab": {
          "base_uri": "https://localhost:8080/"
        },
        "outputId": "bb4a336d-93a4-44ac-e957-20fbab97f7fa"
      },
      "source": [
        "# Input a number n and find its factorial using a user defined function int fact(int)\n",
        "\n",
        "def fact(n):\n",
        "    s=1\n",
        "    for i in range(1,n+1):\n",
        "        s=s*i\n",
        "    return s\n",
        "n=int(input('Enter a number: '))\n",
        "print(f'The factorial of {n} is: {fact(n)}')"
      ],
      "execution_count": null,
      "outputs": [
        {
          "output_type": "stream",
          "text": [
            "Enter a number: 200\n",
            "The factorial of 200 is: 788657867364790503552363213932185062295135977687173263294742533244359449963403342920304284011984623904177212138919638830257642790242637105061926624952829931113462857270763317237396988943922445621451664240254033291864131227428294853277524242407573903240321257405579568660226031904170324062351700858796178922222789623703897374720000000000000000000000000000000000000000000000000\n"
          ],
          "name": "stdout"
        }
      ]
    },
    {
      "cell_type": "code",
      "metadata": {
        "id": "mv6160LE1bea",
        "colab": {
          "base_uri": "https://localhost:8080/"
        },
        "outputId": "7a81e0b6-5e48-44d4-c343-51fa098640fa"
      },
      "source": [
        "\"\"\"\n",
        "Implement simple arithmatic calculator using user defined functions for each operation\n",
        "(addition, subtraction, multiplication, division, modulus, exponent). You may use a dictionary to print the menu.\n",
        "\"\"\"\n",
        "\n",
        "def add(x, y):\n",
        "    return x+y\n",
        "\n",
        "def subtract(x, y):\n",
        "    return x-y\n",
        "\n",
        "def multiply(x, y):\n",
        "    return x*y\n",
        "\n",
        "def divide(x, y):\n",
        "    return x/y\n",
        "\n",
        "def mod(x,y):\n",
        "    return x%y\n",
        "\n",
        "def expo(x,y):\n",
        "    return x**y\n",
        "\n",
        "n1,n2 = input('Enter the two numbers  : ').split(',')\n",
        "n1,n2=int(n1),int(n2)\n",
        "while True:\n",
        "    print(\"****MENU****\\n1. Addition\\n2. Subtraction\\n3. Multiplication\\n4. Division\\n5. Modulus\\n6. Exponent\\n7. Exit\\n\")\n",
        "    ch=int(input('Enter your choice : '))\n",
        "    if ch==1:\n",
        "        print(add(n1,n2))\n",
        "    elif ch==2:\n",
        "        print(subtract(n1,n2))\n",
        "    elif ch==3:\n",
        "        print(multiply(n1,n2))\n",
        "    elif ch==4:\n",
        "        print(divide(n1,n2))\n",
        "    elif ch==5:\n",
        "        print(mod(n1,n2))\n",
        "    elif ch==6:\n",
        "        print(expo(n1,n2))\n",
        "    elif ch==7:\n",
        "        break\n",
        "    else:\n",
        "        print(\"Invalid input\")"
      ],
      "execution_count": null,
      "outputs": [
        {
          "output_type": "stream",
          "text": [
            "Enter the two numbers  : 5,3\n",
            "****MENU****\n",
            "1. Addition\n",
            "2. Subtraction\n",
            "3. Multiplication\n",
            "4. Division\n",
            "5. Modulus\n",
            "6. Exponent\n",
            "7. Exit\n",
            "\n",
            "Enter your choice : 5\n",
            "2\n",
            "****MENU****\n",
            "1. Addition\n",
            "2. Subtraction\n",
            "3. Multiplication\n",
            "4. Division\n",
            "5. Modulus\n",
            "6. Exponent\n",
            "7. Exit\n",
            "\n",
            "Enter your choice : 6\n",
            "125\n",
            "****MENU****\n",
            "1. Addition\n",
            "2. Subtraction\n",
            "3. Multiplication\n",
            "4. Division\n",
            "5. Modulus\n",
            "6. Exponent\n",
            "7. Exit\n",
            "\n",
            "Enter your choice : 3\n",
            "15\n",
            "****MENU****\n",
            "1. Addition\n",
            "2. Subtraction\n",
            "3. Multiplication\n",
            "4. Division\n",
            "5. Modulus\n",
            "6. Exponent\n",
            "7. Exit\n",
            "\n",
            "Enter your choice : 7\n"
          ],
          "name": "stdout"
        }
      ]
    },
    {
      "cell_type": "code",
      "metadata": {
        "id": "Bl4gsK2f1beg",
        "colab": {
          "base_uri": "https://localhost:8080/"
        },
        "outputId": "0654d30f-fc76-4b7d-c0f2-ec34a0b1440a"
      },
      "source": [
        "# Input a number n and find its factorial using recursion.\n",
        "\n",
        "def fact(n):\n",
        "    if n==0:\n",
        "        return 1\n",
        "    else:\n",
        "        return n*fact(n-1)\n",
        "n=int(input('Enter a number: '))\n",
        "print(f'The factorial of {n} is: {fact(n)}')"
      ],
      "execution_count": null,
      "outputs": [
        {
          "output_type": "stream",
          "text": [
            "Enter a number: 5\n",
            "The factorial of 5 is: 120\n"
          ],
          "name": "stdout"
        }
      ]
    },
    {
      "cell_type": "markdown",
      "metadata": {
        "id": "PSOh83Xy1beo"
      },
      "source": [
        "**Excercises:**\n",
        "\n",
        "    1. Input a number and check if it a Krishnamurthy number.\n",
        "\n",
        "    2. Find the sum of first n prime numbers using as user defined function to check for prime. Input the value of n from the user.\n",
        "    \n",
        "    3. Input a limit n and print all prime fibonacci numbers up to n using a user defined function prime() which returns a 1 if the argument is a prime or else 0.\n",
        "    \n",
        "    4. Input a limit n and print all twin prime numbers up to n.\n",
        "    \n",
        "    5. Input the values of two variables n and r and calculate nCr.\n",
        "    \n",
        "    6. Generate a pascal’s triangle upto n rows (value of n is to be taken as input from the user).\n",
        "    \n",
        "    7. Input a number n and print its prime factors using a user defined function int prime(int) which returns a 1 if the argument\n",
        "    is a prime or else 0.\n",
        "    \n",
        "    8. Calculate the below series. Use a user defined function fact(n) which will return the factorial of n.\n",
        "       x/1! – x^3/3! + x^5/5! – x^7/7! + ........(up to n terms).\n",
        "    \n",
        "    9. Print the sum of natural numbers up to n using recursion.\n",
        "    \n",
        "    10. Find the nth Fibonacci number using recursion. The value of n should be taken as input."
      ]
    },
    {
      "cell_type": "markdown",
      "metadata": {
        "id": "P7Z3p9DB1bep"
      },
      "source": [
        "# Strings:"
      ]
    },
    {
      "cell_type": "markdown",
      "metadata": {
        "id": "bQUUDxev1bes"
      },
      "source": [
        "String is a sequence that can be concatenated, indexed and sliced. Strings are immutable."
      ]
    },
    {
      "cell_type": "code",
      "metadata": {
        "id": "nkoRtGAn1bet",
        "colab": {
          "base_uri": "https://localhost:8080/"
        },
        "outputId": "6fd5c004-9c33-46e2-89ec-f38f009ad55c"
      },
      "source": [
        "# Input two strings and concatenate them.\n",
        "\n",
        "str1=input('Enter the first string: ')\n",
        "str2=input('Enter the second string: ')\n",
        "str1=str1 + str2\n",
        "print('The concatenated string: ',str1)"
      ],
      "execution_count": null,
      "outputs": [
        {
          "output_type": "stream",
          "text": [
            "Enter the first string: good\n",
            "Enter the second string: boy\n",
            "The concatinated string:  goodboy\n"
          ],
          "name": "stdout"
        }
      ]
    },
    {
      "cell_type": "code",
      "metadata": {
        "id": "elUJ4BE-1bey",
        "colab": {
          "base_uri": "https://localhost:8080/"
        },
        "outputId": "9fba6c01-762d-4b08-a07c-0d75cb026b76"
      },
      "source": [
        "# Indexing\n",
        "'''\n",
        "Index:\n",
        "    D i b y e n d u  S e a l\n",
        "    0,1,2...     ...-3,-2,-1\n",
        "\n",
        "'''\n",
        "\n",
        "name='Dibyendu Seal'\n",
        "print(name[0])\n",
        "print(name[-1])"
      ],
      "execution_count": null,
      "outputs": [
        {
          "output_type": "stream",
          "text": [
            "D\n",
            "l\n"
          ],
          "name": "stdout"
        }
      ]
    },
    {
      "cell_type": "code",
      "metadata": {
        "id": "MiAEo_dZ1be_",
        "colab": {
          "base_uri": "https://localhost:8080/"
        },
        "outputId": "90b421ee-3cba-44a8-de2e-3986bc052d13"
      },
      "source": [
        "# Slicing\n",
        "\n",
        "name='Dibyendu Seal'\n",
        "print(name)\n",
        "\n",
        "name1=name[2:8]\n",
        "print(name1)\n",
        "\n",
        "name2=name[:-2]\n",
        "print(name2)\n",
        "\n",
        "name3=name[4:]\n",
        "print(name3)\n",
        "\n",
        "name4=name[:]\n",
        "print(name4)"
      ],
      "execution_count": null,
      "outputs": [
        {
          "output_type": "stream",
          "text": [
            "Dibyendu Seal\n",
            "byendu\n",
            "Dibyendu Se\n",
            "endu Seal\n",
            "Dibyendu Seal\n"
          ],
          "name": "stdout"
        }
      ]
    },
    {
      "cell_type": "code",
      "metadata": {
        "id": "I87iTJLo1bfR",
        "colab": {
          "base_uri": "https://localhost:8080/"
        },
        "outputId": "013ca20f-90e6-4219-d72c-36cca24557aa"
      },
      "source": [
        "# Some string Methods:\n",
        "\n",
        "name = 'Guido Van Rossum'\n",
        "\n",
        "print(len(name)) # to obtain length."
      ],
      "execution_count": null,
      "outputs": [
        {
          "output_type": "stream",
          "text": [
            "16\n"
          ],
          "name": "stdout"
        }
      ]
    },
    {
      "cell_type": "code",
      "metadata": {
        "id": "g-8V8EMc1bfW",
        "colab": {
          "base_uri": "https://localhost:8080/"
        },
        "outputId": "64f9a6ff-ddc4-4159-babd-6bdad3e287e9"
      },
      "source": [
        "print(name.upper()) # to change into upper case.\n"
      ],
      "execution_count": null,
      "outputs": [
        {
          "output_type": "stream",
          "text": [
            "GUIDO VAN ROSSUM\n"
          ],
          "name": "stdout"
        }
      ]
    },
    {
      "cell_type": "code",
      "metadata": {
        "id": "zHAcDawO1bfg",
        "colab": {
          "base_uri": "https://localhost:8080/"
        },
        "outputId": "aade065d-90fc-4192-a478-2925000e9dfd"
      },
      "source": [
        "print(name.lower()) # to change into lower case.\n"
      ],
      "execution_count": null,
      "outputs": [
        {
          "output_type": "stream",
          "text": [
            "guido van rossum\n"
          ],
          "name": "stdout"
        }
      ]
    },
    {
      "cell_type": "code",
      "metadata": {
        "id": "2PoL8e7G1bfk",
        "colab": {
          "base_uri": "https://localhost:8080/"
        },
        "outputId": "b2c91984-ac47-40ce-92bb-46df0f34726b"
      },
      "source": [
        "print(name.find('R'))"
      ],
      "execution_count": null,
      "outputs": [
        {
          "output_type": "stream",
          "text": [
            "10\n"
          ],
          "name": "stdout"
        }
      ]
    },
    {
      "cell_type": "code",
      "metadata": {
        "id": "E5baxCoj1bfr",
        "colab": {
          "base_uri": "https://localhost:8080/"
        },
        "outputId": "286b3dd1-53e2-4ffe-a8d8-aee9c57ad775"
      },
      "source": [
        "print(name.find('d')) # to find index of string."
      ],
      "execution_count": null,
      "outputs": [
        {
          "output_type": "stream",
          "text": [
            "3\n"
          ],
          "name": "stdout"
        }
      ]
    },
    {
      "cell_type": "code",
      "metadata": {
        "id": "3Dly4_jt1bfw",
        "colab": {
          "base_uri": "https://localhost:8080/"
        },
        "outputId": "73dba00d-05a5-495d-c454-a8b7233c1482"
      },
      "source": [
        "print(name.replace('Rossum', 'Mukherjee')) # to replace a string.\n"
      ],
      "execution_count": null,
      "outputs": [
        {
          "output_type": "stream",
          "text": [
            "Guido Van Mukherjee\n"
          ],
          "name": "stdout"
        }
      ]
    },
    {
      "cell_type": "code",
      "metadata": {
        "id": "yFvuY6kf1bf2",
        "colab": {
          "base_uri": "https://localhost:8080/"
        },
        "outputId": "8731e082-5328-48e4-9835-95c171a1695b"
      },
      "source": [
        "#immutable\n",
        "print(name)"
      ],
      "execution_count": null,
      "outputs": [
        {
          "output_type": "stream",
          "text": [
            "Guido Van Rossum\n"
          ],
          "name": "stdout"
        }
      ]
    },
    {
      "cell_type": "code",
      "metadata": {
        "id": "cKyATYbN1bf6",
        "colab": {
          "base_uri": "https://localhost:8080/"
        },
        "outputId": "08009b54-443b-4f67-9a34-f70bf32d6178"
      },
      "source": [
        "#Create a list of individual characters from a string\n",
        "str='abc'\n",
        "print(list(str))"
      ],
      "execution_count": null,
      "outputs": [
        {
          "output_type": "stream",
          "text": [
            "['a', 'b', 'c']\n"
          ],
          "name": "stdout"
        }
      ]
    },
    {
      "cell_type": "code",
      "metadata": {
        "colab": {
          "base_uri": "https://localhost:8080/"
        },
        "id": "XTR4yJMi7qsW",
        "outputId": "06632205-bdee-48a7-c2cc-b43c9f81bac6"
      },
      "source": [
        "str='Tendulkar'\n",
        "for i in str:\n",
        "  print(i)"
      ],
      "execution_count": null,
      "outputs": [
        {
          "output_type": "stream",
          "text": [
            "T\n",
            "e\n",
            "n\n",
            "d\n",
            "u\n",
            "l\n",
            "k\n",
            "a\n",
            "r\n"
          ],
          "name": "stdout"
        }
      ]
    },
    {
      "cell_type": "code",
      "metadata": {
        "id": "P3sxigT91bf_",
        "colab": {
          "base_uri": "https://localhost:8080/"
        },
        "outputId": "e11f64bc-40ba-4abb-8cdb-df04d034a6f2"
      },
      "source": [
        "# Input a string and reverse it.\n",
        "\n",
        "str=input('Enter a string: ')\n",
        "s=''\n",
        "for i in str:\n",
        "    s=i+s\n",
        "print(\"The reverse string is: \",s)"
      ],
      "execution_count": null,
      "outputs": [
        {
          "output_type": "stream",
          "text": [
            "Enter a string: Tendulkar\n",
            "The reverse string is:  rakludneT\n"
          ],
          "name": "stdout"
        }
      ]
    },
    {
      "cell_type": "code",
      "metadata": {
        "colab": {
          "base_uri": "https://localhost:8080/"
        },
        "id": "30_W4Jot9Amr",
        "outputId": "74cad055-f964-4dea-fe6a-4a6c75c40522"
      },
      "source": [
        "# Checking if palindrome\n",
        "def reverse(x):\n",
        "  s=''\n",
        "  for i in x:\n",
        "    s=i+s\n",
        "  return s\n",
        "str=input('Enter a string: ')\n",
        "if(str == reverse(str)):\n",
        "  print('palindrome')\n",
        "else:\n",
        "  print('not palindrome')"
      ],
      "execution_count": null,
      "outputs": [
        {
          "output_type": "stream",
          "text": [
            "Enter a string: madam\n",
            "palindrome\n"
          ],
          "name": "stdout"
        }
      ]
    },
    {
      "cell_type": "code",
      "metadata": {
        "colab": {
          "base_uri": "https://localhost:8080/",
          "height": 35
        },
        "id": "JNlfmSoX9Ybm",
        "outputId": "f968be6c-85e7-4736-95c2-78c143221bf7"
      },
      "source": [
        "str = 'madan'\n",
        "str[::-1]"
      ],
      "execution_count": null,
      "outputs": [
        {
          "output_type": "execute_result",
          "data": {
            "application/vnd.google.colaboratory.intrinsic+json": {
              "type": "string"
            },
            "text/plain": [
              "'nadam'"
            ]
          },
          "metadata": {
            "tags": []
          },
          "execution_count": 78
        }
      ]
    },
    {
      "cell_type": "markdown",
      "metadata": {
        "id": "JfqVKhqj1bgE"
      },
      "source": [
        "**Excercises:**\n",
        "    \n",
        "    1. Input a name and find its initial (e.g., Subhash Chandra Bose should be printed as S. C. Bose).\n",
        "    \n",
        "    2. Input a string and delete all consecutive occurrences of characters.\n",
        "    \n",
        "    3. Input a string and a pattern and count the occurrences of the pattern in the string.\n",
        "    \n",
        "    4. Input a string and a pattern and delete all occurrences of the pattern from the string.\n",
        "    \n",
        "    5. Input a string and two patterns pattern1 and pattern2. Find all occurrences of pattern1 and\n",
        "       replace them by pattern2.   \n",
        "    \n",
        "    6. A Pig Latin word is a word that begins with consonant sound; all letters before the initial\n",
        "       vowel are placed at the end of the word sequence. Then, \"ay\" is added, as in the following\n",
        "       examples:  \n",
        "       \"pig\" \"igpay\"\n",
        "       “banana\"  \"ananabay\"\n",
        "       \"trash\" \"ashtray\"\n",
        "       Input a word and generate its Pig Latin.\n",
        "    \n",
        "    7. Find the frequency of occurrence of each character in a given string.\n"
      ]
    },
    {
      "cell_type": "markdown",
      "metadata": {
        "id": "z6I3h61t1bgF"
      },
      "source": [
        "# LISTS & TUPLES"
      ]
    },
    {
      "cell_type": "markdown",
      "metadata": {
        "id": "7lsVLpfj1bgG"
      },
      "source": [
        "**Tuples:**\n",
        "    \n",
        "Like strings, tuples are ordered sequences of elements. The difference is that the elements of a tuple need not be characters. The individual elements can be of any type, and need not be of the same type as each other. Like strings, tuples can be concatenated, indexed and sliced.\n",
        "\n",
        "Tuples are also immutable."
      ]
    },
    {
      "cell_type": "code",
      "metadata": {
        "id": "2UrRsx351bgG"
      },
      "source": [
        "# Declaration of tuples.\n",
        "\n",
        "t1 = (1,2,3)\n",
        "t2 = (4,5,6)"
      ],
      "execution_count": null,
      "outputs": []
    },
    {
      "cell_type": "code",
      "metadata": {
        "colab": {
          "base_uri": "https://localhost:8080/"
        },
        "id": "6fRtghQM-66s",
        "outputId": "75fd6fe1-40df-4cd7-f995-5b94d2202337"
      },
      "source": [
        "t1"
      ],
      "execution_count": null,
      "outputs": [
        {
          "output_type": "execute_result",
          "data": {
            "text/plain": [
              "(1, 2, 3)"
            ]
          },
          "metadata": {
            "tags": []
          },
          "execution_count": 80
        }
      ]
    },
    {
      "cell_type": "code",
      "metadata": {
        "id": "LepdiJd01bgP"
      },
      "source": [
        "# Tuple concatenation.\n",
        "\n",
        "t3 = t1 + t2"
      ],
      "execution_count": null,
      "outputs": []
    },
    {
      "cell_type": "code",
      "metadata": {
        "id": "0Fl_g51E1bgU",
        "colab": {
          "base_uri": "https://localhost:8080/"
        },
        "outputId": "9ad06ac7-7862-41b3-ad6c-2f21effe9d25"
      },
      "source": [
        "#  Print.\n",
        "print(t1)\n",
        "print(t2)\n",
        "print(t3)"
      ],
      "execution_count": null,
      "outputs": [
        {
          "output_type": "stream",
          "text": [
            "(1, 2, 3)\n",
            "(4, 5, 6)\n",
            "(1, 2, 3, 4, 5, 6)\n"
          ],
          "name": "stdout"
        }
      ]
    },
    {
      "cell_type": "code",
      "metadata": {
        "id": "SinExb3J1bgY",
        "colab": {
          "base_uri": "https://localhost:8080/"
        },
        "outputId": "abfb9cf2-c87a-4e0d-93e1-7e7103c6c643"
      },
      "source": [
        "# Tuple indexing.\n",
        "print(t1[2])\n",
        "print(t3[-3])"
      ],
      "execution_count": null,
      "outputs": [
        {
          "output_type": "stream",
          "text": [
            "3\n",
            "4\n"
          ],
          "name": "stdout"
        }
      ]
    },
    {
      "cell_type": "code",
      "metadata": {
        "id": "LagtvhRo1bgc",
        "colab": {
          "base_uri": "https://localhost:8080/"
        },
        "outputId": "12d2cdb0-814b-49ca-c7c3-1dcad2b3a8b4"
      },
      "source": [
        "# Tuple slicing.\n",
        "\n",
        "print(t3[1:4]) # It returns a new tuple"
      ],
      "execution_count": null,
      "outputs": [
        {
          "output_type": "stream",
          "text": [
            "(2, 3, 4)\n"
          ],
          "name": "stdout"
        }
      ]
    },
    {
      "cell_type": "code",
      "metadata": {
        "id": "HMvnpfsq1bgg",
        "colab": {
          "base_uri": "https://localhost:8080/"
        },
        "outputId": "9fcbcc8d-b369-4e8d-c9f6-41c4b28a769a"
      },
      "source": [
        "# 2D Tuples\n",
        "\n",
        "t1=(1,2,3)\n",
        "t2=(4,5,6)\n",
        "t3=(t1,t2)\n",
        "print(t3)"
      ],
      "execution_count": null,
      "outputs": [
        {
          "output_type": "stream",
          "text": [
            "((1, 2, 3), (4, 5, 6))\n"
          ],
          "name": "stdout"
        }
      ]
    },
    {
      "cell_type": "code",
      "metadata": {
        "colab": {
          "base_uri": "https://localhost:8080/"
        },
        "id": "vJA81vrp_wj_",
        "outputId": "f4ead362-559d-4b2e-b0cd-65c8b22b31c8"
      },
      "source": [
        "t3[0]"
      ],
      "execution_count": null,
      "outputs": [
        {
          "output_type": "execute_result",
          "data": {
            "text/plain": [
              "(1, 2, 3)"
            ]
          },
          "metadata": {
            "tags": []
          },
          "execution_count": 93
        }
      ]
    },
    {
      "cell_type": "code",
      "metadata": {
        "id": "MQ5yVRGl1bgk",
        "colab": {
          "base_uri": "https://localhost:8080/"
        },
        "outputId": "293dc3cb-0f36-4198-90a1-364760f9c0e7"
      },
      "source": [
        "t3[0][1]"
      ],
      "execution_count": null,
      "outputs": [
        {
          "output_type": "execute_result",
          "data": {
            "text/plain": [
              "2"
            ]
          },
          "metadata": {
            "tags": []
          },
          "execution_count": 94
        }
      ]
    },
    {
      "cell_type": "code",
      "metadata": {
        "id": "rmIPBsDA1bgo",
        "colab": {
          "base_uri": "https://localhost:8080/"
        },
        "outputId": "ff631806-08fd-423f-c049-abdb0b8714bc"
      },
      "source": [
        "# Declaration of two dimentional tuple.\n",
        "\n",
        "t=(\n",
        "    (1,2,3),\n",
        "    (4,5,6),\n",
        "    (7,8,9)\n",
        ")\n",
        "\n",
        "print(t)\n",
        "print(t[0])\n",
        "print(t[0][1])"
      ],
      "execution_count": null,
      "outputs": [
        {
          "output_type": "stream",
          "text": [
            "((1, 2, 3), (4, 5, 6), (7, 8, 9))\n",
            "(1, 2, 3)\n",
            "2\n"
          ],
          "name": "stdout"
        }
      ]
    },
    {
      "cell_type": "code",
      "metadata": {
        "id": "iXW29miL1bg1",
        "colab": {
          "base_uri": "https://localhost:8080/"
        },
        "outputId": "8d5d5b48-af3d-43a7-9330-258a4f2491b8"
      },
      "source": [
        "# 2D-Tuple slicing.\n",
        "\n",
        "print(t[0:-1])"
      ],
      "execution_count": null,
      "outputs": [
        {
          "output_type": "stream",
          "text": [
            "((1, 2, 3), (4, 5, 6))\n"
          ],
          "name": "stdout"
        }
      ]
    },
    {
      "cell_type": "markdown",
      "metadata": {
        "id": "jQhnYHF91bg6"
      },
      "source": [
        "**Lists:**\n",
        "    \n",
        "Like a tuple, a list is an ordered sequence of values, where each value is identified by an index. The syntax for expressing literals of type list is similar to that used for tuples; the difference is that we use square brackets rather than parentheses. Lists can also be concatenated, indexed and sliced. Lists differ from strings and tuples in one important way: lists are mutable."
      ]
    },
    {
      "cell_type": "code",
      "metadata": {
        "id": "b9rFvxiI1bg7",
        "colab": {
          "base_uri": "https://localhost:8080/"
        },
        "outputId": "f7129c70-7b7a-4b80-e30a-8307db3f3a13"
      },
      "source": [
        "# List Declaration.\n",
        "\n",
        "l = [1,2,3,4,5]\n",
        "\n",
        "print(l)"
      ],
      "execution_count": null,
      "outputs": [
        {
          "output_type": "stream",
          "text": [
            "[1, 2, 3, 4, 5]\n"
          ],
          "name": "stdout"
        }
      ]
    },
    {
      "cell_type": "code",
      "metadata": {
        "colab": {
          "base_uri": "https://localhost:8080/"
        },
        "id": "2qFdJliyB5GI",
        "outputId": "392dff55-e9b3-480e-9a1c-a8d934fb767c"
      },
      "source": [
        "#Indexing\n",
        "\n",
        "l[2]"
      ],
      "execution_count": null,
      "outputs": [
        {
          "output_type": "execute_result",
          "data": {
            "text/plain": [
              "3"
            ]
          },
          "metadata": {
            "tags": []
          },
          "execution_count": 118
        }
      ]
    },
    {
      "cell_type": "code",
      "metadata": {
        "colab": {
          "base_uri": "https://localhost:8080/"
        },
        "id": "FrZZRYt0B-wW",
        "outputId": "4d4b9df7-f868-4327-ed8d-bfc1fbb5e997"
      },
      "source": [
        "#Slicing\n",
        "\n",
        "l[2:4]"
      ],
      "execution_count": null,
      "outputs": [
        {
          "output_type": "execute_result",
          "data": {
            "text/plain": [
              "[3, 4]"
            ]
          },
          "metadata": {
            "tags": []
          },
          "execution_count": 119
        }
      ]
    },
    {
      "cell_type": "markdown",
      "metadata": {
        "id": "khNdQLo41bg-"
      },
      "source": [
        "We can perform concatenation, indexing and slicing in list as like as tuple."
      ]
    },
    {
      "cell_type": "code",
      "metadata": {
        "id": "cZOKFvr11bg_",
        "colab": {
          "base_uri": "https://localhost:8080/"
        },
        "outputId": "8d6456e9-d9f2-41f1-bcc4-503884fe76ce"
      },
      "source": [
        "# In list we can update a value of a list as it is immutable.\n",
        "\n",
        "l = [1,2,3,4,5]\n",
        "print(l)\n",
        "\n",
        "# List Update.\n",
        "\n",
        "l[1] = 20\n",
        "print(l)"
      ],
      "execution_count": null,
      "outputs": [
        {
          "output_type": "stream",
          "text": [
            "[1, 2, 3, 4, 5]\n",
            "[1, 20, 3, 4, 5]\n"
          ],
          "name": "stdout"
        }
      ]
    },
    {
      "cell_type": "markdown",
      "metadata": {
        "id": "uwjmTUKR1bhC"
      },
      "source": [
        "Two dimentonal list is also as same as two dimentional tuple."
      ]
    },
    {
      "cell_type": "code",
      "metadata": {
        "id": "WYjf6ecf1bhD",
        "colab": {
          "base_uri": "https://localhost:8080/"
        },
        "outputId": "32c2a837-4d5c-4ec9-a351-acb975db45dd"
      },
      "source": [
        "l1=[1,2,3]\n",
        "l2=[4,5,6]\n",
        "l3=[l1,l2]\n",
        "print(l3)"
      ],
      "execution_count": null,
      "outputs": [
        {
          "output_type": "stream",
          "text": [
            "[[1, 2, 3], [4, 5, 6]]\n"
          ],
          "name": "stdout"
        }
      ]
    },
    {
      "cell_type": "code",
      "metadata": {
        "id": "ehn1oakC1bhJ",
        "colab": {
          "base_uri": "https://localhost:8080/"
        },
        "outputId": "4252fd3a-fb39-4fd3-fe33-e11042c98b46"
      },
      "source": [
        "print(l3[0][1])"
      ],
      "execution_count": null,
      "outputs": [
        {
          "output_type": "stream",
          "text": [
            "2\n"
          ],
          "name": "stdout"
        }
      ]
    },
    {
      "cell_type": "code",
      "metadata": {
        "id": "rQvDtii81bhP",
        "colab": {
          "base_uri": "https://localhost:8080/"
        },
        "outputId": "812b87ed-89fc-42ea-af44-59624446afb5"
      },
      "source": [
        "# Declaration of two dimentional list.\n",
        "\n",
        "l=[\n",
        "    [1,2,3],\n",
        "    [4,5,6],\n",
        "    [7,8,9]\n",
        "]\n",
        "\n",
        "print(l)\n",
        "\n",
        "print(l[0][1])"
      ],
      "execution_count": null,
      "outputs": [
        {
          "output_type": "stream",
          "text": [
            "[[1, 2, 3], [4, 5, 6], [7, 8, 9]]\n",
            "2\n"
          ],
          "name": "stdout"
        }
      ]
    },
    {
      "cell_type": "markdown",
      "metadata": {
        "id": "Z0jUAhD-1bhU"
      },
      "source": [
        "Some list methods:"
      ]
    },
    {
      "cell_type": "code",
      "metadata": {
        "id": "5dN6huNe1bhV",
        "colab": {
          "base_uri": "https://localhost:8080/"
        },
        "outputId": "353ad185-b9ec-45c2-ded0-ec52909b0157"
      },
      "source": [
        "l = [1,2,3,4,5]\n",
        "print(l)\n",
        "\n",
        "# Append.\n",
        "l.append(6)\n",
        "print(l)\n",
        "\n",
        "# We can also insert a number in any position using insert() method.\n",
        "l.insert(0,100)\n",
        "print(l)"
      ],
      "execution_count": null,
      "outputs": [
        {
          "output_type": "stream",
          "text": [
            "[1, 2, 3, 4, 5]\n",
            "[1, 2, 3, 4, 5, 6]\n",
            "[100, 1, 2, 3, 4, 5, 6]\n"
          ],
          "name": "stdout"
        }
      ]
    },
    {
      "cell_type": "code",
      "metadata": {
        "colab": {
          "base_uri": "https://localhost:8080/"
        },
        "id": "ixjLC225CMn4",
        "outputId": "df4aa356-5bbd-408d-a25d-3568180ff22e"
      },
      "source": [
        "l"
      ],
      "execution_count": null,
      "outputs": [
        {
          "output_type": "execute_result",
          "data": {
            "text/plain": [
              "[100, 1, 2, 3, 4, 5, 6]"
            ]
          },
          "metadata": {
            "tags": []
          },
          "execution_count": 121
        }
      ]
    },
    {
      "cell_type": "markdown",
      "metadata": {
        "id": "uhoHIRgy1bhZ"
      },
      "source": [
        "Reversing a list"
      ]
    },
    {
      "cell_type": "code",
      "metadata": {
        "id": "BVpYb7id1bhZ",
        "colab": {
          "base_uri": "https://localhost:8080/"
        },
        "outputId": "204288e2-d513-4271-9bbe-9c38e8f4bc27"
      },
      "source": [
        "l[::-1]"
      ],
      "execution_count": null,
      "outputs": [
        {
          "output_type": "execute_result",
          "data": {
            "text/plain": [
              "[6, 5, 4, 3, 2, 1, 100]"
            ]
          },
          "metadata": {
            "tags": []
          },
          "execution_count": 122
        }
      ]
    },
    {
      "cell_type": "markdown",
      "metadata": {
        "id": "pnj7K6Hs1bhc"
      },
      "source": [
        "**Some more methods:**\n",
        "    \n",
        "    remove()  -> remove a specific element of list.\n",
        "    \n",
        "    clear()   -> clear all elements of list.\n",
        "    \n",
        "    pop()     -> returns the last element of list.\n",
        "    \n",
        "    index()   -> returns the element of specifying index.\n",
        "    \n",
        "    count()   -> count the total elements of list.\n",
        "    \n",
        "    sort()    -> sort the elements of the list in ascending order.\n",
        "    \n",
        "    reverse() -> reverse the elents of the list.\n",
        "    \n",
        "    copy()    -> copy all the elements of a list into a another list."
      ]
    },
    {
      "cell_type": "markdown",
      "metadata": {
        "id": "EIXDhhT81bhe"
      },
      "source": [
        "We can convert a tuple into a list and also a list into a tuple."
      ]
    },
    {
      "cell_type": "code",
      "metadata": {
        "id": "_0e3yoW41bhe",
        "colab": {
          "base_uri": "https://localhost:8080/"
        },
        "outputId": "b85a1829-c0b4-4d1d-b33b-feadd30c1737"
      },
      "source": [
        "# Convert a tuple into a list.\n",
        "\n",
        "t=(1,2,3,4,5)\n",
        "print(list(t))\n",
        "\n",
        "# Convert a list into a tuple.\n",
        "\n",
        "l=[1,2,3,4,5]\n",
        "print(tuple(l))"
      ],
      "execution_count": null,
      "outputs": [
        {
          "output_type": "stream",
          "text": [
            "[1, 2, 3, 4, 5]\n",
            "(1, 2, 3, 4, 5)\n"
          ],
          "name": "stdout"
        }
      ]
    },
    {
      "cell_type": "markdown",
      "metadata": {
        "id": "dytVfNmU1bhl"
      },
      "source": [
        "**Few examples:**"
      ]
    },
    {
      "cell_type": "code",
      "metadata": {
        "id": "FvmX1wjM1bhm",
        "colab": {
          "base_uri": "https://localhost:8080/"
        },
        "outputId": "aba0f22d-fcb8-4278-b072-75de6580dbc4"
      },
      "source": [
        "#Find maximum elements in a list.\n",
        "#Method1:\n",
        "\n",
        "numbers = [6,1,5,10,2]\n",
        "max=numbers[0]\n",
        "for i in numbers:\n",
        "    if i>max:\n",
        "        max=i\n",
        "print(f\" Maximum number in list is: {max}\")"
      ],
      "execution_count": null,
      "outputs": [
        {
          "output_type": "stream",
          "text": [
            " Maximum number in list is: 10\n"
          ],
          "name": "stdout"
        }
      ]
    },
    {
      "cell_type": "code",
      "metadata": {
        "colab": {
          "base_uri": "https://localhost:8080/"
        },
        "id": "TUaaeP-5DzDv",
        "outputId": "2a5dfe96-a540-474e-ade5-4876756293f1"
      },
      "source": [
        "#Method2:\n",
        "list1 = numbers\n",
        "list1.sort()\n",
        "list1[-1]"
      ],
      "execution_count": null,
      "outputs": [
        {
          "output_type": "execute_result",
          "data": {
            "text/plain": [
              "10"
            ]
          },
          "metadata": {
            "tags": []
          },
          "execution_count": 145
        }
      ]
    },
    {
      "cell_type": "code",
      "metadata": {
        "colab": {
          "base_uri": "https://localhost:8080/"
        },
        "id": "D1QxgxjCE8DF",
        "outputId": "3d45f1bf-58df-4149-b97d-d374aae16f41"
      },
      "source": [
        "#Singleton tuple\n",
        "list1= [1,2,3,4,5]\n",
        "tp=()\n",
        "for i in list1:\n",
        "    tp = tp + (i,)\n",
        "print(tp)"
      ],
      "execution_count": null,
      "outputs": [
        {
          "output_type": "stream",
          "text": [
            "(1, 2, 3, 4, 5)\n"
          ],
          "name": "stdout"
        }
      ]
    },
    {
      "cell_type": "code",
      "metadata": {
        "colab": {
          "base_uri": "https://localhost:8080/"
        },
        "id": "egf91FPAFa0f",
        "outputId": "32782b73-5def-4d6a-f2e4-b8835a549dbf"
      },
      "source": [
        "#Singleton list\n",
        "t1 = (1,2,3,4,5)\n",
        "list1=[]\n",
        "for i in t1:\n",
        "    list1 = list1 + [i]\n",
        "print(list1)"
      ],
      "execution_count": null,
      "outputs": [
        {
          "output_type": "stream",
          "text": [
            "[1, 2, 3, 4, 5]\n"
          ],
          "name": "stdout"
        }
      ]
    },
    {
      "cell_type": "code",
      "metadata": {
        "id": "_QciWU_D1bhs",
        "colab": {
          "base_uri": "https://localhost:8080/"
        },
        "outputId": "ca858b6d-5f02-4dea-c345-e116e5055d51"
      },
      "source": [
        "\"\"\"\n",
        "Find the sum of digits of a number using an user defined function digits(x) which returns a tuple containing the digits\n",
        "of the number.\n",
        "\"\"\"\n",
        "# Sumofdigits\n",
        "\n",
        "def digits(x):\n",
        "    t1=()\n",
        "    while(x>0):\n",
        "        t1=t1+(x%10,)\n",
        "        x//=10\n",
        "    return t1\n",
        "\n",
        "n=int(input('Enter the number : '))\n",
        "\n",
        "t2=digits(n)\n",
        "print(t2)\n",
        "\n",
        "sum=0\n",
        "for i in t2:\n",
        "    sum=sum+i\n",
        "print(sum)"
      ],
      "execution_count": null,
      "outputs": [
        {
          "output_type": "stream",
          "text": [
            "Enter the number : 123\n",
            "(3, 2, 1)\n",
            "6\n"
          ],
          "name": "stdout"
        }
      ]
    },
    {
      "cell_type": "markdown",
      "metadata": {
        "id": "2VhoRbFX1bhw"
      },
      "source": [
        "**Excercises:**\n",
        "    \n",
        "    1.Create a tuple with different data types, print the tuple and then add one more item into the tuple and print it again.\n",
        "    \n",
        "    2.Create a tuple and find the repeated items of the tuple.\n",
        "    \n",
        "    3.Input a number and check if it a pefect number or not using an user defined function factors(x)\n",
        "    which returns a tuple containing the factors of the number.\n",
        "    \n",
        "    4.Convert a given list into a tuple.\n",
        "    \n",
        "    5.Create a list of n tuples and sort them according to the second element of each tuple.\n",
        "    \n",
        "    6.Create a list containing n tuples and replace last value of all tuples in the list.\n",
        "    Sample list: [(10,20,40), (40,50,60), (70,80,90)]\n",
        "    Expected Output: [(10, 20, 100), (40, 50, 100), (70, 80, 100)]\n",
        "    \n",
        "    7.Create a list containing n tuples and remove all empty tuple(s) from the list.\n",
        "    Sample data: [(),(), ('',), ('a', 'b'), ('a', 'b', 'c'), ('d')]\n",
        "    Expected output: [('',), ('a', 'b'), ('a', 'b', 'c'), 'd']\n",
        "    \n",
        "    8.Input a list and split the odd and even numbers into two separate lists.\n",
        "    \n",
        "    9.Enter the roll, name and marks of n students print their records. Finally find the student name\n",
        "    with the highest marks."
      ]
    },
    {
      "cell_type": "markdown",
      "metadata": {
        "id": "lz7UNvMl1bhw"
      },
      "source": [
        "# Dictionaries"
      ]
    },
    {
      "cell_type": "markdown",
      "metadata": {
        "id": "rmwA_OPs1bhx"
      },
      "source": [
        "A Dictionary is an unordered collection of data values, used to store data values like a map, unlike other datatypes that hold only single value as an element.\n",
        "\n",
        "A Dictionary holds key:value pairs, each key-value pair being separated by a colon :, whereas each key is separated by a ‘comma’.\n",
        "\n",
        "Keys of a Dictionary must be unique and of immutable data type such as Strings and tuples, but the key-values can be repeated and be of any type."
      ]
    },
    {
      "cell_type": "code",
      "source": [],
      "metadata": {
        "id": "8NEk6qSXDCe8"
      },
      "execution_count": null,
      "outputs": []
    },
    {
      "cell_type": "code",
      "metadata": {
        "id": "U07FsPTGHuWu"
      },
      "source": [
        "#Empty dictionary\n",
        "emp = {}"
      ],
      "execution_count": null,
      "outputs": []
    },
    {
      "cell_type": "code",
      "metadata": {
        "colab": {
          "base_uri": "https://localhost:8080/"
        },
        "id": "KcXRRxb-Hzf2",
        "outputId": "6b1860a9-3904-49d5-abe1-f11183734c48"
      },
      "source": [
        "emp[\"name\"] = \"Shahrukh\"\n",
        "emp[\"phone\"] = 9900990099\n",
        "print(emp)"
      ],
      "execution_count": null,
      "outputs": [
        {
          "output_type": "stream",
          "text": [
            "{'name': 'Shahrukh', 'phone': 9900990099}\n"
          ],
          "name": "stdout"
        }
      ]
    },
    {
      "cell_type": "code",
      "metadata": {
        "id": "PGPupsxd1bhy"
      },
      "source": [
        "# Declaration\n",
        "\n",
        "student={\n",
        "    \"name\" : \"Sachin Tendulkar\",\n",
        "    \"age\" : 27,\n",
        "    \"marks\" : 77.50,\n",
        "    \"email\" : \"stendulkar@gmail.com\"\n",
        "}"
      ],
      "execution_count": null,
      "outputs": []
    },
    {
      "cell_type": "code",
      "metadata": {
        "colab": {
          "base_uri": "https://localhost:8080/"
        },
        "id": "wa1NDoGmG4Km",
        "outputId": "33bcd6c2-459a-40af-a56f-0e926793ec1d"
      },
      "source": [
        "print(student)"
      ],
      "execution_count": null,
      "outputs": [
        {
          "output_type": "stream",
          "text": [
            "{'name': 'Sachin Tendulkar', 'age': 27, 'marks': 77.5, 'email': 'stendulkar@gmail.com'}\n"
          ],
          "name": "stdout"
        }
      ]
    },
    {
      "cell_type": "code",
      "metadata": {
        "id": "MVX7RDY61bh1",
        "colab": {
          "base_uri": "https://localhost:8080/"
        },
        "outputId": "92a32745-4a83-49a6-9088-719b72e5fb04"
      },
      "source": [
        "# Access value through a key\n",
        "\n",
        "print(student[\"name\"])"
      ],
      "execution_count": null,
      "outputs": [
        {
          "output_type": "stream",
          "text": [
            "Sachin Tendulkar\n"
          ],
          "name": "stdout"
        }
      ]
    },
    {
      "cell_type": "code",
      "metadata": {
        "id": "tliCDz3H1bh4"
      },
      "source": [
        "#\"print(student[\"birth_date\"])\" will give an error, because there is no key name \" birthyear \""
      ],
      "execution_count": null,
      "outputs": []
    },
    {
      "cell_type": "code",
      "metadata": {
        "id": "KaSF3mFC1bh7",
        "colab": {
          "base_uri": "https://localhost:8080/"
        },
        "outputId": "fb5e4d15-c8b6-4fe8-8531-5810618375c4"
      },
      "source": [
        "# Updating a value\n",
        "\n",
        "student[\"name\"] = \"Bob Biswas\"\n",
        "print(student[\"name\"])"
      ],
      "execution_count": null,
      "outputs": [
        {
          "output_type": "stream",
          "text": [
            "Bob Biswas\n"
          ],
          "name": "stdout"
        }
      ]
    },
    {
      "cell_type": "code",
      "metadata": {
        "id": "cGX2ic8y1bh_",
        "colab": {
          "base_uri": "https://localhost:8080/"
        },
        "outputId": "095bbf3a-3a14-49a6-907a-2f1531d465cb"
      },
      "source": [
        "# Add a new key\n",
        "\n",
        "student[\"birth_date\"] = \"aug 15, 1947\"\n",
        "print(student[\"birth_date\"])"
      ],
      "execution_count": null,
      "outputs": [
        {
          "output_type": "stream",
          "text": [
            "aug 15, 1947\n"
          ],
          "name": "stdout"
        }
      ]
    },
    {
      "cell_type": "code",
      "metadata": {
        "id": "zfx56mmEHRGP"
      },
      "source": [
        "student[\"address\"] = \"Kolkata\""
      ],
      "execution_count": null,
      "outputs": []
    },
    {
      "cell_type": "code",
      "metadata": {
        "colab": {
          "base_uri": "https://localhost:8080/"
        },
        "id": "f_hHbY4THV8K",
        "outputId": "791e117e-8683-4d32-a2b4-cf61ba40950e"
      },
      "source": [
        "print(student)"
      ],
      "execution_count": null,
      "outputs": [
        {
          "output_type": "stream",
          "text": [
            "{'name': 'Bob Biswas', 'age': 27, 'marks': 77.5, 'email': 'stendulkar@gmail.com', 'birth_date': 'aug 15, 1947', 'address': 'Kolkata'}\n"
          ],
          "name": "stdout"
        }
      ]
    },
    {
      "cell_type": "code",
      "metadata": {
        "id": "mBWHjtCo1biC",
        "colab": {
          "base_uri": "https://localhost:8080/"
        },
        "outputId": "a7a92c69-270b-40a5-c2cc-8011c2dc70cb"
      },
      "source": [
        "# Coverts a phone numbers into words\n",
        "\n",
        "digits_to_words={\n",
        "    \"0\" : \"zero\",\n",
        "    \"1\" : \"one\",\n",
        "    \"2\" : \"two\",\n",
        "    \"3\" : \"three\",\n",
        "    \"4\" : \"four\",\n",
        "    \"5\" : \"five\",\n",
        "    \"6\" : \"six\",\n",
        "    \"7\" : \"seven\",\n",
        "    \"8\" : \"eight\",\n",
        "    \"9\" : \"nine\",\n",
        "}\n",
        "\n",
        "ph_number=input(\"Enter a phone number: \")\n",
        "ph_words=\"\"\n",
        "\n",
        "for ch in ph_number:\n",
        "    ph_words+=digits_to_words[ch] + \" \"\n",
        "\n",
        "print(\"The phone number in words is: \",{ph_words})"
      ],
      "execution_count": null,
      "outputs": [
        {
          "output_type": "stream",
          "text": [
            "Enter a phone number: 9830581814\n",
            "The phone number in words is:  {'nine eight three zero five eight one eight one four '}\n"
          ],
          "name": "stdout"
        }
      ]
    },
    {
      "cell_type": "markdown",
      "metadata": {
        "id": "ePxxh9jO1biG"
      },
      "source": [
        "# Set"
      ]
    },
    {
      "cell_type": "markdown",
      "metadata": {
        "id": "vUH-4qMU1biH"
      },
      "source": [
        "A set is a collection which is unordered and unindexed.\n",
        "\n",
        "Note: Sets are unordered, so the items will appear in a random order.\n",
        "\n",
        "s = set() creates an empty set\n",
        "\n",
        "Python has a set of built-in methods that you can use on sets."
      ]
    },
    {
      "cell_type": "code",
      "metadata": {
        "id": "AETvDDJq1biI",
        "colab": {
          "base_uri": "https://localhost:8080/"
        },
        "outputId": "f781c1ad-305c-46eb-814a-1df6be96c43b"
      },
      "source": [
        "# Declaration\n",
        "\n",
        "s={1,2,3,4,5}\n",
        "t={3,4,5,6,6,7}\n",
        "\n",
        "#print\n",
        "\n",
        "print(s)\n",
        "print(t)"
      ],
      "execution_count": null,
      "outputs": [
        {
          "output_type": "stream",
          "text": [
            "{1, 2, 3, 4, 5}\n",
            "{3, 4, 5, 6, 7}\n"
          ],
          "name": "stdout"
        }
      ]
    },
    {
      "cell_type": "code",
      "metadata": {
        "id": "uuelt-Kb1biK",
        "colab": {
          "base_uri": "https://localhost:8080/"
        },
        "outputId": "66af15a0-5cb9-49a2-c25b-2dfec7785c33"
      },
      "source": [
        "# Union\n",
        "\n",
        "print(s.union(t))"
      ],
      "execution_count": null,
      "outputs": [
        {
          "output_type": "stream",
          "text": [
            "{1, 2, 3, 4, 5, 6, 7}\n"
          ],
          "name": "stdout"
        }
      ]
    },
    {
      "cell_type": "code",
      "metadata": {
        "id": "AVRqezeA1biN",
        "colab": {
          "base_uri": "https://localhost:8080/"
        },
        "outputId": "0890322b-3e54-4bf3-9ee0-6884afe4a947"
      },
      "source": [
        "# To add more than one value\n",
        "\n",
        "t.update([8,9])\n",
        "\n",
        "print(t)"
      ],
      "execution_count": null,
      "outputs": [
        {
          "output_type": "stream",
          "text": [
            "{3, 4, 5, 6, 7, 8, 9}\n"
          ],
          "name": "stdout"
        }
      ]
    },
    {
      "cell_type": "code",
      "metadata": {
        "id": "EJn_0X2D1biS",
        "colab": {
          "base_uri": "https://localhost:8080/"
        },
        "outputId": "64f343db-a7fe-430d-86aa-3da5425a564f"
      },
      "source": [
        "# To remove a value\n",
        "\n",
        "t.remove(6)\n",
        "\n",
        "print(t)"
      ],
      "execution_count": null,
      "outputs": [
        {
          "output_type": "stream",
          "text": [
            "{3, 4, 5, 7, 8, 9}\n"
          ],
          "name": "stdout"
        }
      ]
    },
    {
      "cell_type": "markdown",
      "metadata": {
        "id": "mJibvfOx1biX"
      },
      "source": [
        "**Some more methods:**\n",
        "    \n",
        "**Method\t\t     Description**\n",
        "    \n",
        "len()           -> Returns the length of the set\n",
        "    \n",
        "clear()\t\t\t    -> Removes all the elements from the set\n",
        "    \n",
        "difference()\t  -> Returns a set containing the difference between 2 or more sets\n",
        "    \n",
        "discard()\t\t    -> Remove the specified item\n",
        "   \n",
        "intersection()\t-> Returns a set, that is the intersection of two sets\n",
        "    \n",
        "pop()\t\t\t      -> Removes an element from the set"
      ]
    },
    {
      "cell_type": "code",
      "metadata": {
        "id": "Szk2hrUa1biY",
        "colab": {
          "base_uri": "https://localhost:8080/"
        },
        "outputId": "ac8b8cbf-fd41-42d6-e1d3-68d2838c42d8"
      },
      "source": [
        "# Coverting a list into a set\n",
        "\n",
        "s = [1,2,3,4,2,1,5]\n",
        "\n",
        "s=set(s)\n",
        "\n",
        "print(s)"
      ],
      "execution_count": null,
      "outputs": [
        {
          "output_type": "stream",
          "text": [
            "{1, 2, 3, 4, 5}\n"
          ],
          "name": "stdout"
        }
      ]
    },
    {
      "cell_type": "code",
      "metadata": {
        "colab": {
          "base_uri": "https://localhost:8080/"
        },
        "id": "CIucoqY4eGOF",
        "outputId": "a76c8b13-2476-4191-dfc8-bd5110a0e9d5"
      },
      "source": [
        "l = {3,4,1,2,3}\n",
        "print(list(l))"
      ],
      "execution_count": null,
      "outputs": [
        {
          "output_type": "stream",
          "text": [
            "[1, 2, 3, 4]\n"
          ],
          "name": "stdout"
        }
      ]
    },
    {
      "cell_type": "markdown",
      "metadata": {
        "id": "edo3c3eb1bic"
      },
      "source": [
        "In this way we can convert a tuple and a dictionary into set"
      ]
    },
    {
      "cell_type": "markdown",
      "metadata": {
        "id": "GuIhXIirxi6L"
      },
      "source": [
        "# Arrays"
      ]
    },
    {
      "cell_type": "code",
      "metadata": {
        "id": "YMcQ6OFCyHsD"
      },
      "source": [
        "#Importing array\n",
        "import array as arr"
      ],
      "execution_count": null,
      "outputs": []
    },
    {
      "cell_type": "code",
      "metadata": {
        "colab": {
          "base_uri": "https://localhost:8080/"
        },
        "id": "cLlJzGg_xpG9",
        "outputId": "b2719cbe-2be9-4830-d0a3-ea368d5fc6be"
      },
      "source": [
        "# creating an array with integer type\n",
        "a = arr.array('i', [1, 2, 3])\n",
        "\n",
        "# printing original array\n",
        "print (\"The new created array is : \", end =\" \")\n",
        "for i in range (0, 3):\n",
        "    print (a[i], end =\" \")\n",
        "print()\n",
        "\n",
        "for i in a:\n",
        "  print(i, end=' ')"
      ],
      "execution_count": null,
      "outputs": [
        {
          "output_type": "stream",
          "text": [
            "The new created array is :  1 2 3 \n",
            "1 2 3 "
          ],
          "name": "stdout"
        }
      ]
    },
    {
      "cell_type": "code",
      "metadata": {
        "colab": {
          "base_uri": "https://localhost:8080/"
        },
        "id": "rmo4Grhhx0WL",
        "outputId": "2abe8ddc-3d47-4aaf-fc81-189932e5b577"
      },
      "source": [
        "# creating an array with float type\n",
        "b = arr.array('d', [2.5, 3.2, 3.3])\n",
        "\n",
        "# printing original array\n",
        "print (\"The new created array is : \", end =\" \")\n",
        "for i in range (0, 3):\n",
        "    print (b[i], end =\" \")"
      ],
      "execution_count": null,
      "outputs": [
        {
          "output_type": "stream",
          "text": [
            "The new created array is :  2.5 3.2 3.3 "
          ],
          "name": "stdout"
        }
      ]
    },
    {
      "cell_type": "markdown",
      "metadata": {
        "id": "Pyw14f4jybYD"
      },
      "source": [
        "**Inserting elements into an array**"
      ]
    },
    {
      "cell_type": "code",
      "metadata": {
        "colab": {
          "base_uri": "https://localhost:8080/"
        },
        "id": "pdpbSMOKyLiF",
        "outputId": "79d01e3c-e761-4948-c1ad-202397f8b00a"
      },
      "source": [
        "a.insert(1, 4)\n",
        "for i in (a):\n",
        "    print (i, end =\" \")\n",
        "\n",
        "print()\n",
        "b.append(4.4)\n",
        "for i in (b):\n",
        "    print (i, end =\" \")\n",
        "print()"
      ],
      "execution_count": null,
      "outputs": [
        {
          "output_type": "stream",
          "text": [
            "1 4 2 3 \n",
            "2.5 3.2 3.3 4.4 \n"
          ],
          "name": "stdout"
        }
      ]
    },
    {
      "cell_type": "markdown",
      "metadata": {
        "id": "h-xDtdM6yolb"
      },
      "source": [
        "**Removing elements from an array**"
      ]
    },
    {
      "cell_type": "code",
      "metadata": {
        "colab": {
          "base_uri": "https://localhost:8080/"
        },
        "id": "sVbeWSIZyrvF",
        "outputId": "ebb7e928-8b34-4d07-c4bf-d53b0b27ff2c"
      },
      "source": [
        "#Using pop()\n",
        "print (\"The popped element is : \", end =\"\")\n",
        "print (a.pop(2))\n",
        "for i in (a):\n",
        "    print (i, end =\" \")"
      ],
      "execution_count": null,
      "outputs": [
        {
          "output_type": "stream",
          "text": [
            "The popped element is : 10\n",
            "1 4 3 "
          ],
          "name": "stdout"
        }
      ]
    },
    {
      "cell_type": "code",
      "metadata": {
        "colab": {
          "base_uri": "https://localhost:8080/"
        },
        "id": "L0R9vsLLy2QA",
        "outputId": "86c89a02-90f6-47d5-eb8b-dd8b5c5f7dd3"
      },
      "source": [
        "#Using remove()\n",
        "b.remove(3.2)\n",
        "for i in (b):\n",
        "    print (i, end =\" \")"
      ],
      "execution_count": null,
      "outputs": [
        {
          "output_type": "stream",
          "text": [
            "2.5 3.3 4.4 "
          ],
          "name": "stdout"
        }
      ]
    },
    {
      "cell_type": "markdown",
      "metadata": {
        "id": "bBJBR-SRzT5L"
      },
      "source": [
        "**Slicing an array**"
      ]
    },
    {
      "cell_type": "code",
      "metadata": {
        "colab": {
          "base_uri": "https://localhost:8080/"
        },
        "id": "UDOxmtJCzWPA",
        "outputId": "6757088f-6e13-441e-b131-09c1b4fe3c0b"
      },
      "source": [
        "# creating a list\n",
        "l = [1, 2, 3, 4, 5, 6, 7, 8, 9, 10]\n",
        "\n",
        "a = arr.array('i', l)\n",
        "print(\"Intial Array: \")\n",
        "for i in (a):\n",
        "    print(i, end =\" \")\n",
        "\n",
        "#Slicing within a range\n",
        "Sliced_array = a[4:7]\n",
        "print(\"\\nSlicing elements in a range 4-7: \")\n",
        "print(Sliced_array)\n",
        "\n",
        "#Slicing till end\n",
        "Sliced_array = a[5:]\n",
        "print(\"\\nElements sliced from 5th element till the end: \")\n",
        "print(Sliced_array)"
      ],
      "execution_count": null,
      "outputs": [
        {
          "output_type": "stream",
          "text": [
            "Intial Array: \n",
            "1 2 3 4 5 6 7 8 9 10 \n",
            "Slicing elements in a range 4-7: \n",
            "array('i', [5, 6, 7])\n",
            "\n",
            "Elements sliced from 5th element till the end: \n",
            "array('i', [6, 7, 8, 9, 10])\n"
          ],
          "name": "stdout"
        }
      ]
    },
    {
      "cell_type": "markdown",
      "metadata": {
        "id": "r47V-_nxzyzb"
      },
      "source": [
        "**Searching an element from the array**"
      ]
    },
    {
      "cell_type": "code",
      "metadata": {
        "colab": {
          "base_uri": "https://localhost:8080/"
        },
        "id": "XiXktcJvzsYW",
        "outputId": "e92e96f8-8ff5-4456-91bb-c511e72322b6"
      },
      "source": [
        "print(a.index(5))"
      ],
      "execution_count": null,
      "outputs": [
        {
          "output_type": "stream",
          "text": [
            "4\n"
          ],
          "name": "stdout"
        }
      ]
    },
    {
      "cell_type": "markdown",
      "metadata": {
        "id": "P9whOnlHz7JZ"
      },
      "source": [
        "**Updating an element**"
      ]
    },
    {
      "cell_type": "code",
      "metadata": {
        "colab": {
          "base_uri": "https://localhost:8080/"
        },
        "id": "iwn158Ziz9pk",
        "outputId": "9ea8495a-7885-467a-8dcc-b82dfa50e1a7"
      },
      "source": [
        "a[2] = 20\n",
        "print(a)"
      ],
      "execution_count": null,
      "outputs": [
        {
          "output_type": "stream",
          "text": [
            "array('i', [1, 2, 20, 4, 5, 6, 7, 8, 9, 10])\n"
          ],
          "name": "stdout"
        }
      ]
    },
    {
      "cell_type": "markdown",
      "metadata": {
        "id": "Abinj8IwiZ2d"
      },
      "source": [
        "**Example**"
      ]
    },
    {
      "cell_type": "code",
      "metadata": {
        "colab": {
          "base_uri": "https://localhost:8080/"
        },
        "id": "JMmjqNsuiBVN",
        "outputId": "e469c65e-9541-4a96-e346-7897342f3c2a"
      },
      "source": [
        "l=[]\n",
        "for i in a:\n",
        "  l.append(i**2)\n",
        "print(l)"
      ],
      "execution_count": null,
      "outputs": [
        {
          "output_type": "stream",
          "text": [
            "[1, 4, 400, 16, 25, 36, 49, 64, 81, 100]\n"
          ],
          "name": "stdout"
        }
      ]
    },
    {
      "cell_type": "markdown",
      "metadata": {
        "id": "l1d7EGwU1bid"
      },
      "source": [
        "# ZIP"
      ]
    },
    {
      "cell_type": "markdown",
      "metadata": {
        "id": "l10fUTEc1bif"
      },
      "source": [
        "Creates a single iterator object, having mapped values from all containers."
      ]
    },
    {
      "cell_type": "code",
      "metadata": {
        "colab": {
          "base_uri": "https://localhost:8080/"
        },
        "id": "Wj2zxvrQ1bif",
        "outputId": "67810ea4-7b64-4441-921c-f95d0b6dc089"
      },
      "source": [
        "name = [\"Shahrukh\", \"Salman\", \"Amir\", \"Akshay\"]\n",
        "rank = [3, 4, 1, 2]\n",
        "charge_per_film = [60, 50, 80, 50]\n",
        "\n",
        "obj=zip(name, rank, charge_per_film)\n",
        "\n",
        "# converting values to print as set\n",
        "obj=set(obj)\n",
        "\n",
        "print(\"The zipped result is : \",end=\"\")\n",
        "print(obj)"
      ],
      "execution_count": null,
      "outputs": [
        {
          "output_type": "stream",
          "text": [
            "The zipped result is : {('Akshay', 2, 50), ('Salman', 4, 50), ('Shahrukh', 3, 60), ('Amir', 1, 80)}\n"
          ],
          "name": "stdout"
        }
      ]
    },
    {
      "cell_type": "markdown",
      "metadata": {
        "id": "ZfQkbi1X1biq"
      },
      "source": [
        "Unzipping values"
      ]
    },
    {
      "cell_type": "code",
      "metadata": {
        "id": "OuTiY9-U1bir",
        "colab": {
          "base_uri": "https://localhost:8080/"
        },
        "outputId": "7322a2ee-2c4f-4fff-abd4-b6c9dc22dc48"
      },
      "source": [
        "n, r, ch = zip(*obj)\n",
        "print(\"The unzipped result: \\n\",end=\"\")\n",
        "print(n)\n",
        "print(r)\n",
        "print(ch)"
      ],
      "execution_count": null,
      "outputs": [
        {
          "output_type": "stream",
          "text": [
            "The unzipped result: \n",
            "('Akshay', 'Salman', 'Shahrukh', 'Amir')\n",
            "(2, 4, 3, 1)\n",
            "(50, 50, 60, 80)\n"
          ],
          "name": "stdout"
        }
      ]
    },
    {
      "cell_type": "markdown",
      "metadata": {
        "id": "uUWhSCw-1biu"
      },
      "source": [
        "**Usage example**"
      ]
    },
    {
      "cell_type": "code",
      "metadata": {
        "id": "111bJbHd1biu",
        "colab": {
          "base_uri": "https://localhost:8080/"
        },
        "outputId": "ad07fa65-f4fb-49f9-af4a-93bf22e608ea"
      },
      "source": [
        "name = [\"Shahrukh\", \"Salman\", \"Amir\", \"Akshay\"]\n",
        "charge = [60, 50, 80, 50]\n",
        "\n",
        "for n,c in zip(name, charge):\n",
        "    print (\"Actor : %s     Charge : %d\" %(n, c))"
      ],
      "execution_count": null,
      "outputs": [
        {
          "output_type": "stream",
          "text": [
            "Actor : Shahrukh     Charge : 60\n",
            "Actor : Salman     Charge : 50\n",
            "Actor : Amir     Charge : 80\n",
            "Actor : Akshay     Charge : 50\n"
          ],
          "name": "stdout"
        }
      ]
    },
    {
      "cell_type": "markdown",
      "metadata": {
        "id": "a2LRscEj1biy"
      },
      "source": [
        "# lambda (Anonymous Functions)"
      ]
    },
    {
      "cell_type": "code",
      "metadata": {
        "id": "nk8tsBvh1biz",
        "colab": {
          "base_uri": "https://localhost:8080/"
        },
        "outputId": "579ad3a8-dc2e-42ad-c73c-b3a4d99c621f"
      },
      "source": [
        "def square(x):\n",
        "    return x*x;\n",
        "print(square(5))\n",
        "\n",
        "\n",
        "f = lambda x: x*x\n",
        "print(f(7))"
      ],
      "execution_count": null,
      "outputs": [
        {
          "output_type": "stream",
          "name": "stdout",
          "text": [
            "25\n",
            "49\n"
          ]
        }
      ]
    },
    {
      "cell_type": "markdown",
      "metadata": {
        "id": "TiqfrxQW1bi3"
      },
      "source": [
        "**Usage example:**"
      ]
    },
    {
      "cell_type": "code",
      "metadata": {
        "id": "Eb9yVoIq1bi3",
        "colab": {
          "base_uri": "https://localhost:8080/"
        },
        "outputId": "89996ccf-da7d-479a-ff5e-200f21663a99"
      },
      "source": [
        "mylist = [5, 7, 22, 97, 54, 62, 77, 23, 73, 61]\n",
        "filtered_list = list(filter(lambda x: (x%2 != 0) , mylist))\n",
        "print(filtered_list)"
      ],
      "execution_count": null,
      "outputs": [
        {
          "output_type": "stream",
          "text": [
            "[5, 7, 97, 77, 23, 73, 61]\n"
          ],
          "name": "stdout"
        }
      ]
    },
    {
      "cell_type": "markdown",
      "metadata": {
        "id": "ltLwGawH1bi6"
      },
      "source": [
        "# Map"
      ]
    },
    {
      "cell_type": "markdown",
      "metadata": {
        "id": "_eJkVgLh1bi7"
      },
      "source": [
        "Returns a list of the results after applying the given function to each item of a given iterable (list, tuple etc.)"
      ]
    },
    {
      "cell_type": "code",
      "metadata": {
        "id": "kjYn5z4D1bi8",
        "colab": {
          "base_uri": "https://localhost:8080/"
        },
        "outputId": "58e5f919-be2e-43c4-c358-1cbf944f8712"
      },
      "source": [
        "def cube(n):\n",
        "    return n * n * n\n",
        "\n",
        "list1 = [1, 2, 3, 4]\n",
        "result = map(cube, list1)\n",
        "print(list(result))"
      ],
      "execution_count": null,
      "outputs": [
        {
          "output_type": "stream",
          "text": [
            "[1, 8, 27, 64]\n"
          ],
          "name": "stdout"
        }
      ]
    },
    {
      "cell_type": "markdown",
      "metadata": {
        "id": "oU259XA11bi_"
      },
      "source": [
        "Using map with lambda function:"
      ]
    },
    {
      "cell_type": "code",
      "metadata": {
        "id": "7CeJLQE71bi_",
        "colab": {
          "base_uri": "https://localhost:8080/"
        },
        "outputId": "932091f5-bdd9-47cd-eb5d-5f5851e054d4"
      },
      "source": [
        "t = (1, 2, 3, 4)\n",
        "result = map(lambda x: x * x * x, t)\n",
        "print(tuple(result))"
      ],
      "execution_count": null,
      "outputs": [
        {
          "output_type": "stream",
          "text": [
            "(1, 8, 27, 64)\n"
          ],
          "name": "stdout"
        }
      ]
    },
    {
      "cell_type": "markdown",
      "metadata": {
        "id": "7BNBCrn91bjD"
      },
      "source": [
        "Adding two lists using map and lambda function:"
      ]
    },
    {
      "cell_type": "code",
      "metadata": {
        "id": "-GZ53EwA1bjE",
        "colab": {
          "base_uri": "https://localhost:8080/"
        },
        "outputId": "78ac63cd-8b44-4669-f0b0-66241ecfa4da"
      },
      "source": [
        "list1 = [1, 2, 3]\n",
        "list2 = [4, 5, 6]\n",
        "\n",
        "result = map(lambda x, y: x + y, list1, list2)\n",
        "print(list(result))"
      ],
      "execution_count": null,
      "outputs": [
        {
          "output_type": "stream",
          "text": [
            "[5, 7, 9]\n"
          ],
          "name": "stdout"
        }
      ]
    },
    {
      "cell_type": "markdown",
      "metadata": {
        "id": "EAf8Fz4G1bjX"
      },
      "source": [
        "# Classes & Objects"
      ]
    },
    {
      "cell_type": "markdown",
      "metadata": {
        "id": "7_LprY--1bjX"
      },
      "source": [
        "An object is any real world entity with some properties and methods\n",
        "\n",
        "A class is a blueprint for creating objects\n"
      ]
    },
    {
      "cell_type": "markdown",
      "metadata": {
        "id": "q-AwhWdh1bjY"
      },
      "source": [
        "The __init__() Function:\n",
        "\n",
        "All classes have a function called __init__(), which is always executed when the class is being initiated.\n",
        "\n",
        "Use the __init__() function to assign values to object properties, or other operations that are necessary to do when the object is being created:\n"
      ]
    },
    {
      "cell_type": "code",
      "metadata": {
        "id": "BPZtPNWG1bjY",
        "colab": {
          "base_uri": "https://localhost:8080/"
        },
        "outputId": "9c543e03-6591-4b12-ddd1-536268cbcd20"
      },
      "source": [
        "'''\n",
        "Create a class called Rectangle having two attributes –\n",
        "length and breadth and find the area and perimeter of the rectangle using two methods – showarea() and showperimeter()\n",
        "'''\n",
        "#Using a constructor\n",
        "class rectangle:\n",
        "    def __init__(self,l,b): #instance variable unique to each instance\n",
        "        self.length = l\n",
        "        self.breadth = b\n",
        "\n",
        "    def showarea(self):\n",
        "        return self.length*self.breadth\n",
        "\n",
        "    def showperimeter(self):\n",
        "        peri=2*(self.length + self.breadth)\n",
        "        return peri\n",
        "\n",
        "obj1=rectangle(10,5)\n",
        "obj2=rectangle(12,6)\n",
        "print(obj1.showarea())\n",
        "print(obj1.showperimeter())\n",
        "print(obj2.showarea())\n",
        "print(obj2.showperimeter())"
      ],
      "execution_count": null,
      "outputs": [
        {
          "output_type": "stream",
          "name": "stdout",
          "text": [
            "50\n",
            "30\n",
            "72\n",
            "36\n"
          ]
        }
      ]
    },
    {
      "cell_type": "code",
      "metadata": {
        "id": "qtC0ouIy1bje",
        "colab": {
          "base_uri": "https://localhost:8080/"
        },
        "outputId": "9fb82821-12c1-4c3d-c771-072858480db3"
      },
      "source": [
        "'''\n",
        "Create a class called Rectangle having two attributes – length and breadth and find the area and perimeter of the rectangle using two methods – showarea() and showperimeter()\n",
        "'''\n",
        "#Not Using Constructor\n",
        "class rectangle:\n",
        "    length=10   #class variables shared by all instances\n",
        "    breadth=5\n",
        "    def showarea(self):\n",
        "        return self.length*self.breadth\n",
        "\n",
        "    def showperimeter(self):\n",
        "        peri=2*(self.length + self.breadth)\n",
        "        return peri\n",
        "\n",
        "obj1=rectangle()\n",
        "obj2=rectangle()\n",
        "print(obj1.showarea())\n",
        "print(obj1.showperimeter())\n",
        "print(obj2.showarea())\n",
        "print(obj2.showperimeter())"
      ],
      "execution_count": null,
      "outputs": [
        {
          "output_type": "stream",
          "text": [
            "50\n",
            "30\n",
            "50\n",
            "30\n"
          ],
          "name": "stdout"
        }
      ]
    },
    {
      "cell_type": "markdown",
      "metadata": {
        "id": "Ro5iebvJ1bjg"
      },
      "source": [
        "**Excercises:**\n",
        "    \n",
        "    1. Design a class to represent a bank account. Include the following members:\n",
        "       Data members - Name of the depositor, Account number, Type of account, Account balance\n",
        "       Methods – To deposit an amount, To withdraw an amount after checking balance, to display the\n",
        "       name and balance.\n",
        "       Incorporate a constructor to provide the initial values.\n",
        "\n",
        "    2. Create a class called Complex having two attributes – real and imag. Create two instances of the class and perform\n",
        "       addition of two complex numbers. The class should use the following methods:\n",
        "       show() – that displays the complex numbers in proper format\n",
        "       add() – that adds the two complex instances\n",
        "       sub() – that subtracts one complex instance from another\n",
        "       displaymodulus() – that displays the modulus of the resultant complex number after addition or subtraction"
      ]
    },
    {
      "cell_type": "markdown",
      "metadata": {
        "id": "rhSrYkTPaMBV"
      },
      "source": [
        "# Getting started with NUMPY"
      ]
    },
    {
      "cell_type": "markdown",
      "metadata": {
        "id": "FeoHfy8nuRKi"
      },
      "source": [
        "**Numpy -**\n",
        "\n",
        "Numpy is the short form of ‘Numerical Python‘. This is one library you should learn if you are interested in Data Science with Python. The core of Numpy is it’s N-Dimension Array which is similar to List but has many advance features over List like –\n",
        "\n",
        " - More compact.\n",
        " - Faster access in Reading and writing items.\n",
        " - Ease of doing element wise operation in Numpy.\n",
        " - Numpy has inbuilt functions to do mathematical operations on arrays.\n",
        "\n",
        "As we are using Jupyter notebook from Anaconda, Numpy library is already installed in Anaconda. But we need to import the Numpy library. Now let's look into the Numpy array, it’s advantages over list and different available functionalities of Numpy.\n"
      ]
    },
    {
      "cell_type": "markdown",
      "metadata": {
        "id": "VYgfcufwuRKt"
      },
      "source": [
        "**Importing the Numpy Library**"
      ]
    },
    {
      "cell_type": "code",
      "metadata": {
        "id": "jR7WhnSAuRKu"
      },
      "source": [
        "import numpy as np"
      ],
      "execution_count": null,
      "outputs": []
    },
    {
      "cell_type": "markdown",
      "metadata": {
        "id": "WoweFxFmuRKx"
      },
      "source": [
        "**Creating an 1-D Numpy Array**"
      ]
    },
    {
      "cell_type": "code",
      "metadata": {
        "id": "Dujo8AfJuRKx",
        "colab": {
          "base_uri": "https://localhost:8080/"
        },
        "outputId": "bfbe486a-ebf1-4789-d185-79b6c9f164a2"
      },
      "source": [
        "a = np.array([1,2,3])\n",
        "a"
      ],
      "execution_count": null,
      "outputs": [
        {
          "output_type": "execute_result",
          "data": {
            "text/plain": [
              "array([1, 2, 3])"
            ]
          },
          "metadata": {},
          "execution_count": 6
        }
      ]
    },
    {
      "cell_type": "markdown",
      "metadata": {
        "id": "mMsquZFxuRK1"
      },
      "source": [
        "**Creating an 2-D Array**"
      ]
    },
    {
      "cell_type": "code",
      "metadata": {
        "collapsed": true,
        "colab": {
          "base_uri": "https://localhost:8080/"
        },
        "id": "L5vSIRDDuRK2",
        "outputId": "dbcea234-26fd-48de-9dd2-1dced17ee122"
      },
      "source": [
        "b = np.array([[1,2,3],[4,5,6]])\n",
        "print(b)\n",
        "\n",
        "print('-------------------------------------------')\n",
        "\n",
        "# Print out the shape of array\n",
        "print('Shape:' + str(b.shape))\n",
        "\n",
        "print('-------------------------------------------')\n",
        "\n",
        "# Shape is a tuple , first is no of rows and secords element is no of columns\n",
        "\n",
        "# Print out the data type of array\n",
        "print(b.dtype)"
      ],
      "execution_count": null,
      "outputs": [
        {
          "output_type": "stream",
          "name": "stdout",
          "text": [
            "[[1 2 3]\n",
            " [4 5 6]]\n",
            "-------------------------------------------\n",
            "Shape:(2, 3)\n",
            "-------------------------------------------\n",
            "int64\n"
          ]
        }
      ]
    },
    {
      "cell_type": "markdown",
      "metadata": {
        "id": "ivbUk4y4uRK3"
      },
      "source": [
        "**Comparison with List**"
      ]
    },
    {
      "cell_type": "code",
      "metadata": {
        "collapsed": true,
        "id": "vgAgsiy4uRK3",
        "colab": {
          "base_uri": "https://localhost:8080/"
        },
        "outputId": "2dd24f7e-f0d3-4a17-98ad-a7065377f3fe"
      },
      "source": [
        "my_list = [1,2,3]\n",
        "\n",
        "#In order to multiply each element of a list with a scalar, we need to write a loop\n",
        "emp_list = []\n",
        "for i in my_list:\n",
        "    emp_list.append(i*2)\n",
        "print(emp_list)\n",
        "\n",
        "#We cannot do straight way elementwise multiplication in list\n",
        "my_list*2 #This is doing concatenation"
      ],
      "execution_count": null,
      "outputs": [
        {
          "output_type": "stream",
          "name": "stdout",
          "text": [
            "[2, 4, 6]\n"
          ]
        },
        {
          "output_type": "execute_result",
          "data": {
            "text/plain": [
              "[1, 2, 3, 1, 2, 3]"
            ]
          },
          "metadata": {},
          "execution_count": 6
        }
      ]
    },
    {
      "cell_type": "markdown",
      "metadata": {
        "id": "y9H9CI-wuRK5"
      },
      "source": [
        "However in Numpy Array we can easily do element-wise operation\n",
        "avoiding the slow for loop"
      ]
    },
    {
      "cell_type": "code",
      "metadata": {
        "id": "gQKj1-RRuRK5",
        "colab": {
          "base_uri": "https://localhost:8080/"
        },
        "outputId": "7e6236ec-b791-43ce-97f5-19fa6e432e4f"
      },
      "source": [
        "a = np.array([1,2,3])\n",
        "print(a*2)            #Much faster way to do"
      ],
      "execution_count": null,
      "outputs": [
        {
          "output_type": "stream",
          "text": [
            "[2 4 6]\n"
          ],
          "name": "stdout"
        }
      ]
    },
    {
      "cell_type": "markdown",
      "metadata": {
        "id": "OPP_XYm1uRK7"
      },
      "source": [
        "**Mathematical Operations**"
      ]
    },
    {
      "cell_type": "code",
      "metadata": {
        "collapsed": true,
        "id": "PUoOJuF2uRK8",
        "colab": {
          "base_uri": "https://localhost:8080/"
        },
        "outputId": "320c9c25-b0c5-4de9-efeb-22aa335a5447"
      },
      "source": [
        "a = np.array([1,2,3])\n",
        "b = np.array([4,5,6])\n",
        "print(a+b)             #same as np.add(a,b)\n",
        "print(a-b)             #same as np.substract(a,b)\n",
        "print (np.multiply(a,b))\n",
        "print (np.divide(a,b))\n",
        "print(np.sqrt(a))       #Elementwise square root"
      ],
      "execution_count": null,
      "outputs": [
        {
          "output_type": "stream",
          "name": "stdout",
          "text": [
            "[5 7 9]\n",
            "[-3 -3 -3]\n",
            "[ 4 10 18]\n",
            "[0.25 0.4  0.5 ]\n",
            "[1.         1.41421356 1.73205081]\n"
          ]
        }
      ]
    },
    {
      "cell_type": "markdown",
      "metadata": {
        "id": "DEu0AeQJuRK8"
      },
      "source": [
        "**Dot Product**"
      ]
    },
    {
      "cell_type": "code",
      "metadata": {
        "id": "GLTLv38BuRK8",
        "colab": {
          "base_uri": "https://localhost:8080/"
        },
        "outputId": "3d43b9bb-9c8c-4d10-f2bf-c7414e11ebb8"
      },
      "source": [
        "x = np.array([[1,2],[3,4]])\n",
        "y = np.array([[5,6],[7,8]])\n",
        "print(np.dot(x,y))"
      ],
      "execution_count": null,
      "outputs": [
        {
          "output_type": "stream",
          "name": "stdout",
          "text": [
            "[[19 22]\n",
            " [43 50]]\n"
          ]
        }
      ]
    },
    {
      "cell_type": "markdown",
      "metadata": {
        "id": "zhVua4F8uRK-"
      },
      "source": [
        "**Matrix Transpose**"
      ]
    },
    {
      "cell_type": "code",
      "metadata": {
        "id": "MWnkJgPPuRK-",
        "colab": {
          "base_uri": "https://localhost:8080/"
        },
        "outputId": "e5b37f5d-4239-4060-abf4-a35aab9a2637"
      },
      "source": [
        "x = np.array([[1,2],[3,4]])\n",
        "print(x)\n",
        "print(np.transpose(x))"
      ],
      "execution_count": null,
      "outputs": [
        {
          "output_type": "stream",
          "name": "stdout",
          "text": [
            "[[1 2]\n",
            " [3 4]]\n",
            "[[1 3]\n",
            " [2 4]]\n"
          ]
        }
      ]
    },
    {
      "cell_type": "markdown",
      "metadata": {
        "id": "nH3eUEI5uRK-"
      },
      "source": [
        "**Different functions to create types of Numpy Arrays**"
      ]
    },
    {
      "cell_type": "code",
      "metadata": {
        "collapsed": true,
        "id": "x0xAFTGQuRK-",
        "colab": {
          "base_uri": "https://localhost:8080/"
        },
        "outputId": "cf1ecccf-a070-454d-a347-296f82deaff6"
      },
      "source": [
        "a = np.zeros((2,2))   #Create a 2*2 array of zeros\n",
        "print(a)"
      ],
      "execution_count": null,
      "outputs": [
        {
          "output_type": "stream",
          "name": "stdout",
          "text": [
            "[[0. 0.]\n",
            " [0. 0.]]\n"
          ]
        }
      ]
    },
    {
      "cell_type": "code",
      "metadata": {
        "collapsed": true,
        "id": "7RrsxaZtuRK_",
        "colab": {
          "base_uri": "https://localhost:8080/"
        },
        "outputId": "ae341b67-395d-436b-9f4c-a5243b47f2ab"
      },
      "source": [
        "b = np.ones((1,2))    #array of all ones\n",
        "print(b)"
      ],
      "execution_count": null,
      "outputs": [
        {
          "output_type": "stream",
          "name": "stdout",
          "text": [
            "[[1. 1.]]\n"
          ]
        }
      ]
    },
    {
      "cell_type": "code",
      "metadata": {
        "collapsed": true,
        "id": "fJ9bHJWTuRK_",
        "colab": {
          "base_uri": "https://localhost:8080/"
        },
        "outputId": "7c1f2cdf-bbab-4f93-f896-a697e8d2f7e3"
      },
      "source": [
        "c = np.eye(2)         #Creates an 2*2 Identity matrix\n",
        "print(c)"
      ],
      "execution_count": null,
      "outputs": [
        {
          "output_type": "stream",
          "name": "stdout",
          "text": [
            "[[1. 0.]\n",
            " [0. 1.]]\n"
          ]
        }
      ]
    },
    {
      "cell_type": "code",
      "metadata": {
        "collapsed": true,
        "id": "_w9Hk8SxuRLA",
        "colab": {
          "base_uri": "https://localhost:8080/"
        },
        "outputId": "616bb038-8ffd-44cd-9def-32931744840a"
      },
      "source": [
        "d = np.random.random((2,2))  #Creates an array of random numbers\n",
        "print(d)"
      ],
      "execution_count": null,
      "outputs": [
        {
          "output_type": "stream",
          "name": "stdout",
          "text": [
            "[[0.30201077 0.89972903]\n",
            " [0.69765384 0.0811092 ]]\n"
          ]
        }
      ]
    },
    {
      "cell_type": "markdown",
      "metadata": {
        "id": "ChTtj6EDyKOq"
      },
      "source": [
        "Creating an array within a range"
      ]
    },
    {
      "cell_type": "code",
      "metadata": {
        "colab": {
          "base_uri": "https://localhost:8080/"
        },
        "id": "AyFPMziryD-e",
        "outputId": "68741cd8-49e8-40e4-e01f-d8883702bef5"
      },
      "source": [
        "print(np.arange(4))"
      ],
      "execution_count": null,
      "outputs": [
        {
          "output_type": "stream",
          "name": "stdout",
          "text": [
            "[0 1 2 3]\n"
          ]
        }
      ]
    },
    {
      "cell_type": "markdown",
      "metadata": {
        "id": "fIPYQ7cQuRLB"
      },
      "source": [
        "**Creating a sequence**"
      ]
    },
    {
      "cell_type": "code",
      "metadata": {
        "id": "o2OiILn5uRLC",
        "outputId": "09d209d5-43b6-49c5-ba1b-6874580e0653",
        "colab": {
          "base_uri": "https://localhost:8080/"
        }
      },
      "source": [
        "np.arange(1,10)\n",
        "np.arange(1, 10, 2)"
      ],
      "execution_count": null,
      "outputs": [
        {
          "output_type": "execute_result",
          "data": {
            "text/plain": [
              "array([1, 3, 5, 7, 9])"
            ]
          },
          "metadata": {},
          "execution_count": 12
        }
      ]
    },
    {
      "cell_type": "markdown",
      "metadata": {
        "id": "0LDp_dbHuRLC"
      },
      "source": [
        "**Array Indexing and Slicing**"
      ]
    },
    {
      "cell_type": "code",
      "metadata": {
        "id": "e5WE2WVQuRLD",
        "colab": {
          "base_uri": "https://localhost:8080/"
        },
        "outputId": "8cf52a52-0da4-4e03-c000-03d950cd8e32"
      },
      "source": [
        "# Create an 2-D array of 3 rows and 4 columns\n",
        "a = np.array([[1,2,3,4], [5,6,7,8], [9,10,11,12]])\n",
        "print(a)"
      ],
      "execution_count": null,
      "outputs": [
        {
          "output_type": "stream",
          "name": "stdout",
          "text": [
            "[[ 1  2  3  4]\n",
            " [ 5  6  7  8]\n",
            " [ 9 10 11 12]]\n"
          ]
        }
      ]
    },
    {
      "cell_type": "markdown",
      "metadata": {
        "id": "3eNM4UQFuRLD"
      },
      "source": [
        "To Slice and Dice an N-D Array below is rule of positions array[row_start : row_end , column_start : column_end] # Excludes the end positions\n",
        "\n",
        "Indexing here also starts from 0"
      ]
    },
    {
      "cell_type": "code",
      "metadata": {
        "id": "jCQD5JQnuRLD",
        "colab": {
          "base_uri": "https://localhost:8080/"
        },
        "outputId": "4c744a09-cd11-454b-a1dc-46ef8c742c83"
      },
      "source": [
        "print (a[ : , : ]) #Prints all rows and Columns"
      ],
      "execution_count": null,
      "outputs": [
        {
          "output_type": "stream",
          "name": "stdout",
          "text": [
            "[[ 1  2  3  4]\n",
            " [ 5  6  7  8]\n",
            " [ 9 10 11 12]]\n"
          ]
        }
      ]
    },
    {
      "cell_type": "code",
      "metadata": {
        "id": "ye7TBQc1uRLE",
        "colab": {
          "base_uri": "https://localhost:8080/"
        },
        "outputId": "286c2120-11d0-4ffc-f6e4-bfa8e3c2780d"
      },
      "source": [
        "print(a[1 :  ,  : ]) # From 2nd row to all rows & all the columns"
      ],
      "execution_count": null,
      "outputs": [
        {
          "output_type": "stream",
          "name": "stdout",
          "text": [
            "[[ 5  6  7  8]\n",
            " [ 9 10 11 12]]\n"
          ]
        }
      ]
    },
    {
      "cell_type": "code",
      "metadata": {
        "id": "q3W0PBMmuRLE",
        "colab": {
          "base_uri": "https://localhost:8080/"
        },
        "outputId": "7b6f395d-6b02-466d-8368-afe19f7cf33a"
      },
      "source": [
        "print(a[0,3]) # Print the 4th element of 1st row\n",
        "print(a[2,0]) # Print the first element of 3rd row"
      ],
      "execution_count": null,
      "outputs": [
        {
          "output_type": "stream",
          "name": "stdout",
          "text": [
            "4\n",
            "9\n"
          ]
        }
      ]
    },
    {
      "cell_type": "code",
      "metadata": {
        "id": "AK4fY0_CuRLF",
        "colab": {
          "base_uri": "https://localhost:8080/"
        },
        "outputId": "f621e6b8-5bcf-41ad-b75f-32bcc9ede984"
      },
      "source": [
        "print(a[ :  , 1 : 3]) # All rows along with 2nd & 3rd columns"
      ],
      "execution_count": null,
      "outputs": [
        {
          "output_type": "stream",
          "name": "stdout",
          "text": [
            "[[ 2  3]\n",
            " [ 6  7]\n",
            " [10 11]]\n"
          ]
        }
      ]
    },
    {
      "cell_type": "markdown",
      "metadata": {
        "id": "9LzGa3cnuRLF"
      },
      "source": [
        "**Boolean Indexing**"
      ]
    },
    {
      "cell_type": "code",
      "metadata": {
        "id": "CZFqTPxAuRLF",
        "colab": {
          "base_uri": "https://localhost:8080/"
        },
        "outputId": "e713d924-b5b6-411b-9d7d-88e8ae992f0a"
      },
      "source": [
        "# Suppose we want all the records of the array which are greater than 2\n",
        "print(a>2)\n",
        "print(a[a>2])"
      ],
      "execution_count": null,
      "outputs": [
        {
          "output_type": "stream",
          "name": "stdout",
          "text": [
            "[[False False  True  True]\n",
            " [ True  True  True  True]\n",
            " [ True  True  True  True]]\n",
            "[ 3  4  5  6  7  8  9 10 11 12]\n"
          ]
        }
      ]
    },
    {
      "cell_type": "markdown",
      "metadata": {
        "id": "AFVp-a82uRLF"
      },
      "source": [
        "**Reshaping an array**"
      ]
    },
    {
      "cell_type": "code",
      "metadata": {
        "id": "y73LYH4KuRLF",
        "colab": {
          "base_uri": "https://localhost:8080/"
        },
        "outputId": "71106a4f-b934-41b5-f1a3-c08cf0ba36a0"
      },
      "source": [
        "# Create an 2-D array of 3 rows and 4 columns\n",
        "a = np.array([[1,2,3,4], [5,6,7,8], [9,10,11,12]])\n",
        "print(a)\n",
        "\n",
        "print('-------------------------------------------')\n",
        "\n",
        "# Suppose we want to reshape the array with 2 rows and 6 columns\n",
        "a = a.reshape(2,6)\n",
        "print('reshaped array:')\n",
        "print(a)"
      ],
      "execution_count": null,
      "outputs": [
        {
          "output_type": "stream",
          "name": "stdout",
          "text": [
            "[[ 1  2  3  4]\n",
            " [ 5  6  7  8]\n",
            " [ 9 10 11 12]]\n",
            "-------------------------------------------\n",
            "reshaped array:\n",
            "[[ 1  2  3  4  5  6]\n",
            " [ 7  8  9 10 11 12]]\n"
          ]
        }
      ]
    },
    {
      "cell_type": "markdown",
      "source": [
        "**Flattening an array**"
      ],
      "metadata": {
        "id": "7kXoAvptKYx0"
      }
    },
    {
      "cell_type": "code",
      "source": [
        "np.ndarray.flatten(a)"
      ],
      "metadata": {
        "colab": {
          "base_uri": "https://localhost:8080/"
        },
        "id": "O4Ru8-VaKMwl",
        "outputId": "d5e8db0c-7480-4324-bb8f-1c0ca60436d5"
      },
      "execution_count": null,
      "outputs": [
        {
          "output_type": "execute_result",
          "data": {
            "text/plain": [
              "array([ 1,  2,  3,  4,  5,  6,  7,  8,  9, 10, 11, 12])"
            ]
          },
          "metadata": {},
          "execution_count": 4
        }
      ]
    },
    {
      "cell_type": "markdown",
      "metadata": {
        "id": "bYcm9uWguRLH"
      },
      "source": [
        "**Numpy Statistical Functions**"
      ]
    },
    {
      "cell_type": "code",
      "metadata": {
        "collapsed": true,
        "id": "AlDQoWO6uRLH",
        "colab": {
          "base_uri": "https://localhost:8080/"
        },
        "outputId": "d0eb427a-a241-4c4c-83e8-9bb26420f4b5"
      },
      "source": [
        "a = np.array([[1,2,3],[4,5,6],[10,15,100]])\n",
        "print(np.median(a)) # Median\n",
        "print(np.mean(a)) # Mean\n",
        "print(np.var(a)) # Variance - average of squared deviations from mean\n",
        "print(np.std(a)) # Standard Deviation - square root of variance"
      ],
      "execution_count": null,
      "outputs": [
        {
          "output_type": "stream",
          "name": "stdout",
          "text": [
            "5.0\n",
            "16.22222222222222\n",
            "894.1728395061727\n",
            "29.90272294467801\n"
          ]
        }
      ]
    },
    {
      "cell_type": "markdown",
      "metadata": {
        "id": "XuogqjNRapJf"
      },
      "source": [
        "# Getting started with PANDAS"
      ]
    },
    {
      "cell_type": "markdown",
      "metadata": {
        "id": "_SIaNXCfvIOQ"
      },
      "source": [
        "**Pandas**"
      ]
    },
    {
      "cell_type": "markdown",
      "metadata": {
        "id": "jB8y-Uk5vIOV"
      },
      "source": [
        "Pandas is built on Numpy. It has two types of easy to use and fast data structures , which helps to do Data Analysis with ease.\n",
        "\n",
        "Data Structures:\n",
        "\n",
        "- Series : One Dimensional array.\n",
        "- Dataframe : Two dimenionsal data structure with Row , Columns of different types."
      ]
    },
    {
      "cell_type": "code",
      "metadata": {
        "id": "mjthJ9lCvIOY"
      },
      "source": [
        "import pandas as pd # import pandas Library\n",
        "import numpy as np"
      ],
      "execution_count": null,
      "outputs": []
    },
    {
      "cell_type": "markdown",
      "metadata": {
        "id": "rtcYkebBvIOZ"
      },
      "source": [
        "#### Series"
      ]
    },
    {
      "cell_type": "code",
      "metadata": {
        "colab": {
          "base_uri": "https://localhost:8080/"
        },
        "id": "jCB9cG09vIOa",
        "outputId": "b30fb643-9e09-4889-a8f6-88b21ce9bdc6"
      },
      "source": [
        "print(pd.Series([1,2,3]))"
      ],
      "execution_count": null,
      "outputs": [
        {
          "output_type": "stream",
          "name": "stdout",
          "text": [
            "0    1\n",
            "1    2\n",
            "2    3\n",
            "dtype: int64\n"
          ]
        }
      ]
    },
    {
      "cell_type": "code",
      "metadata": {
        "colab": {
          "base_uri": "https://localhost:8080/"
        },
        "id": "x1dQYNxbyouW",
        "outputId": "0f68c8bb-8649-451c-8e63-d466ad9763c1"
      },
      "source": [
        "ser = pd.Series([1,2,3] , index = ['first', 'second','third']) #Index acts as reference\n",
        "print(ser)"
      ],
      "execution_count": null,
      "outputs": [
        {
          "output_type": "stream",
          "name": "stdout",
          "text": [
            "first     1\n",
            "second    2\n",
            "third     3\n",
            "dtype: int64\n"
          ]
        }
      ]
    },
    {
      "cell_type": "code",
      "metadata": {
        "colab": {
          "base_uri": "https://localhost:8080/"
        },
        "id": "oV_LMP_jvIOc",
        "outputId": "94ef5bc3-8d91-4d61-a871-504b7df8e715"
      },
      "source": [
        "ser['first'] #Using index to access Data elements"
      ],
      "execution_count": null,
      "outputs": [
        {
          "output_type": "execute_result",
          "data": {
            "text/plain": [
              "1"
            ]
          },
          "metadata": {},
          "execution_count": 34
        }
      ]
    },
    {
      "cell_type": "code",
      "metadata": {
        "colab": {
          "base_uri": "https://localhost:8080/"
        },
        "id": "3VksTDBRvIOd",
        "outputId": "a6432750-4b93-43c7-e2e1-22ee576d8ca1"
      },
      "source": [
        "ser[0] #Using postion to access data elements"
      ],
      "execution_count": null,
      "outputs": [
        {
          "output_type": "execute_result",
          "data": {
            "text/plain": [
              "1"
            ]
          },
          "metadata": {},
          "execution_count": 35
        }
      ]
    },
    {
      "cell_type": "markdown",
      "metadata": {
        "id": "e2m0hPmVvIOf"
      },
      "source": [
        "#### DataFrame"
      ]
    },
    {
      "cell_type": "code",
      "metadata": {
        "id": "Q5RDGO-jvIOf",
        "colab": {
          "base_uri": "https://localhost:8080/"
        },
        "outputId": "abe211d2-3b6a-4d5e-dc4a-bef68af3490e"
      },
      "source": [
        "# Python Dictionary\n",
        "p_dict = {'name' : ['Sachin','Sourav','Rahul'],\n",
        "         'country' : ['Ind','Ind','Ind'],\n",
        "         'Runs': ['10000','10500','10100']}\n",
        "print(p_dict)"
      ],
      "execution_count": null,
      "outputs": [
        {
          "output_type": "stream",
          "name": "stdout",
          "text": [
            "{'name': ['Sachin', 'Sourav', 'Rahul'], 'country': ['Ind', 'Ind', 'Ind'], 'Runs': ['10000', '10500', '10100']}\n"
          ]
        }
      ]
    },
    {
      "cell_type": "code",
      "metadata": {
        "id": "Z9XhoIdVvIOg"
      },
      "source": [
        "#Dataframe - This will convert the dictionary to DataFrame\n",
        "df = pd.DataFrame(p_dict)"
      ],
      "execution_count": null,
      "outputs": []
    },
    {
      "cell_type": "code",
      "metadata": {
        "colab": {
          "base_uri": "https://localhost:8080/",
          "height": 143
        },
        "id": "UwpfKuxIy9jL",
        "outputId": "535bde9a-ea91-47b3-cd94-53f8622abc5d"
      },
      "source": [
        "df"
      ],
      "execution_count": null,
      "outputs": [
        {
          "output_type": "execute_result",
          "data": {
            "text/plain": [
              "     name country   Runs\n",
              "0  Sachin     Ind  10000\n",
              "1  Sourav     Ind  10500\n",
              "2   Rahul     Ind  10100"
            ],
            "text/html": [
              "\n",
              "  <div id=\"df-1d08be1e-dbb3-4309-8c27-e7218eb93fc9\">\n",
              "    <div class=\"colab-df-container\">\n",
              "      <div>\n",
              "<style scoped>\n",
              "    .dataframe tbody tr th:only-of-type {\n",
              "        vertical-align: middle;\n",
              "    }\n",
              "\n",
              "    .dataframe tbody tr th {\n",
              "        vertical-align: top;\n",
              "    }\n",
              "\n",
              "    .dataframe thead th {\n",
              "        text-align: right;\n",
              "    }\n",
              "</style>\n",
              "<table border=\"1\" class=\"dataframe\">\n",
              "  <thead>\n",
              "    <tr style=\"text-align: right;\">\n",
              "      <th></th>\n",
              "      <th>name</th>\n",
              "      <th>country</th>\n",
              "      <th>Runs</th>\n",
              "    </tr>\n",
              "  </thead>\n",
              "  <tbody>\n",
              "    <tr>\n",
              "      <th>0</th>\n",
              "      <td>Sachin</td>\n",
              "      <td>Ind</td>\n",
              "      <td>10000</td>\n",
              "    </tr>\n",
              "    <tr>\n",
              "      <th>1</th>\n",
              "      <td>Sourav</td>\n",
              "      <td>Ind</td>\n",
              "      <td>10500</td>\n",
              "    </tr>\n",
              "    <tr>\n",
              "      <th>2</th>\n",
              "      <td>Rahul</td>\n",
              "      <td>Ind</td>\n",
              "      <td>10100</td>\n",
              "    </tr>\n",
              "  </tbody>\n",
              "</table>\n",
              "</div>\n",
              "      <button class=\"colab-df-convert\" onclick=\"convertToInteractive('df-1d08be1e-dbb3-4309-8c27-e7218eb93fc9')\"\n",
              "              title=\"Convert this dataframe to an interactive table.\"\n",
              "              style=\"display:none;\">\n",
              "        \n",
              "  <svg xmlns=\"http://www.w3.org/2000/svg\" height=\"24px\"viewBox=\"0 0 24 24\"\n",
              "       width=\"24px\">\n",
              "    <path d=\"M0 0h24v24H0V0z\" fill=\"none\"/>\n",
              "    <path d=\"M18.56 5.44l.94 2.06.94-2.06 2.06-.94-2.06-.94-.94-2.06-.94 2.06-2.06.94zm-11 1L8.5 8.5l.94-2.06 2.06-.94-2.06-.94L8.5 2.5l-.94 2.06-2.06.94zm10 10l.94 2.06.94-2.06 2.06-.94-2.06-.94-.94-2.06-.94 2.06-2.06.94z\"/><path d=\"M17.41 7.96l-1.37-1.37c-.4-.4-.92-.59-1.43-.59-.52 0-1.04.2-1.43.59L10.3 9.45l-7.72 7.72c-.78.78-.78 2.05 0 2.83L4 21.41c.39.39.9.59 1.41.59.51 0 1.02-.2 1.41-.59l7.78-7.78 2.81-2.81c.8-.78.8-2.07 0-2.86zM5.41 20L4 18.59l7.72-7.72 1.47 1.35L5.41 20z\"/>\n",
              "  </svg>\n",
              "      </button>\n",
              "      \n",
              "  <style>\n",
              "    .colab-df-container {\n",
              "      display:flex;\n",
              "      flex-wrap:wrap;\n",
              "      gap: 12px;\n",
              "    }\n",
              "\n",
              "    .colab-df-convert {\n",
              "      background-color: #E8F0FE;\n",
              "      border: none;\n",
              "      border-radius: 50%;\n",
              "      cursor: pointer;\n",
              "      display: none;\n",
              "      fill: #1967D2;\n",
              "      height: 32px;\n",
              "      padding: 0 0 0 0;\n",
              "      width: 32px;\n",
              "    }\n",
              "\n",
              "    .colab-df-convert:hover {\n",
              "      background-color: #E2EBFA;\n",
              "      box-shadow: 0px 1px 2px rgba(60, 64, 67, 0.3), 0px 1px 3px 1px rgba(60, 64, 67, 0.15);\n",
              "      fill: #174EA6;\n",
              "    }\n",
              "\n",
              "    [theme=dark] .colab-df-convert {\n",
              "      background-color: #3B4455;\n",
              "      fill: #D2E3FC;\n",
              "    }\n",
              "\n",
              "    [theme=dark] .colab-df-convert:hover {\n",
              "      background-color: #434B5C;\n",
              "      box-shadow: 0px 1px 3px 1px rgba(0, 0, 0, 0.15);\n",
              "      filter: drop-shadow(0px 1px 2px rgba(0, 0, 0, 0.3));\n",
              "      fill: #FFFFFF;\n",
              "    }\n",
              "  </style>\n",
              "\n",
              "      <script>\n",
              "        const buttonEl =\n",
              "          document.querySelector('#df-1d08be1e-dbb3-4309-8c27-e7218eb93fc9 button.colab-df-convert');\n",
              "        buttonEl.style.display =\n",
              "          google.colab.kernel.accessAllowed ? 'block' : 'none';\n",
              "\n",
              "        async function convertToInteractive(key) {\n",
              "          const element = document.querySelector('#df-1d08be1e-dbb3-4309-8c27-e7218eb93fc9');\n",
              "          const dataTable =\n",
              "            await google.colab.kernel.invokeFunction('convertToInteractive',\n",
              "                                                     [key], {});\n",
              "          if (!dataTable) return;\n",
              "\n",
              "          const docLinkHtml = 'Like what you see? Visit the ' +\n",
              "            '<a target=\"_blank\" href=https://colab.research.google.com/notebooks/data_table.ipynb>data table notebook</a>'\n",
              "            + ' to learn more about interactive tables.';\n",
              "          element.innerHTML = '';\n",
              "          dataTable['output_type'] = 'display_data';\n",
              "          await google.colab.output.renderOutput(dataTable, element);\n",
              "          const docLink = document.createElement('div');\n",
              "          docLink.innerHTML = docLinkHtml;\n",
              "          element.appendChild(docLink);\n",
              "        }\n",
              "      </script>\n",
              "    </div>\n",
              "  </div>\n",
              "  "
            ]
          },
          "metadata": {},
          "execution_count": 38
        }
      ]
    },
    {
      "cell_type": "code",
      "metadata": {
        "colab": {
          "base_uri": "https://localhost:8080/",
          "height": 143
        },
        "id": "ycTZ0LVo0yUu",
        "outputId": "156c9708-1c18-4acf-886c-7b64bc56cc90"
      },
      "source": [
        "df.head() #by default 5 rows"
      ],
      "execution_count": null,
      "outputs": [
        {
          "output_type": "execute_result",
          "data": {
            "text/plain": [
              "     name country   Runs\n",
              "0  Sachin     Ind  10000\n",
              "1  Sourav     Ind  10500\n",
              "2   Rahul     Ind  10100"
            ],
            "text/html": [
              "\n",
              "  <div id=\"df-ef99c795-bb01-464e-b59c-4cc94f83cde1\">\n",
              "    <div class=\"colab-df-container\">\n",
              "      <div>\n",
              "<style scoped>\n",
              "    .dataframe tbody tr th:only-of-type {\n",
              "        vertical-align: middle;\n",
              "    }\n",
              "\n",
              "    .dataframe tbody tr th {\n",
              "        vertical-align: top;\n",
              "    }\n",
              "\n",
              "    .dataframe thead th {\n",
              "        text-align: right;\n",
              "    }\n",
              "</style>\n",
              "<table border=\"1\" class=\"dataframe\">\n",
              "  <thead>\n",
              "    <tr style=\"text-align: right;\">\n",
              "      <th></th>\n",
              "      <th>name</th>\n",
              "      <th>country</th>\n",
              "      <th>Runs</th>\n",
              "    </tr>\n",
              "  </thead>\n",
              "  <tbody>\n",
              "    <tr>\n",
              "      <th>0</th>\n",
              "      <td>Sachin</td>\n",
              "      <td>Ind</td>\n",
              "      <td>10000</td>\n",
              "    </tr>\n",
              "    <tr>\n",
              "      <th>1</th>\n",
              "      <td>Sourav</td>\n",
              "      <td>Ind</td>\n",
              "      <td>10500</td>\n",
              "    </tr>\n",
              "    <tr>\n",
              "      <th>2</th>\n",
              "      <td>Rahul</td>\n",
              "      <td>Ind</td>\n",
              "      <td>10100</td>\n",
              "    </tr>\n",
              "  </tbody>\n",
              "</table>\n",
              "</div>\n",
              "      <button class=\"colab-df-convert\" onclick=\"convertToInteractive('df-ef99c795-bb01-464e-b59c-4cc94f83cde1')\"\n",
              "              title=\"Convert this dataframe to an interactive table.\"\n",
              "              style=\"display:none;\">\n",
              "        \n",
              "  <svg xmlns=\"http://www.w3.org/2000/svg\" height=\"24px\"viewBox=\"0 0 24 24\"\n",
              "       width=\"24px\">\n",
              "    <path d=\"M0 0h24v24H0V0z\" fill=\"none\"/>\n",
              "    <path d=\"M18.56 5.44l.94 2.06.94-2.06 2.06-.94-2.06-.94-.94-2.06-.94 2.06-2.06.94zm-11 1L8.5 8.5l.94-2.06 2.06-.94-2.06-.94L8.5 2.5l-.94 2.06-2.06.94zm10 10l.94 2.06.94-2.06 2.06-.94-2.06-.94-.94-2.06-.94 2.06-2.06.94z\"/><path d=\"M17.41 7.96l-1.37-1.37c-.4-.4-.92-.59-1.43-.59-.52 0-1.04.2-1.43.59L10.3 9.45l-7.72 7.72c-.78.78-.78 2.05 0 2.83L4 21.41c.39.39.9.59 1.41.59.51 0 1.02-.2 1.41-.59l7.78-7.78 2.81-2.81c.8-.78.8-2.07 0-2.86zM5.41 20L4 18.59l7.72-7.72 1.47 1.35L5.41 20z\"/>\n",
              "  </svg>\n",
              "      </button>\n",
              "      \n",
              "  <style>\n",
              "    .colab-df-container {\n",
              "      display:flex;\n",
              "      flex-wrap:wrap;\n",
              "      gap: 12px;\n",
              "    }\n",
              "\n",
              "    .colab-df-convert {\n",
              "      background-color: #E8F0FE;\n",
              "      border: none;\n",
              "      border-radius: 50%;\n",
              "      cursor: pointer;\n",
              "      display: none;\n",
              "      fill: #1967D2;\n",
              "      height: 32px;\n",
              "      padding: 0 0 0 0;\n",
              "      width: 32px;\n",
              "    }\n",
              "\n",
              "    .colab-df-convert:hover {\n",
              "      background-color: #E2EBFA;\n",
              "      box-shadow: 0px 1px 2px rgba(60, 64, 67, 0.3), 0px 1px 3px 1px rgba(60, 64, 67, 0.15);\n",
              "      fill: #174EA6;\n",
              "    }\n",
              "\n",
              "    [theme=dark] .colab-df-convert {\n",
              "      background-color: #3B4455;\n",
              "      fill: #D2E3FC;\n",
              "    }\n",
              "\n",
              "    [theme=dark] .colab-df-convert:hover {\n",
              "      background-color: #434B5C;\n",
              "      box-shadow: 0px 1px 3px 1px rgba(0, 0, 0, 0.15);\n",
              "      filter: drop-shadow(0px 1px 2px rgba(0, 0, 0, 0.3));\n",
              "      fill: #FFFFFF;\n",
              "    }\n",
              "  </style>\n",
              "\n",
              "      <script>\n",
              "        const buttonEl =\n",
              "          document.querySelector('#df-ef99c795-bb01-464e-b59c-4cc94f83cde1 button.colab-df-convert');\n",
              "        buttonEl.style.display =\n",
              "          google.colab.kernel.accessAllowed ? 'block' : 'none';\n",
              "\n",
              "        async function convertToInteractive(key) {\n",
              "          const element = document.querySelector('#df-ef99c795-bb01-464e-b59c-4cc94f83cde1');\n",
              "          const dataTable =\n",
              "            await google.colab.kernel.invokeFunction('convertToInteractive',\n",
              "                                                     [key], {});\n",
              "          if (!dataTable) return;\n",
              "\n",
              "          const docLinkHtml = 'Like what you see? Visit the ' +\n",
              "            '<a target=\"_blank\" href=https://colab.research.google.com/notebooks/data_table.ipynb>data table notebook</a>'\n",
              "            + ' to learn more about interactive tables.';\n",
              "          element.innerHTML = '';\n",
              "          dataTable['output_type'] = 'display_data';\n",
              "          await google.colab.output.renderOutput(dataTable, element);\n",
              "          const docLink = document.createElement('div');\n",
              "          docLink.innerHTML = docLinkHtml;\n",
              "          element.appendChild(docLink);\n",
              "        }\n",
              "      </script>\n",
              "    </div>\n",
              "  </div>\n",
              "  "
            ]
          },
          "metadata": {},
          "execution_count": 39
        }
      ]
    },
    {
      "cell_type": "code",
      "metadata": {
        "colab": {
          "base_uri": "https://localhost:8080/",
          "height": 112
        },
        "id": "hTCOOA8izAlE",
        "outputId": "7223a4b6-28fa-4edb-c598-bbda71aaa36d"
      },
      "source": [
        "df.head(2)"
      ],
      "execution_count": null,
      "outputs": [
        {
          "output_type": "execute_result",
          "data": {
            "text/plain": [
              "     name country   Runs\n",
              "0  Sachin     Ind  10000\n",
              "1  Sourav     Ind  10500"
            ],
            "text/html": [
              "\n",
              "  <div id=\"df-f9b5668a-44ce-4c79-828a-ae7779124e73\">\n",
              "    <div class=\"colab-df-container\">\n",
              "      <div>\n",
              "<style scoped>\n",
              "    .dataframe tbody tr th:only-of-type {\n",
              "        vertical-align: middle;\n",
              "    }\n",
              "\n",
              "    .dataframe tbody tr th {\n",
              "        vertical-align: top;\n",
              "    }\n",
              "\n",
              "    .dataframe thead th {\n",
              "        text-align: right;\n",
              "    }\n",
              "</style>\n",
              "<table border=\"1\" class=\"dataframe\">\n",
              "  <thead>\n",
              "    <tr style=\"text-align: right;\">\n",
              "      <th></th>\n",
              "      <th>name</th>\n",
              "      <th>country</th>\n",
              "      <th>Runs</th>\n",
              "    </tr>\n",
              "  </thead>\n",
              "  <tbody>\n",
              "    <tr>\n",
              "      <th>0</th>\n",
              "      <td>Sachin</td>\n",
              "      <td>Ind</td>\n",
              "      <td>10000</td>\n",
              "    </tr>\n",
              "    <tr>\n",
              "      <th>1</th>\n",
              "      <td>Sourav</td>\n",
              "      <td>Ind</td>\n",
              "      <td>10500</td>\n",
              "    </tr>\n",
              "  </tbody>\n",
              "</table>\n",
              "</div>\n",
              "      <button class=\"colab-df-convert\" onclick=\"convertToInteractive('df-f9b5668a-44ce-4c79-828a-ae7779124e73')\"\n",
              "              title=\"Convert this dataframe to an interactive table.\"\n",
              "              style=\"display:none;\">\n",
              "        \n",
              "  <svg xmlns=\"http://www.w3.org/2000/svg\" height=\"24px\"viewBox=\"0 0 24 24\"\n",
              "       width=\"24px\">\n",
              "    <path d=\"M0 0h24v24H0V0z\" fill=\"none\"/>\n",
              "    <path d=\"M18.56 5.44l.94 2.06.94-2.06 2.06-.94-2.06-.94-.94-2.06-.94 2.06-2.06.94zm-11 1L8.5 8.5l.94-2.06 2.06-.94-2.06-.94L8.5 2.5l-.94 2.06-2.06.94zm10 10l.94 2.06.94-2.06 2.06-.94-2.06-.94-.94-2.06-.94 2.06-2.06.94z\"/><path d=\"M17.41 7.96l-1.37-1.37c-.4-.4-.92-.59-1.43-.59-.52 0-1.04.2-1.43.59L10.3 9.45l-7.72 7.72c-.78.78-.78 2.05 0 2.83L4 21.41c.39.39.9.59 1.41.59.51 0 1.02-.2 1.41-.59l7.78-7.78 2.81-2.81c.8-.78.8-2.07 0-2.86zM5.41 20L4 18.59l7.72-7.72 1.47 1.35L5.41 20z\"/>\n",
              "  </svg>\n",
              "      </button>\n",
              "      \n",
              "  <style>\n",
              "    .colab-df-container {\n",
              "      display:flex;\n",
              "      flex-wrap:wrap;\n",
              "      gap: 12px;\n",
              "    }\n",
              "\n",
              "    .colab-df-convert {\n",
              "      background-color: #E8F0FE;\n",
              "      border: none;\n",
              "      border-radius: 50%;\n",
              "      cursor: pointer;\n",
              "      display: none;\n",
              "      fill: #1967D2;\n",
              "      height: 32px;\n",
              "      padding: 0 0 0 0;\n",
              "      width: 32px;\n",
              "    }\n",
              "\n",
              "    .colab-df-convert:hover {\n",
              "      background-color: #E2EBFA;\n",
              "      box-shadow: 0px 1px 2px rgba(60, 64, 67, 0.3), 0px 1px 3px 1px rgba(60, 64, 67, 0.15);\n",
              "      fill: #174EA6;\n",
              "    }\n",
              "\n",
              "    [theme=dark] .colab-df-convert {\n",
              "      background-color: #3B4455;\n",
              "      fill: #D2E3FC;\n",
              "    }\n",
              "\n",
              "    [theme=dark] .colab-df-convert:hover {\n",
              "      background-color: #434B5C;\n",
              "      box-shadow: 0px 1px 3px 1px rgba(0, 0, 0, 0.15);\n",
              "      filter: drop-shadow(0px 1px 2px rgba(0, 0, 0, 0.3));\n",
              "      fill: #FFFFFF;\n",
              "    }\n",
              "  </style>\n",
              "\n",
              "      <script>\n",
              "        const buttonEl =\n",
              "          document.querySelector('#df-f9b5668a-44ce-4c79-828a-ae7779124e73 button.colab-df-convert');\n",
              "        buttonEl.style.display =\n",
              "          google.colab.kernel.accessAllowed ? 'block' : 'none';\n",
              "\n",
              "        async function convertToInteractive(key) {\n",
              "          const element = document.querySelector('#df-f9b5668a-44ce-4c79-828a-ae7779124e73');\n",
              "          const dataTable =\n",
              "            await google.colab.kernel.invokeFunction('convertToInteractive',\n",
              "                                                     [key], {});\n",
              "          if (!dataTable) return;\n",
              "\n",
              "          const docLinkHtml = 'Like what you see? Visit the ' +\n",
              "            '<a target=\"_blank\" href=https://colab.research.google.com/notebooks/data_table.ipynb>data table notebook</a>'\n",
              "            + ' to learn more about interactive tables.';\n",
              "          element.innerHTML = '';\n",
              "          dataTable['output_type'] = 'display_data';\n",
              "          await google.colab.output.renderOutput(dataTable, element);\n",
              "          const docLink = document.createElement('div');\n",
              "          docLink.innerHTML = docLinkHtml;\n",
              "          element.appendChild(docLink);\n",
              "        }\n",
              "      </script>\n",
              "    </div>\n",
              "  </div>\n",
              "  "
            ]
          },
          "metadata": {},
          "execution_count": 40
        }
      ]
    },
    {
      "cell_type": "code",
      "metadata": {
        "id": "_EHu5GX7vIOi",
        "colab": {
          "base_uri": "https://localhost:8080/",
          "height": 112
        },
        "outputId": "55d42258-fbcd-43ed-85f3-dd066e416f6c"
      },
      "source": [
        "df.tail(2) #last two rows"
      ],
      "execution_count": null,
      "outputs": [
        {
          "output_type": "execute_result",
          "data": {
            "text/plain": [
              "     name country   Runs\n",
              "1  Sourav     Ind  10500\n",
              "2   Rahul     Ind  10100"
            ],
            "text/html": [
              "\n",
              "  <div id=\"df-a3383974-51e4-4e1d-b92a-a11a4f98e0cf\">\n",
              "    <div class=\"colab-df-container\">\n",
              "      <div>\n",
              "<style scoped>\n",
              "    .dataframe tbody tr th:only-of-type {\n",
              "        vertical-align: middle;\n",
              "    }\n",
              "\n",
              "    .dataframe tbody tr th {\n",
              "        vertical-align: top;\n",
              "    }\n",
              "\n",
              "    .dataframe thead th {\n",
              "        text-align: right;\n",
              "    }\n",
              "</style>\n",
              "<table border=\"1\" class=\"dataframe\">\n",
              "  <thead>\n",
              "    <tr style=\"text-align: right;\">\n",
              "      <th></th>\n",
              "      <th>name</th>\n",
              "      <th>country</th>\n",
              "      <th>Runs</th>\n",
              "    </tr>\n",
              "  </thead>\n",
              "  <tbody>\n",
              "    <tr>\n",
              "      <th>1</th>\n",
              "      <td>Sourav</td>\n",
              "      <td>Ind</td>\n",
              "      <td>10500</td>\n",
              "    </tr>\n",
              "    <tr>\n",
              "      <th>2</th>\n",
              "      <td>Rahul</td>\n",
              "      <td>Ind</td>\n",
              "      <td>10100</td>\n",
              "    </tr>\n",
              "  </tbody>\n",
              "</table>\n",
              "</div>\n",
              "      <button class=\"colab-df-convert\" onclick=\"convertToInteractive('df-a3383974-51e4-4e1d-b92a-a11a4f98e0cf')\"\n",
              "              title=\"Convert this dataframe to an interactive table.\"\n",
              "              style=\"display:none;\">\n",
              "        \n",
              "  <svg xmlns=\"http://www.w3.org/2000/svg\" height=\"24px\"viewBox=\"0 0 24 24\"\n",
              "       width=\"24px\">\n",
              "    <path d=\"M0 0h24v24H0V0z\" fill=\"none\"/>\n",
              "    <path d=\"M18.56 5.44l.94 2.06.94-2.06 2.06-.94-2.06-.94-.94-2.06-.94 2.06-2.06.94zm-11 1L8.5 8.5l.94-2.06 2.06-.94-2.06-.94L8.5 2.5l-.94 2.06-2.06.94zm10 10l.94 2.06.94-2.06 2.06-.94-2.06-.94-.94-2.06-.94 2.06-2.06.94z\"/><path d=\"M17.41 7.96l-1.37-1.37c-.4-.4-.92-.59-1.43-.59-.52 0-1.04.2-1.43.59L10.3 9.45l-7.72 7.72c-.78.78-.78 2.05 0 2.83L4 21.41c.39.39.9.59 1.41.59.51 0 1.02-.2 1.41-.59l7.78-7.78 2.81-2.81c.8-.78.8-2.07 0-2.86zM5.41 20L4 18.59l7.72-7.72 1.47 1.35L5.41 20z\"/>\n",
              "  </svg>\n",
              "      </button>\n",
              "      \n",
              "  <style>\n",
              "    .colab-df-container {\n",
              "      display:flex;\n",
              "      flex-wrap:wrap;\n",
              "      gap: 12px;\n",
              "    }\n",
              "\n",
              "    .colab-df-convert {\n",
              "      background-color: #E8F0FE;\n",
              "      border: none;\n",
              "      border-radius: 50%;\n",
              "      cursor: pointer;\n",
              "      display: none;\n",
              "      fill: #1967D2;\n",
              "      height: 32px;\n",
              "      padding: 0 0 0 0;\n",
              "      width: 32px;\n",
              "    }\n",
              "\n",
              "    .colab-df-convert:hover {\n",
              "      background-color: #E2EBFA;\n",
              "      box-shadow: 0px 1px 2px rgba(60, 64, 67, 0.3), 0px 1px 3px 1px rgba(60, 64, 67, 0.15);\n",
              "      fill: #174EA6;\n",
              "    }\n",
              "\n",
              "    [theme=dark] .colab-df-convert {\n",
              "      background-color: #3B4455;\n",
              "      fill: #D2E3FC;\n",
              "    }\n",
              "\n",
              "    [theme=dark] .colab-df-convert:hover {\n",
              "      background-color: #434B5C;\n",
              "      box-shadow: 0px 1px 3px 1px rgba(0, 0, 0, 0.15);\n",
              "      filter: drop-shadow(0px 1px 2px rgba(0, 0, 0, 0.3));\n",
              "      fill: #FFFFFF;\n",
              "    }\n",
              "  </style>\n",
              "\n",
              "      <script>\n",
              "        const buttonEl =\n",
              "          document.querySelector('#df-a3383974-51e4-4e1d-b92a-a11a4f98e0cf button.colab-df-convert');\n",
              "        buttonEl.style.display =\n",
              "          google.colab.kernel.accessAllowed ? 'block' : 'none';\n",
              "\n",
              "        async function convertToInteractive(key) {\n",
              "          const element = document.querySelector('#df-a3383974-51e4-4e1d-b92a-a11a4f98e0cf');\n",
              "          const dataTable =\n",
              "            await google.colab.kernel.invokeFunction('convertToInteractive',\n",
              "                                                     [key], {});\n",
              "          if (!dataTable) return;\n",
              "\n",
              "          const docLinkHtml = 'Like what you see? Visit the ' +\n",
              "            '<a target=\"_blank\" href=https://colab.research.google.com/notebooks/data_table.ipynb>data table notebook</a>'\n",
              "            + ' to learn more about interactive tables.';\n",
              "          element.innerHTML = '';\n",
              "          dataTable['output_type'] = 'display_data';\n",
              "          await google.colab.output.renderOutput(dataTable, element);\n",
              "          const docLink = document.createElement('div');\n",
              "          docLink.innerHTML = docLinkHtml;\n",
              "          element.appendChild(docLink);\n",
              "        }\n",
              "      </script>\n",
              "    </div>\n",
              "  </div>\n",
              "  "
            ]
          },
          "metadata": {},
          "execution_count": 41
        }
      ]
    },
    {
      "cell_type": "code",
      "metadata": {
        "colab": {
          "base_uri": "https://localhost:8080/"
        },
        "id": "7SM4D2KQ4ZFY",
        "outputId": "fefa0700-a5c5-49f1-e98d-68e9c0ae3805"
      },
      "source": [
        "df.columns"
      ],
      "execution_count": null,
      "outputs": [
        {
          "output_type": "execute_result",
          "data": {
            "text/plain": [
              "Index(['name', 'country', 'Runs'], dtype='object')"
            ]
          },
          "metadata": {},
          "execution_count": 42
        }
      ]
    },
    {
      "cell_type": "markdown",
      "metadata": {
        "id": "bh5_T1glvIOk"
      },
      "source": [
        "Here we can see that Index is by default created."
      ]
    },
    {
      "cell_type": "markdown",
      "metadata": {
        "id": "a0p9Ns8YvIOk"
      },
      "source": [
        "#### Slice & Dice in Dataframe"
      ]
    },
    {
      "cell_type": "code",
      "metadata": {
        "id": "2kFk8TVtvIOm",
        "colab": {
          "base_uri": "https://localhost:8080/"
        },
        "outputId": "fd05b8dd-bc26-40de-e189-093c9d69a523"
      },
      "source": [
        "#Selecting a specific column\n",
        "#Below are the two ways which produces the same result\n",
        "\n",
        "df.Runs"
      ],
      "execution_count": null,
      "outputs": [
        {
          "output_type": "execute_result",
          "data": {
            "text/plain": [
              "0    10000\n",
              "1    10500\n",
              "2    10100\n",
              "Name: Runs, dtype: object"
            ]
          },
          "metadata": {},
          "execution_count": 43
        }
      ]
    },
    {
      "cell_type": "code",
      "metadata": {
        "colab": {
          "base_uri": "https://localhost:8080/"
        },
        "id": "F-G39xh31VNX",
        "outputId": "2b499c5e-8cde-41df-90b1-cacd557dd19e"
      },
      "source": [
        "df['Runs']"
      ],
      "execution_count": null,
      "outputs": [
        {
          "output_type": "execute_result",
          "data": {
            "text/plain": [
              "0    10000\n",
              "1    10500\n",
              "2    10100\n",
              "Name: Runs, dtype: object"
            ]
          },
          "metadata": {},
          "execution_count": 44
        }
      ]
    },
    {
      "cell_type": "markdown",
      "metadata": {
        "id": "uTviAe0IvIOm"
      },
      "source": [
        "iloc is used for integer-location based indexing / selection by position. Here we select rows and columns by number.\n",
        "\n",
        "df.iloc[row_selecton , column_selection]"
      ]
    },
    {
      "cell_type": "code",
      "metadata": {
        "id": "LTUW_Ol_vIOm",
        "colab": {
          "base_uri": "https://localhost:8080/"
        },
        "outputId": "117d0533-96bc-49b0-eac5-7a30462e9bf5"
      },
      "source": [
        "df.iloc[0] #First row of the dataframe"
      ],
      "execution_count": null,
      "outputs": [
        {
          "output_type": "execute_result",
          "data": {
            "text/plain": [
              "name       Sachin\n",
              "country       Ind\n",
              "Runs        10000\n",
              "Name: 0, dtype: object"
            ]
          },
          "metadata": {},
          "execution_count": 45
        }
      ]
    },
    {
      "cell_type": "code",
      "metadata": {
        "colab": {
          "base_uri": "https://localhost:8080/"
        },
        "id": "Lx8X7H8c1m-5",
        "outputId": "6b262898-eb36-44e6-8867-e7b531c0ed7c"
      },
      "source": [
        "df.iloc[-1] #Only the last row"
      ],
      "execution_count": null,
      "outputs": [
        {
          "output_type": "execute_result",
          "data": {
            "text/plain": [
              "name       Rahul\n",
              "country      Ind\n",
              "Runs       10100\n",
              "Name: 2, dtype: object"
            ]
          },
          "metadata": {},
          "execution_count": 46
        }
      ]
    },
    {
      "cell_type": "code",
      "metadata": {
        "colab": {
          "base_uri": "https://localhost:8080/"
        },
        "id": "RcpA9yaY1sxC",
        "outputId": "dc18f93c-0a97-4f5d-e992-de8c459e78ec"
      },
      "source": [
        "df.iloc[:,1] #all the rows and first column"
      ],
      "execution_count": null,
      "outputs": [
        {
          "output_type": "execute_result",
          "data": {
            "text/plain": [
              "0    Ind\n",
              "1    Ind\n",
              "2    Ind\n",
              "Name: country, dtype: object"
            ]
          },
          "metadata": {},
          "execution_count": 47
        }
      ]
    },
    {
      "cell_type": "code",
      "metadata": {
        "id": "cBji3YC3vIOn",
        "colab": {
          "base_uri": "https://localhost:8080/",
          "height": 143
        },
        "outputId": "02ababde-142d-4f46-fc81-31ca7a8beca0"
      },
      "source": [
        "df.iloc[:,0:2] #All rows and 1st to 2nd column"
      ],
      "execution_count": null,
      "outputs": [
        {
          "output_type": "execute_result",
          "data": {
            "text/plain": [
              "     name country\n",
              "0  Sachin     Ind\n",
              "1  Sourav     Ind\n",
              "2   Rahul     Ind"
            ],
            "text/html": [
              "\n",
              "  <div id=\"df-c999fffa-4425-469f-9bb3-972ffa13f79b\">\n",
              "    <div class=\"colab-df-container\">\n",
              "      <div>\n",
              "<style scoped>\n",
              "    .dataframe tbody tr th:only-of-type {\n",
              "        vertical-align: middle;\n",
              "    }\n",
              "\n",
              "    .dataframe tbody tr th {\n",
              "        vertical-align: top;\n",
              "    }\n",
              "\n",
              "    .dataframe thead th {\n",
              "        text-align: right;\n",
              "    }\n",
              "</style>\n",
              "<table border=\"1\" class=\"dataframe\">\n",
              "  <thead>\n",
              "    <tr style=\"text-align: right;\">\n",
              "      <th></th>\n",
              "      <th>name</th>\n",
              "      <th>country</th>\n",
              "    </tr>\n",
              "  </thead>\n",
              "  <tbody>\n",
              "    <tr>\n",
              "      <th>0</th>\n",
              "      <td>Sachin</td>\n",
              "      <td>Ind</td>\n",
              "    </tr>\n",
              "    <tr>\n",
              "      <th>1</th>\n",
              "      <td>Sourav</td>\n",
              "      <td>Ind</td>\n",
              "    </tr>\n",
              "    <tr>\n",
              "      <th>2</th>\n",
              "      <td>Rahul</td>\n",
              "      <td>Ind</td>\n",
              "    </tr>\n",
              "  </tbody>\n",
              "</table>\n",
              "</div>\n",
              "      <button class=\"colab-df-convert\" onclick=\"convertToInteractive('df-c999fffa-4425-469f-9bb3-972ffa13f79b')\"\n",
              "              title=\"Convert this dataframe to an interactive table.\"\n",
              "              style=\"display:none;\">\n",
              "        \n",
              "  <svg xmlns=\"http://www.w3.org/2000/svg\" height=\"24px\"viewBox=\"0 0 24 24\"\n",
              "       width=\"24px\">\n",
              "    <path d=\"M0 0h24v24H0V0z\" fill=\"none\"/>\n",
              "    <path d=\"M18.56 5.44l.94 2.06.94-2.06 2.06-.94-2.06-.94-.94-2.06-.94 2.06-2.06.94zm-11 1L8.5 8.5l.94-2.06 2.06-.94-2.06-.94L8.5 2.5l-.94 2.06-2.06.94zm10 10l.94 2.06.94-2.06 2.06-.94-2.06-.94-.94-2.06-.94 2.06-2.06.94z\"/><path d=\"M17.41 7.96l-1.37-1.37c-.4-.4-.92-.59-1.43-.59-.52 0-1.04.2-1.43.59L10.3 9.45l-7.72 7.72c-.78.78-.78 2.05 0 2.83L4 21.41c.39.39.9.59 1.41.59.51 0 1.02-.2 1.41-.59l7.78-7.78 2.81-2.81c.8-.78.8-2.07 0-2.86zM5.41 20L4 18.59l7.72-7.72 1.47 1.35L5.41 20z\"/>\n",
              "  </svg>\n",
              "      </button>\n",
              "      \n",
              "  <style>\n",
              "    .colab-df-container {\n",
              "      display:flex;\n",
              "      flex-wrap:wrap;\n",
              "      gap: 12px;\n",
              "    }\n",
              "\n",
              "    .colab-df-convert {\n",
              "      background-color: #E8F0FE;\n",
              "      border: none;\n",
              "      border-radius: 50%;\n",
              "      cursor: pointer;\n",
              "      display: none;\n",
              "      fill: #1967D2;\n",
              "      height: 32px;\n",
              "      padding: 0 0 0 0;\n",
              "      width: 32px;\n",
              "    }\n",
              "\n",
              "    .colab-df-convert:hover {\n",
              "      background-color: #E2EBFA;\n",
              "      box-shadow: 0px 1px 2px rgba(60, 64, 67, 0.3), 0px 1px 3px 1px rgba(60, 64, 67, 0.15);\n",
              "      fill: #174EA6;\n",
              "    }\n",
              "\n",
              "    [theme=dark] .colab-df-convert {\n",
              "      background-color: #3B4455;\n",
              "      fill: #D2E3FC;\n",
              "    }\n",
              "\n",
              "    [theme=dark] .colab-df-convert:hover {\n",
              "      background-color: #434B5C;\n",
              "      box-shadow: 0px 1px 3px 1px rgba(0, 0, 0, 0.15);\n",
              "      filter: drop-shadow(0px 1px 2px rgba(0, 0, 0, 0.3));\n",
              "      fill: #FFFFFF;\n",
              "    }\n",
              "  </style>\n",
              "\n",
              "      <script>\n",
              "        const buttonEl =\n",
              "          document.querySelector('#df-c999fffa-4425-469f-9bb3-972ffa13f79b button.colab-df-convert');\n",
              "        buttonEl.style.display =\n",
              "          google.colab.kernel.accessAllowed ? 'block' : 'none';\n",
              "\n",
              "        async function convertToInteractive(key) {\n",
              "          const element = document.querySelector('#df-c999fffa-4425-469f-9bb3-972ffa13f79b');\n",
              "          const dataTable =\n",
              "            await google.colab.kernel.invokeFunction('convertToInteractive',\n",
              "                                                     [key], {});\n",
              "          if (!dataTable) return;\n",
              "\n",
              "          const docLinkHtml = 'Like what you see? Visit the ' +\n",
              "            '<a target=\"_blank\" href=https://colab.research.google.com/notebooks/data_table.ipynb>data table notebook</a>'\n",
              "            + ' to learn more about interactive tables.';\n",
              "          element.innerHTML = '';\n",
              "          dataTable['output_type'] = 'display_data';\n",
              "          await google.colab.output.renderOutput(dataTable, element);\n",
              "          const docLink = document.createElement('div');\n",
              "          docLink.innerHTML = docLinkHtml;\n",
              "          element.appendChild(docLink);\n",
              "        }\n",
              "      </script>\n",
              "    </div>\n",
              "  </div>\n",
              "  "
            ]
          },
          "metadata": {},
          "execution_count": 48
        }
      ]
    },
    {
      "cell_type": "markdown",
      "metadata": {
        "id": "-4pFPKySvIOm"
      },
      "source": [
        "Please note a selection e.g.[1:6], will run from the first number to one minus the second number. e.g. [1:6] will go 1,2,3,4,5. (excludes the last number)"
      ]
    },
    {
      "cell_type": "markdown",
      "metadata": {
        "id": "nuTyKJZwvIOo"
      },
      "source": [
        "Few Common Dataframe Operations, we will perform on famous <b> Kaggle Titanic dataframe </b> - https://www.kaggle.com/c/titanic/overview"
      ]
    },
    {
      "cell_type": "markdown",
      "metadata": {
        "id": "JeJVOHqowKEZ"
      },
      "source": [
        "**Reading data from Google drive**"
      ]
    },
    {
      "cell_type": "code",
      "metadata": {
        "colab": {
          "base_uri": "https://localhost:8080/"
        },
        "id": "O2lMy2XGwQxY",
        "outputId": "754d6733-0341-4f3d-e71e-03007005ab5b"
      },
      "source": [
        "#Mounting Google Drive\n",
        "from google.colab import drive\n",
        "drive.mount('/content/drive')"
      ],
      "execution_count": null,
      "outputs": [
        {
          "output_type": "stream",
          "name": "stdout",
          "text": [
            "Mounted at /content/drive\n"
          ]
        }
      ]
    },
    {
      "cell_type": "code",
      "metadata": {
        "colab": {
          "base_uri": "https://localhost:8080/"
        },
        "id": "T22zDtLYwp1q",
        "outputId": "28d33cdf-eb5f-48c7-a616-7c48a97a1369"
      },
      "source": [
        "ls \"/content/drive/My Drive/Colab Notebooks\""
      ],
      "execution_count": null,
      "outputs": [
        {
          "output_type": "stream",
          "name": "stdout",
          "text": [
            " Adjacency.ipynb\n",
            " Basic_Python_Programming_DBS_SG_SM.ipynb\n",
            "'Copy of cite_scrna_integration_w_totalVI_dataset.ipynb'\n",
            "'Copy of Recursive_Clustering_TCGA_PANCAN_Dataset_UCI (1).ipynb'\n",
            "'Copy of Recursive_Clustering_TCGA_PANCAN_Dataset_UCI.ipynb'\n",
            "'Copy of totalVI new api.ipynb'\n",
            " facebook_combined11.csv\n",
            " hao2020-seurat.ipynb\n",
            " kmeans-dbs-sg.ipynb\n",
            " knn-dbs-sg.ipynb\n",
            " MATPLOTLIB_SM_DBS_SG.ipynb\n",
            "\u001b[0m\u001b[01;34m'MOI Old'\u001b[0m/\n",
            " my_mnist_cnn.ipynb\n",
            " NUMPY_SM_SG_DBS.ipynb\n",
            " PANDAS_SM_DBS.ipynb\n",
            " Python_R_in_Single_Notebook.ipynb\n",
            " Tensorflow.ipynb\n",
            " TotalVI.ipynb\n",
            " train.csv\n",
            " Untitled\n",
            " Untitled0.ipynb\n",
            " Untitled1.ipynb\n",
            " Untitled2.ipynb\n"
          ]
        }
      ]
    },
    {
      "cell_type": "code",
      "metadata": {
        "collapsed": true,
        "id": "qd99waExvIOo"
      },
      "source": [
        "df = pd.read_csv('/content/drive/My Drive/Colab Notebooks/train.csv') # read_csv is the function to read csv file"
      ],
      "execution_count": null,
      "outputs": []
    },
    {
      "cell_type": "code",
      "metadata": {
        "colab": {
          "base_uri": "https://localhost:8080/",
          "height": 302
        },
        "id": "8_Hb_zYkw7wF",
        "outputId": "3ec5ab5e-dd81-4359-cb6a-039f6a9cc145"
      },
      "source": [
        "df.head()"
      ],
      "execution_count": null,
      "outputs": [
        {
          "output_type": "execute_result",
          "data": {
            "text/plain": [
              "   PassengerId  Survived  Pclass  \\\n",
              "0            1         0       3   \n",
              "1            2         1       1   \n",
              "2            3         1       3   \n",
              "3            4         1       1   \n",
              "4            5         0       3   \n",
              "\n",
              "                                                Name     Sex   Age  SibSp  \\\n",
              "0                            Braund, Mr. Owen Harris    male  22.0      1   \n",
              "1  Cumings, Mrs. John Bradley (Florence Briggs Th...  female  38.0      1   \n",
              "2                             Heikkinen, Miss. Laina  female  26.0      0   \n",
              "3       Futrelle, Mrs. Jacques Heath (Lily May Peel)  female  35.0      1   \n",
              "4                           Allen, Mr. William Henry    male  35.0      0   \n",
              "\n",
              "   Parch            Ticket     Fare Cabin Embarked  \n",
              "0      0         A/5 21171   7.2500   NaN        S  \n",
              "1      0          PC 17599  71.2833   C85        C  \n",
              "2      0  STON/O2. 3101282   7.9250   NaN        S  \n",
              "3      0            113803  53.1000  C123        S  \n",
              "4      0            373450   8.0500   NaN        S  "
            ],
            "text/html": [
              "\n",
              "  <div id=\"df-b7373d3c-e656-419a-8f9a-6c95f78b307b\">\n",
              "    <div class=\"colab-df-container\">\n",
              "      <div>\n",
              "<style scoped>\n",
              "    .dataframe tbody tr th:only-of-type {\n",
              "        vertical-align: middle;\n",
              "    }\n",
              "\n",
              "    .dataframe tbody tr th {\n",
              "        vertical-align: top;\n",
              "    }\n",
              "\n",
              "    .dataframe thead th {\n",
              "        text-align: right;\n",
              "    }\n",
              "</style>\n",
              "<table border=\"1\" class=\"dataframe\">\n",
              "  <thead>\n",
              "    <tr style=\"text-align: right;\">\n",
              "      <th></th>\n",
              "      <th>PassengerId</th>\n",
              "      <th>Survived</th>\n",
              "      <th>Pclass</th>\n",
              "      <th>Name</th>\n",
              "      <th>Sex</th>\n",
              "      <th>Age</th>\n",
              "      <th>SibSp</th>\n",
              "      <th>Parch</th>\n",
              "      <th>Ticket</th>\n",
              "      <th>Fare</th>\n",
              "      <th>Cabin</th>\n",
              "      <th>Embarked</th>\n",
              "    </tr>\n",
              "  </thead>\n",
              "  <tbody>\n",
              "    <tr>\n",
              "      <th>0</th>\n",
              "      <td>1</td>\n",
              "      <td>0</td>\n",
              "      <td>3</td>\n",
              "      <td>Braund, Mr. Owen Harris</td>\n",
              "      <td>male</td>\n",
              "      <td>22.0</td>\n",
              "      <td>1</td>\n",
              "      <td>0</td>\n",
              "      <td>A/5 21171</td>\n",
              "      <td>7.2500</td>\n",
              "      <td>NaN</td>\n",
              "      <td>S</td>\n",
              "    </tr>\n",
              "    <tr>\n",
              "      <th>1</th>\n",
              "      <td>2</td>\n",
              "      <td>1</td>\n",
              "      <td>1</td>\n",
              "      <td>Cumings, Mrs. John Bradley (Florence Briggs Th...</td>\n",
              "      <td>female</td>\n",
              "      <td>38.0</td>\n",
              "      <td>1</td>\n",
              "      <td>0</td>\n",
              "      <td>PC 17599</td>\n",
              "      <td>71.2833</td>\n",
              "      <td>C85</td>\n",
              "      <td>C</td>\n",
              "    </tr>\n",
              "    <tr>\n",
              "      <th>2</th>\n",
              "      <td>3</td>\n",
              "      <td>1</td>\n",
              "      <td>3</td>\n",
              "      <td>Heikkinen, Miss. Laina</td>\n",
              "      <td>female</td>\n",
              "      <td>26.0</td>\n",
              "      <td>0</td>\n",
              "      <td>0</td>\n",
              "      <td>STON/O2. 3101282</td>\n",
              "      <td>7.9250</td>\n",
              "      <td>NaN</td>\n",
              "      <td>S</td>\n",
              "    </tr>\n",
              "    <tr>\n",
              "      <th>3</th>\n",
              "      <td>4</td>\n",
              "      <td>1</td>\n",
              "      <td>1</td>\n",
              "      <td>Futrelle, Mrs. Jacques Heath (Lily May Peel)</td>\n",
              "      <td>female</td>\n",
              "      <td>35.0</td>\n",
              "      <td>1</td>\n",
              "      <td>0</td>\n",
              "      <td>113803</td>\n",
              "      <td>53.1000</td>\n",
              "      <td>C123</td>\n",
              "      <td>S</td>\n",
              "    </tr>\n",
              "    <tr>\n",
              "      <th>4</th>\n",
              "      <td>5</td>\n",
              "      <td>0</td>\n",
              "      <td>3</td>\n",
              "      <td>Allen, Mr. William Henry</td>\n",
              "      <td>male</td>\n",
              "      <td>35.0</td>\n",
              "      <td>0</td>\n",
              "      <td>0</td>\n",
              "      <td>373450</td>\n",
              "      <td>8.0500</td>\n",
              "      <td>NaN</td>\n",
              "      <td>S</td>\n",
              "    </tr>\n",
              "  </tbody>\n",
              "</table>\n",
              "</div>\n",
              "      <button class=\"colab-df-convert\" onclick=\"convertToInteractive('df-b7373d3c-e656-419a-8f9a-6c95f78b307b')\"\n",
              "              title=\"Convert this dataframe to an interactive table.\"\n",
              "              style=\"display:none;\">\n",
              "        \n",
              "  <svg xmlns=\"http://www.w3.org/2000/svg\" height=\"24px\"viewBox=\"0 0 24 24\"\n",
              "       width=\"24px\">\n",
              "    <path d=\"M0 0h24v24H0V0z\" fill=\"none\"/>\n",
              "    <path d=\"M18.56 5.44l.94 2.06.94-2.06 2.06-.94-2.06-.94-.94-2.06-.94 2.06-2.06.94zm-11 1L8.5 8.5l.94-2.06 2.06-.94-2.06-.94L8.5 2.5l-.94 2.06-2.06.94zm10 10l.94 2.06.94-2.06 2.06-.94-2.06-.94-.94-2.06-.94 2.06-2.06.94z\"/><path d=\"M17.41 7.96l-1.37-1.37c-.4-.4-.92-.59-1.43-.59-.52 0-1.04.2-1.43.59L10.3 9.45l-7.72 7.72c-.78.78-.78 2.05 0 2.83L4 21.41c.39.39.9.59 1.41.59.51 0 1.02-.2 1.41-.59l7.78-7.78 2.81-2.81c.8-.78.8-2.07 0-2.86zM5.41 20L4 18.59l7.72-7.72 1.47 1.35L5.41 20z\"/>\n",
              "  </svg>\n",
              "      </button>\n",
              "      \n",
              "  <style>\n",
              "    .colab-df-container {\n",
              "      display:flex;\n",
              "      flex-wrap:wrap;\n",
              "      gap: 12px;\n",
              "    }\n",
              "\n",
              "    .colab-df-convert {\n",
              "      background-color: #E8F0FE;\n",
              "      border: none;\n",
              "      border-radius: 50%;\n",
              "      cursor: pointer;\n",
              "      display: none;\n",
              "      fill: #1967D2;\n",
              "      height: 32px;\n",
              "      padding: 0 0 0 0;\n",
              "      width: 32px;\n",
              "    }\n",
              "\n",
              "    .colab-df-convert:hover {\n",
              "      background-color: #E2EBFA;\n",
              "      box-shadow: 0px 1px 2px rgba(60, 64, 67, 0.3), 0px 1px 3px 1px rgba(60, 64, 67, 0.15);\n",
              "      fill: #174EA6;\n",
              "    }\n",
              "\n",
              "    [theme=dark] .colab-df-convert {\n",
              "      background-color: #3B4455;\n",
              "      fill: #D2E3FC;\n",
              "    }\n",
              "\n",
              "    [theme=dark] .colab-df-convert:hover {\n",
              "      background-color: #434B5C;\n",
              "      box-shadow: 0px 1px 3px 1px rgba(0, 0, 0, 0.15);\n",
              "      filter: drop-shadow(0px 1px 2px rgba(0, 0, 0, 0.3));\n",
              "      fill: #FFFFFF;\n",
              "    }\n",
              "  </style>\n",
              "\n",
              "      <script>\n",
              "        const buttonEl =\n",
              "          document.querySelector('#df-b7373d3c-e656-419a-8f9a-6c95f78b307b button.colab-df-convert');\n",
              "        buttonEl.style.display =\n",
              "          google.colab.kernel.accessAllowed ? 'block' : 'none';\n",
              "\n",
              "        async function convertToInteractive(key) {\n",
              "          const element = document.querySelector('#df-b7373d3c-e656-419a-8f9a-6c95f78b307b');\n",
              "          const dataTable =\n",
              "            await google.colab.kernel.invokeFunction('convertToInteractive',\n",
              "                                                     [key], {});\n",
              "          if (!dataTable) return;\n",
              "\n",
              "          const docLinkHtml = 'Like what you see? Visit the ' +\n",
              "            '<a target=\"_blank\" href=https://colab.research.google.com/notebooks/data_table.ipynb>data table notebook</a>'\n",
              "            + ' to learn more about interactive tables.';\n",
              "          element.innerHTML = '';\n",
              "          dataTable['output_type'] = 'display_data';\n",
              "          await google.colab.output.renderOutput(dataTable, element);\n",
              "          const docLink = document.createElement('div');\n",
              "          docLink.innerHTML = docLinkHtml;\n",
              "          element.appendChild(docLink);\n",
              "        }\n",
              "      </script>\n",
              "    </div>\n",
              "  </div>\n",
              "  "
            ]
          },
          "metadata": {},
          "execution_count": 52
        }
      ]
    },
    {
      "cell_type": "code",
      "metadata": {
        "colab": {
          "base_uri": "https://localhost:8080/"
        },
        "id": "9MHX9bmjvIOp",
        "outputId": "44c9720e-72aa-41c7-835a-80d7d746399b"
      },
      "source": [
        "df.shape # To check the count of rows and columns"
      ],
      "execution_count": null,
      "outputs": [
        {
          "output_type": "execute_result",
          "data": {
            "text/plain": [
              "(891, 12)"
            ]
          },
          "metadata": {},
          "execution_count": 53
        }
      ]
    },
    {
      "cell_type": "code",
      "metadata": {
        "colab": {
          "base_uri": "https://localhost:8080/"
        },
        "id": "AZhsj-7q5TDv",
        "outputId": "1048d2b2-2b01-4083-fffc-b44f842b6c26"
      },
      "source": [
        "df.shape[0] #number of rows"
      ],
      "execution_count": null,
      "outputs": [
        {
          "output_type": "execute_result",
          "data": {
            "text/plain": [
              "891"
            ]
          },
          "metadata": {},
          "execution_count": 54
        }
      ]
    },
    {
      "cell_type": "code",
      "metadata": {
        "colab": {
          "base_uri": "https://localhost:8080/"
        },
        "id": "C-jdV16KvIOp",
        "outputId": "073e7aa9-8d8a-447b-d51e-f934d08ddd63"
      },
      "source": [
        "df.columns #to check the column names"
      ],
      "execution_count": null,
      "outputs": [
        {
          "output_type": "execute_result",
          "data": {
            "text/plain": [
              "Index(['PassengerId', 'Survived', 'Pclass', 'Name', 'Sex', 'Age', 'SibSp',\n",
              "       'Parch', 'Ticket', 'Fare', 'Cabin', 'Embarked'],\n",
              "      dtype='object')"
            ]
          },
          "metadata": {},
          "execution_count": 55
        }
      ]
    },
    {
      "cell_type": "code",
      "metadata": {
        "colab": {
          "base_uri": "https://localhost:8080/"
        },
        "id": "xbe9PyWivIOq",
        "outputId": "9bc3de05-2a68-451a-b92f-77b0884d4c5c"
      },
      "source": [
        "df.dtypes # to see datatypes of the columns"
      ],
      "execution_count": null,
      "outputs": [
        {
          "output_type": "execute_result",
          "data": {
            "text/plain": [
              "PassengerId      int64\n",
              "Survived         int64\n",
              "Pclass           int64\n",
              "Name            object\n",
              "Sex             object\n",
              "Age            float64\n",
              "SibSp            int64\n",
              "Parch            int64\n",
              "Ticket          object\n",
              "Fare           float64\n",
              "Cabin           object\n",
              "Embarked        object\n",
              "dtype: object"
            ]
          },
          "metadata": {},
          "execution_count": 56
        }
      ]
    },
    {
      "cell_type": "code",
      "metadata": {
        "colab": {
          "base_uri": "https://localhost:8080/"
        },
        "id": "9zZTTgL1vIOq",
        "outputId": "aa23810d-e2d2-4a8e-af35-2e450d58b542"
      },
      "source": [
        "df[\"Survived\"].value_counts() # to check unique values present in a column"
      ],
      "execution_count": null,
      "outputs": [
        {
          "output_type": "execute_result",
          "data": {
            "text/plain": [
              "0    549\n",
              "1    342\n",
              "Name: Survived, dtype: int64"
            ]
          },
          "metadata": {},
          "execution_count": 57
        }
      ]
    },
    {
      "cell_type": "markdown",
      "metadata": {
        "id": "xelNq71vvIOr"
      },
      "source": [
        "Boolean Indexing\n",
        "- or -> condition 1 | condition 2\n",
        "- and -> condition 1 & condition 2\n",
        "- Not -> ~ (not condition)\n",
        "- equal -> == (equal criteria)"
      ]
    },
    {
      "cell_type": "code",
      "metadata": {
        "colab": {
          "base_uri": "https://localhost:8080/",
          "height": 623
        },
        "id": "gqJbGwjI5KPZ",
        "outputId": "ffc1393b-bafa-4216-c3a6-dfbd8770a912"
      },
      "source": [
        "#females who survived\n",
        "df[(df.Sex =='female') & (df.Survived ==1)]"
      ],
      "execution_count": null,
      "outputs": [
        {
          "output_type": "execute_result",
          "data": {
            "text/plain": [
              "     PassengerId  Survived  Pclass  \\\n",
              "1              2         1       1   \n",
              "2              3         1       3   \n",
              "3              4         1       1   \n",
              "8              9         1       3   \n",
              "9             10         1       2   \n",
              "..           ...       ...     ...   \n",
              "874          875         1       2   \n",
              "875          876         1       3   \n",
              "879          880         1       1   \n",
              "880          881         1       2   \n",
              "887          888         1       1   \n",
              "\n",
              "                                                  Name     Sex   Age  SibSp  \\\n",
              "1    Cumings, Mrs. John Bradley (Florence Briggs Th...  female  38.0      1   \n",
              "2                               Heikkinen, Miss. Laina  female  26.0      0   \n",
              "3         Futrelle, Mrs. Jacques Heath (Lily May Peel)  female  35.0      1   \n",
              "8    Johnson, Mrs. Oscar W (Elisabeth Vilhelmina Berg)  female  27.0      0   \n",
              "9                  Nasser, Mrs. Nicholas (Adele Achem)  female  14.0      1   \n",
              "..                                                 ...     ...   ...    ...   \n",
              "874              Abelson, Mrs. Samuel (Hannah Wizosky)  female  28.0      1   \n",
              "875                   Najib, Miss. Adele Kiamie \"Jane\"  female  15.0      0   \n",
              "879      Potter, Mrs. Thomas Jr (Lily Alexenia Wilson)  female  56.0      0   \n",
              "880       Shelley, Mrs. William (Imanita Parrish Hall)  female  25.0      0   \n",
              "887                       Graham, Miss. Margaret Edith  female  19.0      0   \n",
              "\n",
              "     Parch            Ticket     Fare Cabin Embarked  \n",
              "1        0          PC 17599  71.2833   C85        C  \n",
              "2        0  STON/O2. 3101282   7.9250   NaN        S  \n",
              "3        0            113803  53.1000  C123        S  \n",
              "8        2            347742  11.1333   NaN        S  \n",
              "9        0            237736  30.0708   NaN        C  \n",
              "..     ...               ...      ...   ...      ...  \n",
              "874      0         P/PP 3381  24.0000   NaN        C  \n",
              "875      0              2667   7.2250   NaN        C  \n",
              "879      1             11767  83.1583   C50        C  \n",
              "880      1            230433  26.0000   NaN        S  \n",
              "887      0            112053  30.0000   B42        S  \n",
              "\n",
              "[233 rows x 12 columns]"
            ],
            "text/html": [
              "\n",
              "  <div id=\"df-4ef13d24-2b7b-4920-89f6-6157705167f5\">\n",
              "    <div class=\"colab-df-container\">\n",
              "      <div>\n",
              "<style scoped>\n",
              "    .dataframe tbody tr th:only-of-type {\n",
              "        vertical-align: middle;\n",
              "    }\n",
              "\n",
              "    .dataframe tbody tr th {\n",
              "        vertical-align: top;\n",
              "    }\n",
              "\n",
              "    .dataframe thead th {\n",
              "        text-align: right;\n",
              "    }\n",
              "</style>\n",
              "<table border=\"1\" class=\"dataframe\">\n",
              "  <thead>\n",
              "    <tr style=\"text-align: right;\">\n",
              "      <th></th>\n",
              "      <th>PassengerId</th>\n",
              "      <th>Survived</th>\n",
              "      <th>Pclass</th>\n",
              "      <th>Name</th>\n",
              "      <th>Sex</th>\n",
              "      <th>Age</th>\n",
              "      <th>SibSp</th>\n",
              "      <th>Parch</th>\n",
              "      <th>Ticket</th>\n",
              "      <th>Fare</th>\n",
              "      <th>Cabin</th>\n",
              "      <th>Embarked</th>\n",
              "    </tr>\n",
              "  </thead>\n",
              "  <tbody>\n",
              "    <tr>\n",
              "      <th>1</th>\n",
              "      <td>2</td>\n",
              "      <td>1</td>\n",
              "      <td>1</td>\n",
              "      <td>Cumings, Mrs. John Bradley (Florence Briggs Th...</td>\n",
              "      <td>female</td>\n",
              "      <td>38.0</td>\n",
              "      <td>1</td>\n",
              "      <td>0</td>\n",
              "      <td>PC 17599</td>\n",
              "      <td>71.2833</td>\n",
              "      <td>C85</td>\n",
              "      <td>C</td>\n",
              "    </tr>\n",
              "    <tr>\n",
              "      <th>2</th>\n",
              "      <td>3</td>\n",
              "      <td>1</td>\n",
              "      <td>3</td>\n",
              "      <td>Heikkinen, Miss. Laina</td>\n",
              "      <td>female</td>\n",
              "      <td>26.0</td>\n",
              "      <td>0</td>\n",
              "      <td>0</td>\n",
              "      <td>STON/O2. 3101282</td>\n",
              "      <td>7.9250</td>\n",
              "      <td>NaN</td>\n",
              "      <td>S</td>\n",
              "    </tr>\n",
              "    <tr>\n",
              "      <th>3</th>\n",
              "      <td>4</td>\n",
              "      <td>1</td>\n",
              "      <td>1</td>\n",
              "      <td>Futrelle, Mrs. Jacques Heath (Lily May Peel)</td>\n",
              "      <td>female</td>\n",
              "      <td>35.0</td>\n",
              "      <td>1</td>\n",
              "      <td>0</td>\n",
              "      <td>113803</td>\n",
              "      <td>53.1000</td>\n",
              "      <td>C123</td>\n",
              "      <td>S</td>\n",
              "    </tr>\n",
              "    <tr>\n",
              "      <th>8</th>\n",
              "      <td>9</td>\n",
              "      <td>1</td>\n",
              "      <td>3</td>\n",
              "      <td>Johnson, Mrs. Oscar W (Elisabeth Vilhelmina Berg)</td>\n",
              "      <td>female</td>\n",
              "      <td>27.0</td>\n",
              "      <td>0</td>\n",
              "      <td>2</td>\n",
              "      <td>347742</td>\n",
              "      <td>11.1333</td>\n",
              "      <td>NaN</td>\n",
              "      <td>S</td>\n",
              "    </tr>\n",
              "    <tr>\n",
              "      <th>9</th>\n",
              "      <td>10</td>\n",
              "      <td>1</td>\n",
              "      <td>2</td>\n",
              "      <td>Nasser, Mrs. Nicholas (Adele Achem)</td>\n",
              "      <td>female</td>\n",
              "      <td>14.0</td>\n",
              "      <td>1</td>\n",
              "      <td>0</td>\n",
              "      <td>237736</td>\n",
              "      <td>30.0708</td>\n",
              "      <td>NaN</td>\n",
              "      <td>C</td>\n",
              "    </tr>\n",
              "    <tr>\n",
              "      <th>...</th>\n",
              "      <td>...</td>\n",
              "      <td>...</td>\n",
              "      <td>...</td>\n",
              "      <td>...</td>\n",
              "      <td>...</td>\n",
              "      <td>...</td>\n",
              "      <td>...</td>\n",
              "      <td>...</td>\n",
              "      <td>...</td>\n",
              "      <td>...</td>\n",
              "      <td>...</td>\n",
              "      <td>...</td>\n",
              "    </tr>\n",
              "    <tr>\n",
              "      <th>874</th>\n",
              "      <td>875</td>\n",
              "      <td>1</td>\n",
              "      <td>2</td>\n",
              "      <td>Abelson, Mrs. Samuel (Hannah Wizosky)</td>\n",
              "      <td>female</td>\n",
              "      <td>28.0</td>\n",
              "      <td>1</td>\n",
              "      <td>0</td>\n",
              "      <td>P/PP 3381</td>\n",
              "      <td>24.0000</td>\n",
              "      <td>NaN</td>\n",
              "      <td>C</td>\n",
              "    </tr>\n",
              "    <tr>\n",
              "      <th>875</th>\n",
              "      <td>876</td>\n",
              "      <td>1</td>\n",
              "      <td>3</td>\n",
              "      <td>Najib, Miss. Adele Kiamie \"Jane\"</td>\n",
              "      <td>female</td>\n",
              "      <td>15.0</td>\n",
              "      <td>0</td>\n",
              "      <td>0</td>\n",
              "      <td>2667</td>\n",
              "      <td>7.2250</td>\n",
              "      <td>NaN</td>\n",
              "      <td>C</td>\n",
              "    </tr>\n",
              "    <tr>\n",
              "      <th>879</th>\n",
              "      <td>880</td>\n",
              "      <td>1</td>\n",
              "      <td>1</td>\n",
              "      <td>Potter, Mrs. Thomas Jr (Lily Alexenia Wilson)</td>\n",
              "      <td>female</td>\n",
              "      <td>56.0</td>\n",
              "      <td>0</td>\n",
              "      <td>1</td>\n",
              "      <td>11767</td>\n",
              "      <td>83.1583</td>\n",
              "      <td>C50</td>\n",
              "      <td>C</td>\n",
              "    </tr>\n",
              "    <tr>\n",
              "      <th>880</th>\n",
              "      <td>881</td>\n",
              "      <td>1</td>\n",
              "      <td>2</td>\n",
              "      <td>Shelley, Mrs. William (Imanita Parrish Hall)</td>\n",
              "      <td>female</td>\n",
              "      <td>25.0</td>\n",
              "      <td>0</td>\n",
              "      <td>1</td>\n",
              "      <td>230433</td>\n",
              "      <td>26.0000</td>\n",
              "      <td>NaN</td>\n",
              "      <td>S</td>\n",
              "    </tr>\n",
              "    <tr>\n",
              "      <th>887</th>\n",
              "      <td>888</td>\n",
              "      <td>1</td>\n",
              "      <td>1</td>\n",
              "      <td>Graham, Miss. Margaret Edith</td>\n",
              "      <td>female</td>\n",
              "      <td>19.0</td>\n",
              "      <td>0</td>\n",
              "      <td>0</td>\n",
              "      <td>112053</td>\n",
              "      <td>30.0000</td>\n",
              "      <td>B42</td>\n",
              "      <td>S</td>\n",
              "    </tr>\n",
              "  </tbody>\n",
              "</table>\n",
              "<p>233 rows × 12 columns</p>\n",
              "</div>\n",
              "      <button class=\"colab-df-convert\" onclick=\"convertToInteractive('df-4ef13d24-2b7b-4920-89f6-6157705167f5')\"\n",
              "              title=\"Convert this dataframe to an interactive table.\"\n",
              "              style=\"display:none;\">\n",
              "        \n",
              "  <svg xmlns=\"http://www.w3.org/2000/svg\" height=\"24px\"viewBox=\"0 0 24 24\"\n",
              "       width=\"24px\">\n",
              "    <path d=\"M0 0h24v24H0V0z\" fill=\"none\"/>\n",
              "    <path d=\"M18.56 5.44l.94 2.06.94-2.06 2.06-.94-2.06-.94-.94-2.06-.94 2.06-2.06.94zm-11 1L8.5 8.5l.94-2.06 2.06-.94-2.06-.94L8.5 2.5l-.94 2.06-2.06.94zm10 10l.94 2.06.94-2.06 2.06-.94-2.06-.94-.94-2.06-.94 2.06-2.06.94z\"/><path d=\"M17.41 7.96l-1.37-1.37c-.4-.4-.92-.59-1.43-.59-.52 0-1.04.2-1.43.59L10.3 9.45l-7.72 7.72c-.78.78-.78 2.05 0 2.83L4 21.41c.39.39.9.59 1.41.59.51 0 1.02-.2 1.41-.59l7.78-7.78 2.81-2.81c.8-.78.8-2.07 0-2.86zM5.41 20L4 18.59l7.72-7.72 1.47 1.35L5.41 20z\"/>\n",
              "  </svg>\n",
              "      </button>\n",
              "      \n",
              "  <style>\n",
              "    .colab-df-container {\n",
              "      display:flex;\n",
              "      flex-wrap:wrap;\n",
              "      gap: 12px;\n",
              "    }\n",
              "\n",
              "    .colab-df-convert {\n",
              "      background-color: #E8F0FE;\n",
              "      border: none;\n",
              "      border-radius: 50%;\n",
              "      cursor: pointer;\n",
              "      display: none;\n",
              "      fill: #1967D2;\n",
              "      height: 32px;\n",
              "      padding: 0 0 0 0;\n",
              "      width: 32px;\n",
              "    }\n",
              "\n",
              "    .colab-df-convert:hover {\n",
              "      background-color: #E2EBFA;\n",
              "      box-shadow: 0px 1px 2px rgba(60, 64, 67, 0.3), 0px 1px 3px 1px rgba(60, 64, 67, 0.15);\n",
              "      fill: #174EA6;\n",
              "    }\n",
              "\n",
              "    [theme=dark] .colab-df-convert {\n",
              "      background-color: #3B4455;\n",
              "      fill: #D2E3FC;\n",
              "    }\n",
              "\n",
              "    [theme=dark] .colab-df-convert:hover {\n",
              "      background-color: #434B5C;\n",
              "      box-shadow: 0px 1px 3px 1px rgba(0, 0, 0, 0.15);\n",
              "      filter: drop-shadow(0px 1px 2px rgba(0, 0, 0, 0.3));\n",
              "      fill: #FFFFFF;\n",
              "    }\n",
              "  </style>\n",
              "\n",
              "      <script>\n",
              "        const buttonEl =\n",
              "          document.querySelector('#df-4ef13d24-2b7b-4920-89f6-6157705167f5 button.colab-df-convert');\n",
              "        buttonEl.style.display =\n",
              "          google.colab.kernel.accessAllowed ? 'block' : 'none';\n",
              "\n",
              "        async function convertToInteractive(key) {\n",
              "          const element = document.querySelector('#df-4ef13d24-2b7b-4920-89f6-6157705167f5');\n",
              "          const dataTable =\n",
              "            await google.colab.kernel.invokeFunction('convertToInteractive',\n",
              "                                                     [key], {});\n",
              "          if (!dataTable) return;\n",
              "\n",
              "          const docLinkHtml = 'Like what you see? Visit the ' +\n",
              "            '<a target=\"_blank\" href=https://colab.research.google.com/notebooks/data_table.ipynb>data table notebook</a>'\n",
              "            + ' to learn more about interactive tables.';\n",
              "          element.innerHTML = '';\n",
              "          dataTable['output_type'] = 'display_data';\n",
              "          await google.colab.output.renderOutput(dataTable, element);\n",
              "          const docLink = document.createElement('div');\n",
              "          docLink.innerHTML = docLinkHtml;\n",
              "          element.appendChild(docLink);\n",
              "        }\n",
              "      </script>\n",
              "    </div>\n",
              "  </div>\n",
              "  "
            ]
          },
          "metadata": {},
          "execution_count": 58
        }
      ]
    },
    {
      "cell_type": "code",
      "metadata": {
        "colab": {
          "base_uri": "https://localhost:8080/"
        },
        "id": "d24kEUuWvIOr",
        "outputId": "28399c67-9ac7-4f47-d89b-ad6eaf193657"
      },
      "source": [
        "# No. of females who survived?\n",
        "df[(df.Sex =='female') & (df.Survived ==1)].shape[0] #() are mandatory for multiple conditions,()head -first 5 rows"
      ],
      "execution_count": null,
      "outputs": [
        {
          "output_type": "execute_result",
          "data": {
            "text/plain": [
              "233"
            ]
          },
          "metadata": {},
          "execution_count": 59
        }
      ]
    },
    {
      "cell_type": "code",
      "metadata": {
        "colab": {
          "base_uri": "https://localhost:8080/"
        },
        "id": "XWhcftDv6DrN",
        "outputId": "fd789280-773a-47bf-e18a-d13e625cb52a"
      },
      "source": [
        "# % of Male survivors\n",
        "df[(df.Sex =='male') & (df.Survived ==1)].shape[0] / df.shape[0] *100"
      ],
      "execution_count": null,
      "outputs": [
        {
          "output_type": "execute_result",
          "data": {
            "text/plain": [
              "12.2334455667789"
            ]
          },
          "metadata": {},
          "execution_count": 60
        }
      ]
    },
    {
      "cell_type": "code",
      "metadata": {
        "colab": {
          "base_uri": "https://localhost:8080/"
        },
        "id": "Uyl7BWnsvIOs",
        "outputId": "70152432-db44-43df-a12e-a9d0ea68b5be"
      },
      "source": [
        "# % of Male survivors\n",
        "(len(df[(df.Sex =='male') & (df.Survived ==1)])/len(df))*100"
      ],
      "execution_count": null,
      "outputs": [
        {
          "output_type": "execute_result",
          "data": {
            "text/plain": [
              "12.2334455667789"
            ]
          },
          "metadata": {},
          "execution_count": 61
        }
      ]
    },
    {
      "cell_type": "code",
      "metadata": {
        "colab": {
          "base_uri": "https://localhost:8080/"
        },
        "id": "PU-L3dnzvIOt",
        "outputId": "21f85663-c642-4dc7-8466-7490eb70ffa8"
      },
      "source": [
        "# % of Female survivors\n",
        "(len(df[(df.Sex =='female') & (df.Survived ==1)])/len(df))*100"
      ],
      "execution_count": null,
      "outputs": [
        {
          "output_type": "execute_result",
          "data": {
            "text/plain": [
              "26.15039281705948"
            ]
          },
          "metadata": {},
          "execution_count": 62
        }
      ]
    },
    {
      "cell_type": "code",
      "metadata": {
        "colab": {
          "base_uri": "https://localhost:8080/"
        },
        "id": "t4cSNXM6vIOt",
        "outputId": "4c712b6c-85cf-4ebc-92cc-5a8637cd86f6"
      },
      "source": [
        "# To check if there is any duplicate PassengerID\n",
        "sum(df.PassengerId.duplicated())"
      ],
      "execution_count": null,
      "outputs": [
        {
          "output_type": "execute_result",
          "data": {
            "text/plain": [
              "0"
            ]
          },
          "metadata": {},
          "execution_count": 63
        }
      ]
    },
    {
      "cell_type": "code",
      "metadata": {
        "colab": {
          "base_uri": "https://localhost:8080/"
        },
        "id": "9-o5UWkmvIOt",
        "outputId": "21210a83-d8d7-43d1-bd55-bf5e2487dd6b"
      },
      "source": [
        "#Average Age of passengers grouped by Gender and Survival Status\n",
        "df.groupby(by = ['Sex','Survived']).mean().Age"
      ],
      "execution_count": null,
      "outputs": [
        {
          "output_type": "execute_result",
          "data": {
            "text/plain": [
              "Sex     Survived\n",
              "female  0           25.046875\n",
              "        1           28.847716\n",
              "male    0           31.618056\n",
              "        1           27.276022\n",
              "Name: Age, dtype: float64"
            ]
          },
          "metadata": {},
          "execution_count": 64
        }
      ]
    },
    {
      "cell_type": "markdown",
      "metadata": {
        "id": "qgxUCEwwa4nk"
      },
      "source": [
        "# Getting started with MATPLOTLIB"
      ]
    },
    {
      "cell_type": "markdown",
      "metadata": {
        "id": "2Z3lFq46xJq5"
      },
      "source": [
        "*Figure*: The whole figure. The figure keeps track of all the child Axes, a smattering of ‘special’ artists (titles, figure legends, etc), and the canvas. (Don’t worry too much about the canvas, it is crucial as it is the object that actually does the drawing to get you your plot, but as the user it is more-or-less invisible to you). A figure can have any number of Axes, but to be useful should have at least one.\n",
        "\n",
        "Axes: This is what you think of as ‘a plot’, it is the region of the image with the data space (marked as the inner blue box). The Axes contains most of the figure elements: Axis, Tick, Line2D, Text, Polygon, etc., and sets the coordinate system.\n",
        "    A given figure can contain many Axes, but a given Axes object can only be in one Figure. The Axes contains two (or three in the case of 3D) Axis objects (be aware of the difference between Axes and Axis) which take care of the data limits (the data limits can also be controlled via set via the set_xlim() and set_ylim() Axes methods). Each Axes has a title (set via set_title()), an x-label (set via set_xlabel()), and a y-label set via set_ylabel()).\n",
        "\n",
        "Axis: These are the number-line-like objects (circled in green). They take care of setting the graph limits and generating the ticks (the marks on the axis) and ticklabels (strings labeling the ticks). The location of the ticks is determined by a Locator object and the ticklabel strings are formatted by a Formatter. The combination of the correct Locator and Formatter gives very fine control over the tick locations and labels.\n",
        "\n",
        "Artist: Basically everything you can see on the figure is an artist."
      ]
    },
    {
      "cell_type": "code",
      "metadata": {
        "colab": {
          "base_uri": "https://localhost:8080/",
          "height": 35
        },
        "id": "_MaIGvepxJq7",
        "outputId": "8cb56d3c-f6f0-4eff-d7ee-37cb78fdf20c"
      },
      "source": [
        "import matplotlib as mpt\n",
        "import matplotlib.pyplot as plt\n",
        "#%matplotlib inline\n",
        "#%matplotlib notebook\n",
        "mpt.get_backend()"
      ],
      "execution_count": null,
      "outputs": [
        {
          "output_type": "execute_result",
          "data": {
            "application/vnd.google.colaboratory.intrinsic+json": {
              "type": "string"
            },
            "text/plain": [
              "'module://ipykernel.pylab.backend_inline'"
            ]
          },
          "metadata": {
            "tags": []
          },
          "execution_count": 7
        }
      ]
    },
    {
      "cell_type": "markdown",
      "metadata": {
        "id": "WyaCadjcxJq9"
      },
      "source": [
        "**What is a backend?**\n",
        "\n",
        "matplotlib targets many different use cases and output formats\n",
        "\n",
        "Some people use matplotlib interactively from the python shell and have plotting windows pop up when they type commands\n",
        "\n",
        "Some people embed matplotlib into graphical user interfaces like wxpython or pygtk to build rich applications\n",
        "\n",
        "use matplotlib in batch scripts to generate postscript images from some numerical simulations"
      ]
    },
    {
      "cell_type": "markdown",
      "metadata": {
        "id": "DcppgCTMxJq-"
      },
      "source": [
        "Each pyplot function makes some change to a figure\n",
        "creates a figure, creates a plotting area in a figure, plots some lines in a plotting area, decorates the plot with labels, etc."
      ]
    },
    {
      "cell_type": "code",
      "metadata": {
        "id": "bNrwaoKixJq_",
        "outputId": "8fee3112-d795-4e16-d357-33a551a40e65"
      },
      "source": [
        "plt.plot(2,4)"
      ],
      "execution_count": null,
      "outputs": [
        {
          "output_type": "execute_result",
          "data": {
            "text/plain": [
              "[<matplotlib.lines.Line2D at 0x7f40023fc828>]"
            ]
          },
          "metadata": {
            "tags": []
          },
          "execution_count": 3
        },
        {
          "output_type": "display_data",
          "data": {
            "image/png": "[encoded data removed]",
            "text/plain": [
              "<Figure size 432x288 with 1 Axes>"
            ]
          },
          "metadata": {
            "tags": []
          }
        }
      ]
    },
    {
      "cell_type": "code",
      "metadata": {
        "id": "lqxiIxwlxJrA",
        "outputId": "96f9988c-f8a4-43cb-b3a7-d7a937af8ec0"
      },
      "source": [
        "plt.plot(2,4,'*')"
      ],
      "execution_count": null,
      "outputs": [
        {
          "output_type": "execute_result",
          "data": {
            "text/plain": [
              "[<matplotlib.lines.Line2D at 0x7f4002431400>]"
            ]
          },
          "metadata": {
            "tags": []
          },
          "execution_count": 4
        },
        {
          "output_type": "display_data",
          "data": {
            "image/png": "[encoded data removed]",
            "text/plain": [
              "<Figure size 432x288 with 1 Axes>"
            ]
          },
          "metadata": {
            "tags": []
          }
        }
      ]
    },
    {
      "cell_type": "code",
      "metadata": {
        "id": "2RKCv5QhxJrB",
        "outputId": "460d553d-9baa-433a-cf6e-65e00fd49247"
      },
      "source": [
        "plt.figure()\n",
        "plt.plot(4,3,'*')\n",
        "ax = plt.gca()\n",
        "ax.axis([0,5,0,10])"
      ],
      "execution_count": null,
      "outputs": [
        {
          "output_type": "execute_result",
          "data": {
            "text/plain": [
              "[0, 5, 0, 10]"
            ]
          },
          "metadata": {
            "tags": []
          },
          "execution_count": 5
        },
        {
          "output_type": "display_data",
          "data": {
            "image/png": "[encoded data removed]",
            "text/plain": [
              "<Figure size 432x288 with 1 Axes>"
            ]
          },
          "metadata": {
            "tags": []
          }
        }
      ]
    },
    {
      "cell_type": "code",
      "metadata": {
        "id": "rPmrj9qkxJrB",
        "outputId": "ce801ed7-1b88-4c26-bce8-8d6e67fcd493"
      },
      "source": [
        "ax.get_children()"
      ],
      "execution_count": null,
      "outputs": [
        {
          "output_type": "execute_result",
          "data": {
            "text/plain": [
              "[<matplotlib.lines.Line2D at 0x7f4000b0cfd0>,\n",
              " <matplotlib.spines.Spine at 0x7f4000b5d828>,\n",
              " <matplotlib.spines.Spine at 0x7f4000b68f60>,\n",
              " <matplotlib.spines.Spine at 0x7f4000b68e80>,\n",
              " <matplotlib.spines.Spine at 0x7f4000b68cc0>,\n",
              " <matplotlib.axis.XAxis at 0x7f4000b5df60>,\n",
              " <matplotlib.axis.YAxis at 0x7f4000b680f0>,\n",
              " Text(0.5, 1.0, ''),\n",
              " Text(0.0, 1.0, ''),\n",
              " Text(1.0, 1.0, ''),\n",
              " <matplotlib.patches.Rectangle at 0x7f4000b00b38>]"
            ]
          },
          "metadata": {
            "tags": []
          },
          "execution_count": 6
        }
      ]
    },
    {
      "cell_type": "code",
      "metadata": {
        "id": "WAf2zYtLxJrB",
        "outputId": "8d6e4167-a122-4338-f961-c5f0ee6237b8"
      },
      "source": [
        "plt.figure()\n",
        "plt.plot(4,3,'*')\n",
        "plt.plot(7,2,'*')\n",
        "plt.plot(2,7,'*')"
      ],
      "execution_count": null,
      "outputs": [
        {
          "output_type": "execute_result",
          "data": {
            "text/plain": [
              "[<matplotlib.lines.Line2D at 0x7f4000ae1d68>]"
            ]
          },
          "metadata": {
            "tags": []
          },
          "execution_count": 7
        },
        {
          "output_type": "display_data",
          "data": {
            "image/png": "[encoded data removed]",
            "text/plain": [
              "<Figure size 432x288 with 1 Axes>"
            ]
          },
          "metadata": {
            "tags": []
          }
        }
      ]
    },
    {
      "cell_type": "code",
      "metadata": {
        "id": "iahbmCyMxJrD",
        "outputId": "db4ebaed-5a51-42af-afa9-5c3f49299f78"
      },
      "source": [
        "plt.figure()\n",
        "plt.plot(4,3,'*')\n",
        "plt.plot(7,2,'*')\n",
        "plt.plot(2,7,'*')\n",
        "ax = plt.gca()\n",
        "ax.get_children()"
      ],
      "execution_count": null,
      "outputs": [
        {
          "output_type": "execute_result",
          "data": {
            "text/plain": [
              "[<matplotlib.lines.Line2D at 0x7f4000a4c080>,\n",
              " <matplotlib.lines.Line2D at 0x7f4000a9e4a8>,\n",
              " <matplotlib.lines.Line2D at 0x7f4000a4c4a8>,\n",
              " <matplotlib.spines.Spine at 0x7f4000a6d7f0>,\n",
              " <matplotlib.spines.Spine at 0x7f4000a91a90>,\n",
              " <matplotlib.spines.Spine at 0x7f4000a91f28>,\n",
              " <matplotlib.spines.Spine at 0x7f4000a91fd0>,\n",
              " <matplotlib.axis.XAxis at 0x7f4000a6d710>,\n",
              " <matplotlib.axis.YAxis at 0x7f4000a7fbe0>,\n",
              " Text(0.5, 1.0, ''),\n",
              " Text(0.0, 1.0, ''),\n",
              " Text(1.0, 1.0, ''),\n",
              " <matplotlib.patches.Rectangle at 0x7f4000a32ac8>]"
            ]
          },
          "metadata": {
            "tags": []
          },
          "execution_count": 8
        },
        {
          "output_type": "display_data",
          "data": {
            "image/png": "[encoded data removed]",
            "text/plain": [
              "<Figure size 432x288 with 1 Axes>"
            ]
          },
          "metadata": {
            "tags": []
          }
        }
      ]
    },
    {
      "cell_type": "code",
      "metadata": {
        "id": "LZc8OxnExJrE",
        "outputId": "7dd6c11d-57ad-4504-eda7-0053797bf31d"
      },
      "source": [
        "plt.plot([1, 2, 3, 4,5],'*')\n",
        "plt.ylabel('numbers')\n",
        "plt.show()"
      ],
      "execution_count": null,
      "outputs": [
        {
          "output_type": "display_data",
          "data": {
            "image/png": "[encoded data removed]",
            "text/plain": [
              "<Figure size 432x288 with 1 Axes>"
            ]
          },
          "metadata": {
            "tags": []
          }
        }
      ]
    },
    {
      "cell_type": "code",
      "metadata": {
        "id": "mnF1SGiJxJrF",
        "outputId": "e8f49c1e-f849-4a9a-e9c8-4ef04afbb1c5"
      },
      "source": [
        "plt.plot([1, 2, 3, 4,5])\n",
        "plt.ylabel('numbers')\n",
        "plt.show()"
      ],
      "execution_count": null,
      "outputs": [
        {
          "output_type": "display_data",
          "data": {
            "image/png": "[encoded data removed]",
            "text/plain": [
              "<Figure size 432x288 with 1 Axes>"
            ]
          },
          "metadata": {
            "tags": []
          }
        }
      ]
    },
    {
      "cell_type": "code",
      "metadata": {
        "id": "spaApUuYxJrF",
        "outputId": "60541dcb-8295-4feb-87e6-57d9eebdc415"
      },
      "source": [
        "plt.plot([1, 2, 3, 4], [1, 7, 9, 19], 'yo')\n",
        "plt.axis([0, 5, 0, 30])\n",
        "plt.show()"
      ],
      "execution_count": null,
      "outputs": [
        {
          "output_type": "display_data",
          "data": {
            "image/png": "[encoded data removed]",
            "text/plain": [
              "<Figure size 432x288 with 1 Axes>"
            ]
          },
          "metadata": {
            "tags": []
          }
        }
      ]
    },
    {
      "cell_type": "markdown",
      "metadata": {
        "id": "QnEUkcD8yT5n"
      },
      "source": [
        "**Plotting a numpy array**"
      ]
    },
    {
      "cell_type": "code",
      "metadata": {
        "id": "fr5NT6oAxJrG"
      },
      "source": [
        "import numpy as np"
      ],
      "execution_count": null,
      "outputs": []
    },
    {
      "cell_type": "code",
      "metadata": {
        "colab": {
          "base_uri": "https://localhost:8080/",
          "height": 282
        },
        "id": "O1Z4PK7QxJrG",
        "outputId": "125ad2ed-cda7-48cb-9f29-739e5509e102"
      },
      "source": [
        "a = np.array([1,2,3,4,5])\n",
        "b = a\n",
        "plt.figure()\n",
        "plt.scatter(a,b)"
      ],
      "execution_count": null,
      "outputs": [
        {
          "output_type": "execute_result",
          "data": {
            "text/plain": [
              "<matplotlib.collections.PathCollection at 0x7f0b66f3eb10>"
            ]
          },
          "metadata": {
            "tags": []
          },
          "execution_count": 11
        },
        {
          "output_type": "display_data",
          "data": {
            "image/png": "[encoded data removed]",
            "text/plain": [
              "<Figure size 432x288 with 1 Axes>"
            ]
          },
          "metadata": {
            "tags": []
          }
        }
      ]
    },
    {
      "cell_type": "code",
      "metadata": {
        "colab": {
          "base_uri": "https://localhost:8080/",
          "height": 282
        },
        "id": "h_fR2EftxJrH",
        "outputId": "9d045672-4957-4886-e317-89921140063f"
      },
      "source": [
        "a = np.array([1,2,3,4,5])\n",
        "b = a\n",
        "#color = ['blue']*(len(a)-1)\n",
        "#color.append('red')\n",
        "color=['blue','red','blue','red','blue']\n",
        "plt.figure()\n",
        "plt.scatter(a,b, s = 200, c = color)"
      ],
      "execution_count": null,
      "outputs": [
        {
          "output_type": "execute_result",
          "data": {
            "text/plain": [
              "<matplotlib.collections.PathCollection at 0x7f0b66957210>"
            ]
          },
          "metadata": {
            "tags": []
          },
          "execution_count": 12
        },
        {
          "output_type": "display_data",
          "data": {
            "image/png": "[encoded data removed]",
            "text/plain": [
              "<Figure size 432x288 with 1 Axes>"
            ]
          },
          "metadata": {
            "tags": []
          }
        }
      ]
    },
    {
      "cell_type": "markdown",
      "metadata": {
        "id": "e5EFVPStxJrI"
      },
      "source": [
        "**Generating pairwise data**"
      ]
    },
    {
      "cell_type": "code",
      "metadata": {
        "colab": {
          "base_uri": "https://localhost:8080/"
        },
        "id": "9IFRKnJTxJrI",
        "outputId": "ab7cec70-a8a9-4de9-f413-3c6b2bba7a10"
      },
      "source": [
        "zip_generator = zip([1,3,5,7],[2,4,6,8])\n",
        "myzip=list(zip_generator)\n",
        "myzip"
      ],
      "execution_count": null,
      "outputs": [
        {
          "output_type": "execute_result",
          "data": {
            "text/plain": [
              "[(1, 2), (3, 4), (5, 6), (7, 8)]"
            ]
          },
          "metadata": {
            "tags": []
          },
          "execution_count": 13
        }
      ]
    },
    {
      "cell_type": "markdown",
      "metadata": {
        "id": "9VNXZacWxJrJ"
      },
      "source": [
        "To unzip"
      ]
    },
    {
      "cell_type": "code",
      "metadata": {
        "colab": {
          "base_uri": "https://localhost:8080/"
        },
        "id": "2ebExH8ZxJrJ",
        "outputId": "266a2efb-92ef-4c04-fab8-7abba3e741ac"
      },
      "source": [
        "zip_generator = zip([1,3,5,7],[2,4,6,8])\n",
        "a, b = zip(*zip_generator)\n",
        "print(a)\n",
        "print(b)"
      ],
      "execution_count": null,
      "outputs": [
        {
          "output_type": "stream",
          "text": [
            "(1, 3, 5, 7)\n",
            "(2, 4, 6, 8)\n"
          ],
          "name": "stdout"
        }
      ]
    },
    {
      "cell_type": "code",
      "metadata": {
        "colab": {
          "base_uri": "https://localhost:8080/",
          "height": 282
        },
        "id": "-cjYBIkDxJrJ",
        "outputId": "c4492a38-bb71-44b4-c4ed-6e42353525ba"
      },
      "source": [
        "plt.figure()\n",
        "plt.scatter(a[:2],b[:2], s = 200, c = 'red', label= 'data1')\n",
        "plt.scatter(a[2:],b[2:], s = 200, c = 'yellow', label= 'data2')\n"
      ],
      "execution_count": null,
      "outputs": [
        {
          "output_type": "execute_result",
          "data": {
            "text/plain": [
              "<matplotlib.collections.PathCollection at 0x7f0b66896410>"
            ]
          },
          "metadata": {
            "tags": []
          },
          "execution_count": 15
        },
        {
          "output_type": "display_data",
          "data": {
            "image/png": "[encoded data removed]",
            "text/plain": [
              "<Figure size 432x288 with 1 Axes>"
            ]
          },
          "metadata": {
            "tags": []
          }
        }
      ]
    },
    {
      "cell_type": "code",
      "metadata": {
        "colab": {
          "base_uri": "https://localhost:8080/",
          "height": 312
        },
        "id": "TuHcrbAxxJrK",
        "outputId": "e4d6d7db-ee05-4f0a-e625-2c3182b15f83"
      },
      "source": [
        "plt.figure()\n",
        "plt.scatter(a[:2],b[:2], s = 200, c = 'red', label= 'data1')\n",
        "plt.scatter(a[2:],b[2:], s = 200, c = 'yellow', label= 'data2')\n",
        "plt.xlabel('the data on x')\n",
        "plt.ylabel('the data on y')\n",
        "plt.title('data')"
      ],
      "execution_count": null,
      "outputs": [
        {
          "output_type": "execute_result",
          "data": {
            "text/plain": [
              "Text(0.5, 1.0, 'data')"
            ]
          },
          "metadata": {
            "tags": []
          },
          "execution_count": 16
        },
        {
          "output_type": "display_data",
          "data": {
            "image/png": "[encoded data removed]",
            "text/plain": [
              "<Figure size 432x288 with 1 Axes>"
            ]
          },
          "metadata": {
            "tags": []
          }
        }
      ]
    },
    {
      "cell_type": "code",
      "metadata": {
        "colab": {
          "base_uri": "https://localhost:8080/",
          "height": 312
        },
        "id": "Bb-N4L8VxJrK",
        "outputId": "d448cafe-b307-48ab-c2de-6b50d8f54dc7"
      },
      "source": [
        "plt.figure()\n",
        "plt.scatter(a[:2],b[:2], s = 200, c = 'red', label= 'data1')\n",
        "plt.scatter(a[2:],b[2:], s = 200, c = 'yellow', label= 'data2')\n",
        "plt.xlabel('the data on x')\n",
        "plt.ylabel('the data on y')\n",
        "plt.title('data')\n",
        "#plt.legend()\n",
        "plt.legend(loc=4, frameon=False, title='legend' )"
      ],
      "execution_count": null,
      "outputs": [
        {
          "output_type": "execute_result",
          "data": {
            "text/plain": [
              "<matplotlib.legend.Legend at 0x7f0b667e19d0>"
            ]
          },
          "metadata": {
            "tags": []
          },
          "execution_count": 17
        },
        {
          "output_type": "display_data",
          "data": {
            "image/png": "[encoded data removed]",
            "text/plain": [
              "<Figure size 432x288 with 1 Axes>"
            ]
          },
          "metadata": {
            "tags": []
          }
        }
      ]
    },
    {
      "cell_type": "code",
      "metadata": {
        "colab": {
          "base_uri": "https://localhost:8080/",
          "height": 443
        },
        "id": "LoL-KF4_xJrK",
        "outputId": "838fa14b-7514-4a59-ed8b-13ba8fa60c23"
      },
      "source": [
        "plt.gca().get_children()"
      ],
      "execution_count": null,
      "outputs": [
        {
          "output_type": "execute_result",
          "data": {
            "text/plain": [
              "[<matplotlib.spines.Spine at 0x7f0b667d2c10>,\n",
              " <matplotlib.spines.Spine at 0x7f0b667d2750>,\n",
              " <matplotlib.spines.Spine at 0x7f0b667d2450>,\n",
              " <matplotlib.spines.Spine at 0x7f0b667d20d0>,\n",
              " <matplotlib.axis.XAxis at 0x7f0b667d2e10>,\n",
              " <matplotlib.axis.YAxis at 0x7f0b667b89d0>,\n",
              " Text(0.5, 1.0, ''),\n",
              " Text(0.0, 1.0, ''),\n",
              " Text(1.0, 1.0, ''),\n",
              " <matplotlib.patches.Rectangle at 0x7f0b66765110>]"
            ]
          },
          "metadata": {
            "tags": []
          },
          "execution_count": 18
        },
        {
          "output_type": "display_data",
          "data": {
            "image/png": "[encoded data removed]",
            "text/plain": [
              "<Figure size 432x288 with 1 Axes>"
            ]
          },
          "metadata": {
            "tags": []
          }
        }
      ]
    },
    {
      "cell_type": "code",
      "metadata": {
        "colab": {
          "base_uri": "https://localhost:8080/",
          "height": 300
        },
        "id": "vfh69Vu9xJrL",
        "outputId": "d6775d61-7007-4e1f-fc1d-9691cd56c930"
      },
      "source": [
        "lineardata = np.array([1,2,3,4,5])\n",
        "qubedata = lineardata**3\n",
        "plt.figure()\n",
        "plt.plot(lineardata, '-o', qubedata, '-o')\n",
        "#plt.plot([10,20,30,40], '--b')\n",
        "#plt.xlabel('number of points')\n",
        "#plt.ylabel('values')\n",
        "#plt.title('the plot')\n",
        "#plt.legend(['series1', 'series2', 'series3'])"
      ],
      "execution_count": null,
      "outputs": [
        {
          "output_type": "execute_result",
          "data": {
            "text/plain": [
              "[<matplotlib.lines.Line2D at 0x7f0b6673e990>,\n",
              " <matplotlib.lines.Line2D at 0x7f0b666d9a90>]"
            ]
          },
          "metadata": {
            "tags": []
          },
          "execution_count": 19
        },
        {
          "output_type": "display_data",
          "data": {
            "image/png": "[encoded data removed]",
            "text/plain": [
              "<Figure size 432x288 with 1 Axes>"
            ]
          },
          "metadata": {
            "tags": []
          }
        }
      ]
    },
    {
      "cell_type": "code",
      "metadata": {
        "colab": {
          "base_uri": "https://localhost:8080/",
          "height": 282
        },
        "id": "1XbP-yuexJrM",
        "outputId": "5de689e6-daab-42e2-8bd2-445ac7a889d2"
      },
      "source": [
        "plt.gca().fill_between(range(len(lineardata)), lineardata, qubedata, facecolor='red', alpha=0.50)"
      ],
      "execution_count": null,
      "outputs": [
        {
          "output_type": "execute_result",
          "data": {
            "text/plain": [
              "<matplotlib.collections.PolyCollection at 0x7f0b666542d0>"
            ]
          },
          "metadata": {
            "tags": []
          },
          "execution_count": 20
        },
        {
          "output_type": "display_data",
          "data": {
            "image/png": "[encoded data removed]",
            "text/plain": [
              "<Figure size 432x288 with 1 Axes>"
            ]
          },
          "metadata": {
            "tags": []
          }
        }
      ]
    },
    {
      "cell_type": "code",
      "metadata": {
        "colab": {
          "base_uri": "https://localhost:8080/",
          "height": 282
        },
        "id": "dclBqJJIxJrM",
        "outputId": "9f94064d-b160-43b9-8728-543046bbeacd"
      },
      "source": [
        "plt.figure()\n",
        "xval = range(len(lineardata))\n",
        "plt.bar(xval, lineardata, width=0.5)"
      ],
      "execution_count": null,
      "outputs": [
        {
          "output_type": "execute_result",
          "data": {
            "text/plain": [
              "<BarContainer object of 5 artists>"
            ]
          },
          "metadata": {
            "tags": []
          },
          "execution_count": 21
        },
        {
          "output_type": "display_data",
          "data": {
            "image/png": "[encoded data removed]",
            "text/plain": [
              "<Figure size 432x288 with 1 Axes>"
            ]
          },
          "metadata": {
            "tags": []
          }
        }
      ]
    },
    {
      "cell_type": "code",
      "metadata": {
        "colab": {
          "base_uri": "https://localhost:8080/"
        },
        "id": "4Nz-4wmhxJrM",
        "outputId": "5666d647-d9ee-4f82-f68a-325be8a430b2"
      },
      "source": [
        "xval"
      ],
      "execution_count": null,
      "outputs": [
        {
          "output_type": "execute_result",
          "data": {
            "text/plain": [
              "range(0, 5)"
            ]
          },
          "metadata": {
            "tags": []
          },
          "execution_count": 22
        }
      ]
    },
    {
      "cell_type": "code",
      "metadata": {
        "colab": {
          "base_uri": "https://localhost:8080/",
          "height": 282
        },
        "id": "VwKbfA-5xJrM",
        "outputId": "12083a2a-f441-45bc-94a2-34c52e544e2a"
      },
      "source": [
        "newx = []\n",
        "for f in xval:\n",
        "    newx.append(f+0.5)\n",
        "plt.bar(newx, qubedata, width=0.5, color = 'red')"
      ],
      "execution_count": null,
      "outputs": [
        {
          "output_type": "execute_result",
          "data": {
            "text/plain": [
              "<BarContainer object of 5 artists>"
            ]
          },
          "metadata": {
            "tags": []
          },
          "execution_count": 23
        },
        {
          "output_type": "display_data",
          "data": {
            "image/png": "[encoded data removed]",
            "text/plain": [
              "<Figure size 432x288 with 1 Axes>"
            ]
          },
          "metadata": {
            "tags": []
          }
        }
      ]
    },
    {
      "cell_type": "code",
      "metadata": {
        "id": "T6rwdvsWxJrN"
      },
      "source": [
        "from random import randint"
      ],
      "execution_count": null,
      "outputs": []
    },
    {
      "cell_type": "code",
      "metadata": {
        "colab": {
          "base_uri": "https://localhost:8080/",
          "height": 286
        },
        "id": "z3sa9QJGxJrN",
        "outputId": "818cf07d-1c56-4b2d-e739-5350c1f4e174"
      },
      "source": [
        "l_err = [randint(0,10) for g in range(len(lineardata))]\n",
        "plt.bar(xval, lineardata, width=0.5, color = 'red', yerr= l_err)"
      ],
      "execution_count": null,
      "outputs": [
        {
          "output_type": "execute_result",
          "data": {
            "text/plain": [
              "<BarContainer object of 5 artists>"
            ]
          },
          "metadata": {
            "tags": []
          },
          "execution_count": 25
        },
        {
          "output_type": "display_data",
          "data": {
            "image/png": "[encoded data removed]",
            "text/plain": [
              "<Figure size 432x288 with 1 Axes>"
            ]
          },
          "metadata": {
            "tags": []
          }
        }
      ]
    },
    {
      "cell_type": "code",
      "metadata": {
        "colab": {
          "base_uri": "https://localhost:8080/",
          "height": 282
        },
        "id": "lf45BzDQxJrO",
        "outputId": "12e42075-aa3f-4d36-8d3c-2aec4049d2e1"
      },
      "source": [
        "plt.figure()\n",
        "xval = range(len(lineardata))\n",
        "plt.bar(xval, lineardata, width=0.5, color='b')\n",
        "plt.bar(xval, lineardata, width=0.5, bottom=lineardata, color='r')"
      ],
      "execution_count": null,
      "outputs": [
        {
          "output_type": "execute_result",
          "data": {
            "text/plain": [
              "<BarContainer object of 5 artists>"
            ]
          },
          "metadata": {
            "tags": []
          },
          "execution_count": 26
        },
        {
          "output_type": "display_data",
          "data": {
            "image/png": "[encoded data removed]",
            "text/plain": [
              "<Figure size 432x288 with 1 Axes>"
            ]
          },
          "metadata": {
            "tags": []
          }
        }
      ]
    },
    {
      "cell_type": "code",
      "metadata": {
        "colab": {
          "base_uri": "https://localhost:8080/",
          "height": 282
        },
        "id": "jbCjstQoxJrO",
        "outputId": "5f2ae542-8b21-4959-e27e-49af28dfb5e1"
      },
      "source": [
        "plt.figure()\n",
        "xval = range(len(lineardata))\n",
        "plt.barh(xval, lineardata, height=0.5, color='b')\n",
        "plt.barh(xval, lineardata, height=0.5, left=lineardata, color='r')"
      ],
      "execution_count": null,
      "outputs": [
        {
          "output_type": "execute_result",
          "data": {
            "text/plain": [
              "<BarContainer object of 5 artists>"
            ]
          },
          "metadata": {
            "tags": []
          },
          "execution_count": 27
        },
        {
          "output_type": "display_data",
          "data": {
            "image/png": "[encoded data removed]",
            "text/plain": [
              "<Figure size 432x288 with 1 Axes>"
            ]
          },
          "metadata": {
            "tags": []
          }
        }
      ]
    },
    {
      "cell_type": "markdown",
      "metadata": {
        "id": "3Wjq9_FZyfKe"
      },
      "source": [
        "**Subplots**"
      ]
    },
    {
      "cell_type": "code",
      "metadata": {
        "colab": {
          "base_uri": "https://localhost:8080/",
          "height": 282
        },
        "id": "_DW7yG4_xJrP",
        "outputId": "7ad32ec8-bd36-4298-94f9-97ecaeda0add"
      },
      "source": [
        "plt.subplot(1,2,1)\n",
        "plt.plot(lineardata, '-o')\n",
        "plt.subplot(1,2,2)\n",
        "plt.plot(qubedata, '-o')\n",
        "#plt.subplot(1,2,1)\n",
        "#plt.plot(qubedata, '-x')"
      ],
      "execution_count": null,
      "outputs": [
        {
          "output_type": "execute_result",
          "data": {
            "text/plain": [
              "[<matplotlib.lines.Line2D at 0x7f0b663b7690>]"
            ]
          },
          "metadata": {
            "tags": []
          },
          "execution_count": 28
        },
        {
          "output_type": "display_data",
          "data": {
            "image/png": "[encoded data removed]",
            "text/plain": [
              "<Figure size 432x288 with 2 Axes>"
            ]
          },
          "metadata": {
            "tags": []
          }
        }
      ]
    },
    {
      "cell_type": "code",
      "metadata": {
        "colab": {
          "base_uri": "https://localhost:8080/",
          "height": 282
        },
        "id": "nYXqRH70xJrP",
        "outputId": "fd25688d-36d5-48d1-e31e-8116e7e99c74"
      },
      "source": [
        "plt.figure()\n",
        "x1 = plt.subplot(1,2,1)\n",
        "plt.plot(lineardata, '-o')\n",
        "x2 = plt.subplot(1,2,2, sharey = x1)\n",
        "plt.plot(qubedata, '-*')\n"
      ],
      "execution_count": null,
      "outputs": [
        {
          "output_type": "execute_result",
          "data": {
            "text/plain": [
              "[<matplotlib.lines.Line2D at 0x7f0b663097d0>]"
            ]
          },
          "metadata": {
            "tags": []
          },
          "execution_count": 29
        },
        {
          "output_type": "display_data",
          "data": {
            "image/png": "[encoded data removed]",
            "text/plain": [
              "<Figure size 432x288 with 2 Axes>"
            ]
          },
          "metadata": {
            "tags": []
          }
        }
      ]
    },
    {
      "cell_type": "code",
      "metadata": {
        "colab": {
          "base_uri": "https://localhost:8080/",
          "height": 286
        },
        "id": "5kjaeLK-xJrP",
        "outputId": "e203bc13-dbd3-481e-b54c-bf43f51fce0f"
      },
      "source": [
        "fig, ((ax1,ax2,ax3), (ax3,ax4,ax5), (ax6,ax7,ax8))= plt.subplots(3,3,sharex=True, sharey=False)\n",
        "ax7.plot(lineardata, '--x')"
      ],
      "execution_count": null,
      "outputs": [
        {
          "output_type": "execute_result",
          "data": {
            "text/plain": [
              "[<matplotlib.lines.Line2D at 0x7f0b66309f10>]"
            ]
          },
          "metadata": {
            "tags": []
          },
          "execution_count": 30
        },
        {
          "output_type": "display_data",
          "data": {
            "image/png": "[encoded data removed]",
            "text/plain": [
              "<Figure size 432x288 with 9 Axes>"
            ]
          },
          "metadata": {
            "tags": []
          }
        }
      ]
    },
    {
      "cell_type": "markdown",
      "metadata": {
        "id": "PvgWLj5hyi8M"
      },
      "source": [
        "**Histograms**"
      ]
    },
    {
      "cell_type": "code",
      "metadata": {
        "colab": {
          "base_uri": "https://localhost:8080/",
          "height": 281
        },
        "id": "iglNk7ndxJrP",
        "outputId": "2d12f951-f41c-4ecf-a95c-6bd1cd335daf"
      },
      "source": [
        "fig, ((ax1,ax2), (ax3,ax4))= plt.subplots(2,2,sharex=True, sharey=False)\n",
        "ax = [ax1, ax2, ax3, ax4]\n",
        "\n",
        "for n in range(0, len(ax)):\n",
        "    sample_size = 10**(n+1)\n",
        "    sample = np.random.normal(loc=0.0, scale=1.0, size= sample_size)\n",
        "    ax[n].hist(sample)\n",
        "    ax[n].set_title('n={}'.format(sample_size))\n",
        "\n",
        "\n"
      ],
      "execution_count": null,
      "outputs": [
        {
          "output_type": "display_data",
          "data": {
            "image/png": "[encoded data removed]",
            "text/plain": [
              "<Figure size 432x288 with 4 Axes>"
            ]
          },
          "metadata": {
            "tags": []
          }
        }
      ]
    },
    {
      "cell_type": "code",
      "metadata": {
        "colab": {
          "base_uri": "https://localhost:8080/",
          "height": 281
        },
        "id": "r1wmLApCxJrQ",
        "outputId": "cccc15a3-843b-4c4a-89d9-2f967585872a"
      },
      "source": [
        "fig, ((ax1,ax2), (ax3,ax4))= plt.subplots(2,2,sharex=True, sharey=False)\n",
        "ax = [ax1, ax2, ax3, ax4]\n",
        "\n",
        "for n in range(0, len(ax)):\n",
        "    sample_size = 10**(n+1)\n",
        "    sample = np.random.normal(loc=0.0, scale=1.0, size= sample_size)\n",
        "    ax[n].hist(sample, bins=100)\n",
        "    ax[n].set_title('n={}'.format(sample_size))"
      ],
      "execution_count": null,
      "outputs": [
        {
          "output_type": "display_data",
          "data": {
            "image/png": "[encoded data removed]",
            "text/plain": [
              "<Figure size 432x288 with 4 Axes>"
            ]
          },
          "metadata": {
            "tags": []
          }
        }
      ]
    },
    {
      "cell_type": "code",
      "metadata": {
        "colab": {
          "base_uri": "https://localhost:8080/",
          "height": 282
        },
        "id": "IXosU0v5xJrQ",
        "outputId": "0f7403a1-a24a-409c-c1ff-c34aa5f1e861"
      },
      "source": [
        "plt.figure()\n",
        "sample = np.random.normal(loc=0.0, scale=1.0, size= 1000)\n",
        "sample1 = np.random.random(size= 1000)\n",
        "plt.scatter(sample, sample1)"
      ],
      "execution_count": null,
      "outputs": [
        {
          "output_type": "execute_result",
          "data": {
            "text/plain": [
              "<matplotlib.collections.PathCollection at 0x7f0b6578f990>"
            ]
          },
          "metadata": {
            "tags": []
          },
          "execution_count": 33
        },
        {
          "output_type": "display_data",
          "data": {
            "image/png": "[encoded data removed]",
            "text/plain": [
              "<Figure size 432x288 with 1 Axes>"
            ]
          },
          "metadata": {
            "tags": []
          }
        }
      ]
    },
    {
      "cell_type": "markdown",
      "metadata": {
        "id": "vnDujK-9ym_Q"
      },
      "source": [
        "**Heatmap**"
      ]
    },
    {
      "cell_type": "code",
      "metadata": {
        "colab": {
          "base_uri": "https://localhost:8080/",
          "height": 265
        },
        "id": "NMdYMnn5xJrR",
        "outputId": "f71de0d6-d3d2-41e1-a321-c95a346df670"
      },
      "source": [
        "plt.figure()\n",
        "sample = np.random.normal(loc=0.0, scale=1.0, size= 1000)\n",
        "sample1 = np.random.random(size= 1000)\n",
        "_=plt.hist2d(sample, sample1, bins=100)"
      ],
      "execution_count": null,
      "outputs": [
        {
          "output_type": "display_data",
          "data": {
            "image/png": "[encoded data removed]",
            "text/plain": [
              "<Figure size 432x288 with 1 Axes>"
            ]
          },
          "metadata": {
            "tags": []
          }
        }
      ]
    },
    {
      "cell_type": "markdown",
      "metadata": {
        "id": "U8k-CADkzIL3"
      },
      "source": [
        "**GridSpec**"
      ]
    },
    {
      "cell_type": "code",
      "metadata": {
        "id": "d4bHHPwtxJrR"
      },
      "source": [
        "import matplotlib.gridspec as gridspec"
      ],
      "execution_count": null,
      "outputs": []
    },
    {
      "cell_type": "code",
      "metadata": {
        "colab": {
          "base_uri": "https://localhost:8080/",
          "height": 269
        },
        "id": "u4VGUVGGxJrR",
        "outputId": "bb78edd3-9db7-4e85-a4df-3c0646638453"
      },
      "source": [
        "fig2 = plt.figure()\n",
        "spec2 = gridspec.GridSpec(ncols=2, nrows=3, figure=fig2)\n",
        "f2_ax1 = fig2.add_subplot(spec2[0, 0])\n",
        "f2_ax2 = fig2.add_subplot(spec2[0, 1])\n",
        "\n",
        "f2_ax3 = fig2.add_subplot(spec2[1, 0])\n",
        "f2_ax4 = fig2.add_subplot(spec2[1, 1])\n",
        "f2_ax3 = fig2.add_subplot(spec2[2, 0])\n",
        "f2_ax4 = fig2.add_subplot(spec2[2, 1])"
      ],
      "execution_count": null,
      "outputs": [
        {
          "output_type": "display_data",
          "data": {
            "image/png": "[encoded data removed]",
            "text/plain": [
              "<Figure size 432x288 with 6 Axes>"
            ]
          },
          "metadata": {
            "tags": []
          }
        }
      ]
    },
    {
      "cell_type": "code",
      "metadata": {
        "id": "XPcwl-ILxJrR"
      },
      "source": [
        "#fig1, f1_axes = plt.subplots(ncols=2, nrows=3, constrained_layout=True)"
      ],
      "execution_count": null,
      "outputs": []
    },
    {
      "cell_type": "code",
      "metadata": {
        "colab": {
          "base_uri": "https://localhost:8080/",
          "height": 330
        },
        "id": "nvuSvbAvxJrR",
        "outputId": "6e1bff4d-bddb-4273-c29e-21dcd39b79af"
      },
      "source": [
        "#The power of gridspec comes in being able to create subplots that span rows and columns\n",
        "fig3 = plt.figure(constrained_layout=True)\n",
        "gs = fig3.add_gridspec(3, 3)\n",
        "f3_ax1 = fig3.add_subplot(gs[0, :])\n",
        "f3_ax1.set_title('gs[0, :]')\n",
        "f3_ax2 = fig3.add_subplot(gs[1, :-1])\n",
        "f3_ax2.set_title('gs[1, :-1]')\n",
        "f3_ax3 = fig3.add_subplot(gs[1:, -1])\n",
        "f3_ax3.set_title('gs[1:, -1]')\n",
        "f3_ax4 = fig3.add_subplot(gs[-1, 0])\n",
        "f3_ax4.set_title('gs[-1, 0]')\n",
        "f3_ax5 = fig3.add_subplot(gs[-1, -2])\n",
        "f3_ax5.set_title('gs[-1, -2]')"
      ],
      "execution_count": null,
      "outputs": [
        {
          "output_type": "execute_result",
          "data": {
            "text/plain": [
              "Text(0.5, 1.0, 'gs[-1, -2]')"
            ]
          },
          "metadata": {
            "tags": []
          },
          "execution_count": 39
        },
        {
          "output_type": "display_data",
          "data": {
            "image/png": "[encoded data removed]",
            "text/plain": [
              "<Figure size 432x288 with 5 Axes>"
            ]
          },
          "metadata": {
            "tags": []
          }
        }
      ]
    },
    {
      "cell_type": "code",
      "metadata": {
        "colab": {
          "base_uri": "https://localhost:8080/",
          "height": 298
        },
        "id": "jgN4qGtgxJrS",
        "outputId": "4c2ae91f-7de4-494d-9eef-67f81eb4b503"
      },
      "source": [
        "import matplotlib.pyplot as plt\n",
        "#plt.plot([1,2,3,4])\n",
        "plt.plot([1,2,3,4],[1,4,9,16],'ro')\n",
        "plt.title('My first plot')\n",
        "plt.plot()\n",
        "plt.plot([1,2,4,2,1,0,1,2,1,4],linewidth=2.0)"
      ],
      "execution_count": null,
      "outputs": [
        {
          "output_type": "execute_result",
          "data": {
            "text/plain": [
              "[<matplotlib.lines.Line2D at 0x7f0b65f3d5d0>]"
            ]
          },
          "metadata": {
            "tags": []
          },
          "execution_count": 40
        },
        {
          "output_type": "display_data",
          "data": {
            "image/png": "[encoded data removed]",
            "text/plain": [
              "<Figure size 432x288 with 1 Axes>"
            ]
          },
          "metadata": {
            "tags": []
          }
        }
      ]
    },
    {
      "cell_type": "markdown",
      "metadata": {
        "id": "nLFFVBHwzMdF"
      },
      "source": [
        "**Horizontal Subplots**"
      ]
    },
    {
      "cell_type": "code",
      "metadata": {
        "colab": {
          "base_uri": "https://localhost:8080/",
          "height": 284
        },
        "id": "Tf5gREgoxJrS",
        "outputId": "4685188a-b949-40ae-f7f1-68ddaf197c4a"
      },
      "source": [
        "import numpy as np\n",
        "t = np.arange(0,5,0.1)\n",
        "y1 = np.sin(2*np.pi*t)\n",
        "y2 = np.sin(2*np.pi*t)\n",
        "plt.subplot(211)\n",
        "plt.plot(t,y1,'b-.')\n",
        "plt.subplot(212)\n",
        "plt.plot(t,y2,'r--')\n",
        "# Verical Slubplots 121 and 122"
      ],
      "execution_count": null,
      "outputs": [
        {
          "output_type": "execute_result",
          "data": {
            "text/plain": [
              "[<matplotlib.lines.Line2D at 0x7f0b5d4dcc50>]"
            ]
          },
          "metadata": {
            "tags": []
          },
          "execution_count": 41
        },
        {
          "output_type": "display_data",
          "data": {
            "image/png": "[encoded data removed]",
            "text/plain": [
              "<Figure size 432x288 with 2 Axes>"
            ]
          },
          "metadata": {
            "tags": []
          }
        }
      ]
    },
    {
      "cell_type": "code",
      "metadata": {
        "colab": {
          "base_uri": "https://localhost:8080/",
          "height": 312
        },
        "id": "NYt4GtQmxJrT",
        "outputId": "2f8e70fa-0e94-4159-df88-ee2fb70b0784"
      },
      "source": [
        "plt.axis([0,5,0,20])\n",
        "plt.title('My first plot')\n",
        "# plt.title('My first plot',fontsize=20,fontname='Times New Roman')\n",
        "plt.xlabel('Counting')\n",
        "plt.ylabel('Square values')\n",
        "plt.plot([1,2,3,4],[1,4,9,16],'ro')\n",
        "plt.text(1,1.5,'First')\n",
        "plt.text(2,4.5,'Second')\n",
        "plt.legend(['First series'])\n",
        "# The position of the legend can be changed based on the loc paramtere\n",
        "# Some values of loc are"
      ],
      "execution_count": null,
      "outputs": [
        {
          "output_type": "execute_result",
          "data": {
            "text/plain": [
              "<matplotlib.legend.Legend at 0x7f0b5d45fdd0>"
            ]
          },
          "metadata": {
            "tags": []
          },
          "execution_count": 42
        },
        {
          "output_type": "display_data",
          "data": {
            "image/png": "[encoded data removed]",
            "text/plain": [
              "<Figure size 432x288 with 1 Axes>"
            ]
          },
          "metadata": {
            "tags": []
          }
        }
      ]
    },
    {
      "cell_type": "code",
      "metadata": {
        "colab": {
          "base_uri": "https://localhost:8080/",
          "height": 282
        },
        "id": "MTq720CgxJrT",
        "outputId": "9d5ba86c-a9ae-4259-fa86-af7913467159"
      },
      "source": [
        "import matplotlib.pyplot as plt\n",
        "import numpy as np\n",
        "x = np.arange(-2*np.pi,2*np.pi,0.01)\n",
        "y = np.sin(3*x)/x\n",
        "y2 = np.sin(2*x)/x\n",
        "y3 = np.sin(4*x)/x\n",
        "plt.plot(x,y)\n",
        "plt.plot(x,y2)\n",
        "plt.plot(x,y3)"
      ],
      "execution_count": null,
      "outputs": [
        {
          "output_type": "execute_result",
          "data": {
            "text/plain": [
              "[<matplotlib.lines.Line2D at 0x7f0b5d3dd890>]"
            ]
          },
          "metadata": {
            "tags": []
          },
          "execution_count": 43
        },
        {
          "output_type": "display_data",
          "data": {
            "image/png": "[encoded data removed]",
            "text/plain": [
              "<Figure size 432x288 with 1 Axes>"
            ]
          },
          "metadata": {
            "tags": []
          }
        }
      ]
    },
    {
      "cell_type": "code",
      "metadata": {
        "colab": {
          "base_uri": "https://localhost:8080/",
          "height": 439
        },
        "id": "_MJqLnYDxJrT",
        "outputId": "3f146a94-e394-4e58-92e7-61f3932f03e3"
      },
      "source": [
        "# Histogram\n",
        "pop = np.random.randint(0,100,100)\n",
        "n,bins,patches = plt.hist(pop,bins=20)\n",
        "\n",
        "# Bar Chart\n",
        "index = np.arange(5)\n",
        "values1 = [5,7,3,4,6]\n",
        "plt.bar(index,values1)\n",
        "plt.xticks(index+0.4,['A','B','C','D','E'])"
      ],
      "execution_count": null,
      "outputs": [
        {
          "output_type": "execute_result",
          "data": {
            "text/plain": [
              "([<matplotlib.axis.XTick at 0x7f0b5d38c650>,\n",
              "  <matplotlib.axis.XTick at 0x7f0b5d3a8d50>,\n",
              "  <matplotlib.axis.XTick at 0x7f0b5d3a8410>,\n",
              "  <matplotlib.axis.XTick at 0x7f0b5d313a90>,\n",
              "  <matplotlib.axis.XTick at 0x7f0b5d313f10>],\n",
              " [Text(0, 0, 'A'),\n",
              "  Text(0, 0, 'B'),\n",
              "  Text(0, 0, 'C'),\n",
              "  Text(0, 0, 'D'),\n",
              "  Text(0, 0, 'E')])"
            ]
          },
          "metadata": {
            "tags": []
          },
          "execution_count": 44
        },
        {
          "output_type": "display_data",
          "data": {
            "image/png": "[encoded data removed]",
            "text/plain": [
              "<Figure size 432x288 with 1 Axes>"
            ]
          },
          "metadata": {
            "tags": []
          }
        }
      ]
    },
    {
      "cell_type": "code",
      "metadata": {
        "colab": {
          "base_uri": "https://localhost:8080/",
          "height": 265
        },
        "id": "9IWS-hICxJrU",
        "outputId": "9cb31bdd-dfbb-4115-a53e-31a2e8bc5e68"
      },
      "source": [
        "# Scatter plot\n",
        "rng = np.random.RandomState(0)\n",
        "x = rng.randn(100)\n",
        "y = rng.randn(100)\n",
        "colors = rng.rand(100)\n",
        "sizes = 500 * rng.rand(100)\n",
        "\n",
        "plt.scatter(x, y, c=colors, s=sizes, alpha=0.3,\n",
        "            cmap='viridis')\n",
        "plt.colorbar();  # show color scale"
      ],
      "execution_count": null,
      "outputs": [
        {
          "output_type": "display_data",
          "data": {
            "image/png": "[encoded data removed]",
            "text/plain": [
              "<Figure size 432x288 with 2 Axes>"
            ]
          },
          "metadata": {
            "tags": []
          }
        }
      ]
    },
    {
      "cell_type": "markdown",
      "metadata": {
        "id": "CELkXjjj0jqr"
      },
      "source": [
        "**Plotting on a pandas dataframe**"
      ]
    },
    {
      "cell_type": "code",
      "metadata": {
        "colab": {
          "background_save": true
        },
        "id": "7Zrul1Rg0kqw"
      },
      "source": [
        "#Uploading the file\n",
        "from google.colab import files\n",
        "uploaded = files.upload()"
      ],
      "execution_count": null,
      "outputs": []
    },
    {
      "cell_type": "code",
      "metadata": {
        "colab": {
          "base_uri": "https://localhost:8080/",
          "height": 333
        },
        "id": "T7yVnSzsxJrV",
        "outputId": "30879545-377b-4932-9c35-d8e7e0853234"
      },
      "source": [
        "# Import dataset\n",
        "import pandas as pd\n",
        "import io\n",
        "\n",
        "titan = pd.read_csv(io.BytesIO(uploaded['train.csv']))\n",
        "# Assignment 1 Draw the Age distribution of titanic passengers Histogram\n",
        "pop =titan['Age']\n",
        "plt.title('Titanic Passenger Age')\n",
        "n,bins,patches = plt.hist(pop,bins=5)\n",
        "\n",
        "\n",
        "# Assignment 2 Draw the survived and not survived age Histogram\n",
        "ns_age= titan['Age'][titan['Survived']==0].mean()\n",
        "s_age = titan['Age'][titan['Survived']==1].mean()\n",
        "index = np.arange(2)\n",
        "values1 = [ns_age,s_age]\n",
        "plt.bar(index,values1)\n",
        "plt.xticks(index+0.4,['NS','S'])"
      ],
      "execution_count": null,
      "outputs": [
        {
          "output_type": "execute_result",
          "data": {
            "text/plain": [
              "([<matplotlib.axis.XTick at 0x7f0b592fd7d0>,\n",
              "  <matplotlib.axis.XTick at 0x7f0b592fd3d0>],\n",
              " [Text(0, 0, 'NS'), Text(0, 0, 'S')])"
            ]
          },
          "metadata": {
            "tags": []
          },
          "execution_count": 49
        },
        {
          "output_type": "display_data",
          "data": {
            "image/png": "[encoded data removed]",
            "text/plain": [
              "<Figure size 432x288 with 1 Axes>"
            ]
          },
          "metadata": {
            "tags": []
          }
        }
      ]
    },
    {
      "cell_type": "markdown",
      "metadata": {
        "id": "kxrILtKPuIaW"
      },
      "source": [
        "# ---------------- THE END -----------------"
      ]
    }
  ]
}